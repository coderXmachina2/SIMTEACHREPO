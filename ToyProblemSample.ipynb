{
 "cells": [
  {
   "cell_type": "code",
   "execution_count": 55,
   "id": "4401825d",
   "metadata": {
    "scrolled": true
   },
   "outputs": [
    {
     "data": {
      "text/plain": [
       "<module 'pd_funcs.demo_funcs' from 'D:\\\\SIM_Teach\\\\Jan_14_class\\\\pd_funcs\\\\demo_funcs.py'>"
      ]
     },
     "execution_count": 55,
     "metadata": {},
     "output_type": "execute_result"
    }
   ],
   "source": [
    "#a lesson in toy problems and design thinking concepts...\n",
    "\n",
    "import datetime\n",
    "import importlib\n",
    "import pickle\n",
    "import scipy.stats\n",
    "\n",
    "import numpy as np  \n",
    "\n",
    "from pd_funcs import demo_funcs\n",
    "from astropy.time import Time\n",
    "\n",
    "importlib.reload(demo_funcs)"
   ]
  },
  {
   "cell_type": "code",
   "execution_count": null,
   "id": "6ec03f65",
   "metadata": {},
   "outputs": [],
   "source": []
  },
  {
   "cell_type": "code",
   "execution_count": 31,
   "id": "462bdabf",
   "metadata": {},
   "outputs": [],
   "source": [
    "data_artifact_a = [{'2015-03-05_nameA': [[1, -5, -3],\n",
    "   [0.8, 0.7, 0.4],\n",
    "   [5, 2, 8],\n",
    "   [0.1, 0.2, 0.3]]},\n",
    " {'2011-05-08_nameB': [[-3, 1, -4],\n",
    "   [0.1, 0.7, 0.3],\n",
    "   [1, 4, 2],\n",
    "   [0.1, 0.1, 0.3]]},\n",
    " {'2019-11-18_nameC': [[1, -1, 3],\n",
    "   [0.2, 0.5, 0.4],\n",
    "   [-1, 4, 6],\n",
    "   [0.2, 0.8, 0.2]]},\n",
    " {'2014-03-12_nameD': [[0, 2, 5],\n",
    "   [0.9, 0.6, 0.6],\n",
    "   [-2, 0, 1],\n",
    "   [0.6, 0.5, 0.6]]}]"
   ]
  },
  {
   "cell_type": "code",
   "execution_count": 29,
   "id": "94861358",
   "metadata": {},
   "outputs": [],
   "source": [
    "filenamea='1ddata_a.pickle'\n",
    "filenameab='1ddata_ab.pickle'\n",
    "\n",
    "data_artifact_a = demo_funcs.data_loader(filenamea)\n",
    "data_artifact_ab = demo_funcs.data_loader(filenameab)"
   ]
  },
  {
   "cell_type": "code",
   "execution_count": 30,
   "id": "71c8ed8e",
   "metadata": {},
   "outputs": [
    {
     "data": {
      "text/plain": [
       "[{'2015-03-05_nameA': [[1, -5, -3],\n",
       "   [0.8, 0.7, 0.4],\n",
       "   [5, 2, 8],\n",
       "   [0.1, 0.2, 0.3]]},\n",
       " {'2011-05-08_nameB': [[-3, 1, -4],\n",
       "   [0.1, 0.7, 0.3],\n",
       "   [1, 4, 2],\n",
       "   [0.1, 0.1, 0.3]]},\n",
       " {'2019-11-18_nameC': [[1, -1, 3],\n",
       "   [0.2, 0.5, 0.4],\n",
       "   [-1, 4, 6],\n",
       "   [0.2, 0.8, 0.2]]},\n",
       " {'2014-03-12_nameD': [[0, 2, 5],\n",
       "   [0.9, 0.6, 0.6],\n",
       "   [-2, 0, 1],\n",
       "   [0.6, 0.5, 0.6]]}]"
      ]
     },
     "execution_count": 30,
     "metadata": {},
     "output_type": "execute_result"
    }
   ],
   "source": [
    "data_artifact_a"
   ]
  },
  {
   "cell_type": "code",
   "execution_count": 22,
   "id": "c75f53ea",
   "metadata": {},
   "outputs": [
    {
     "data": {
      "text/plain": [
       "[{'2009-08-15_nameD': [[-1, 1, -4],\n",
       "   [0.4, 0.1, 0.2],\n",
       "   [4, 2, 4],\n",
       "   [0.4, 0.7, 0.1]]},\n",
       " {'2005-12-07_nameE': [[5, 4, -1],\n",
       "   [0.8, 0.7, 0.9],\n",
       "   [1, 3, 0],\n",
       "   [0.9, 0.6, 0.3]]},\n",
       " {'2001-03-22_nameF': [[-3, 2, 4],\n",
       "   [0.2, 0.5, 0.4],\n",
       "   [-3, -4, 1],\n",
       "   [0.2, 0.8, 0.2]]}]"
      ]
     },
     "execution_count": 22,
     "metadata": {},
     "output_type": "execute_result"
    }
   ],
   "source": [
    "data_artifact_ab"
   ]
  },
  {
   "cell_type": "code",
   "execution_count": 4,
   "id": "72941ccd",
   "metadata": {},
   "outputs": [
    {
     "name": "stdout",
     "output_type": "stream",
     "text": [
      "Length: 4\n"
     ]
    }
   ],
   "source": [
    "print(\"Length:\", len(data_artifact_a))#This can be variable\n",
    "\n",
    "#When we talk about having standardised structure for lists it should have some\n",
    "#features we want such as:\n",
    "#We can add to this, subtract(delete) data from it, slice it. Check its order "
   ]
  },
  {
   "cell_type": "code",
   "execution_count": 5,
   "id": "747b3668",
   "metadata": {},
   "outputs": [
    {
     "name": "stdout",
     "output_type": "stream",
     "text": [
      "7\n"
     ]
    }
   ],
   "source": [
    "#We can add\n",
    "data_artifact_a=data_artifact_a+data_artifact_ab\n",
    "print(len(data_artifact_a))\n",
    "\n",
    "#This wont work\n",
    "#data_artifact_a.append(data_artifact_ab)"
   ]
  },
  {
   "cell_type": "code",
   "execution_count": 6,
   "id": "8a9498ad",
   "metadata": {
    "scrolled": true
   },
   "outputs": [
    {
     "name": "stdout",
     "output_type": "stream",
     "text": [
      "6\n"
     ]
    }
   ],
   "source": [
    "#We can subtract\n",
    "del(data_artifact_a[6])\n",
    "print(len(data_artifact_a))"
   ]
  },
  {
   "cell_type": "code",
   "execution_count": 16,
   "id": "f57ce6a9",
   "metadata": {},
   "outputs": [
    {
     "data": {
      "image/png": "[encoded data removed]",
      "text/plain": [
       "<Figure size 432x288 with 1 Axes>"
      ]
     },
     "metadata": {
      "needs_background": "light"
     },
     "output_type": "display_data"
    },
    {
     "data": {
      "image/png": "[encoded data removed]",
      "text/plain": [
       "<Figure size 432x288 with 1 Axes>"
      ]
     },
     "metadata": {
      "needs_background": "light"
     },
     "output_type": "display_data"
    },
    {
     "data": {
      "image/png": "[encoded data removed]",
      "text/plain": [
       "<Figure size 432x288 with 1 Axes>"
      ]
     },
     "metadata": {
      "needs_background": "light"
     },
     "output_type": "display_data"
    }
   ],
   "source": [
    "#Suppose we design some finctions function surrounding this data artefact\n",
    "\n",
    "#One to plot\n",
    "demo_funcs.demo_plot(data_artifact_a, \n",
    "                     title = 'raw_data',\n",
    "                     verbose_data=False, \n",
    "                     mag_line=True)\n",
    "\n",
    "#One to make a computation on the artifact\n",
    "#We can show that the original data artefact can be changed if we do not do the copying\n",
    "mod_artifact = demo_funcs.demo_comp(data_artifact_a, [1, 2])\n",
    "\n",
    "#One to plot\n",
    "demo_funcs.demo_plot(mod_artifact, \n",
    "                     title = 'modified_data',\n",
    "                     verbose_data=False, \n",
    "                     mag_line=True)\n",
    "\n",
    "#We can even cascade it further \n",
    "mod_artifact_b = demo_funcs.demo_comp(mod_artifact, [1, 2])\n",
    "\n",
    "#One to plot\n",
    "demo_funcs.demo_plot(mod_artifact_b, \n",
    "                     title = 'modified_data',\n",
    "                     verbose_data=False, \n",
    "                     mag_line=True)"
   ]
  },
  {
   "cell_type": "code",
   "execution_count": 11,
   "id": "9a26b0bc",
   "metadata": {},
   "outputs": [
    {
     "data": {
      "image/png": "[encoded data removed]",
      "text/plain": [
       "<Figure size 432x288 with 1 Axes>"
      ]
     },
     "metadata": {
      "needs_background": "light"
     },
     "output_type": "display_data"
    }
   ],
   "source": [
    "#We can slice which is useful\n",
    "#One to plot\n",
    "demo_funcs.demo_plot(mod_artifact[1:-1], \n",
    "                     title = 'modified_data',\n",
    "                     verbose_data=False, \n",
    "                     mag_line=True)"
   ]
  },
  {
   "cell_type": "code",
   "execution_count": 42,
   "id": "673966a1",
   "metadata": {},
   "outputs": [],
   "source": [
    "#Now suppose a requirement came up that requires the artifact to be modified increasing it to 2D. \n",
    "#It could be anything. More data... Meta data. \n",
    "#\n",
    "#\n",
    "#For some reason you have to accomodate this 2D data structure in your data processing functions\n",
    "#How ould we write those modifications? How do you modify the functions to \n",
    "#take this\n",
    "#"
   ]
  },
  {
   "cell_type": "code",
   "execution_count": 38,
   "id": "c0807cce",
   "metadata": {
    "scrolled": false
   },
   "outputs": [
    {
     "data": {
      "text/plain": [
       "([{'2015-03-05_nameA': [[1, -5, -6],\n",
       "    [0.6, 0.7, 0.8],\n",
       "    [5, 2, -1],\n",
       "    [0.4, 0.6, 0.7]]},\n",
       "  {'2011-05-08_nameB': [[-3, 4, -2],\n",
       "    [0.8, 0.7, 0.5],\n",
       "    [-5, 2, -2],\n",
       "    [0.1, 0.1, 0.3]]},\n",
       "  {'2019-11-18_nameC': [[4, -2, 1],\n",
       "    [0.3, 0.5, 0.8],\n",
       "    [-1, 7, 1],\n",
       "    [0.8, 0.9, 0.2]]},\n",
       "  {'2014-05-21_nameD': [[1, -1, 7],\n",
       "    [0.6, 0.5, 0.8],\n",
       "    [-2, 4, -5],\n",
       "    [0.8, 0.9, 0.7]]}],\n",
       " [datetime.datetime(2015, 3, 5, 18, 21, 40, 865000),\n",
       "  datetime.datetime(2011, 5, 8, 18, 5, 3, 165000),\n",
       "  datetime.datetime(2019, 11, 18, 10, 3, 2, 245000),\n",
       "  datetime.datetime(2014, 5, 21, 15, 1, 4, 185000)])"
      ]
     },
     "execution_count": 38,
     "metadata": {},
     "output_type": "execute_result"
    }
   ],
   "source": [
    "#Then you have a new data artifact build on top of the first one\n",
    "data_artifact_2da = ([{'2015-03-05_nameA': [[1,-5,-6],\n",
    "                                        [.6,.7,.8],\n",
    "                                        [5,2,-1],\n",
    "                                        [.4,.6,.7]]},\n",
    "                   {'2011-05-08_nameB':[[-3,4,-2],\n",
    "                                        [.8,.7,.5],\n",
    "                                        [-5,2,-2],\n",
    "                                        [.1,.1,.3]]},\n",
    "                   {'2019-11-18_nameC':[[4,-2,1],\n",
    "                                        [.3,.5,.8],\n",
    "                                        [-1,7,1],\n",
    "                                        [.8,.9,.2]]},\n",
    "                   {'2014-05-21_nameD':[[1,-1,7],\n",
    "                                        [.6,.5,.8],\n",
    "                                        [-2,4,-5],\n",
    "                                        [.8,.9,.7]]}],\n",
    "                  [datetime.datetime(2015, 3, 5, 18, 21, 40, 865000),\n",
    "                   datetime.datetime(2011, 5, 8, 18, 5, 3, 165000),\n",
    "                   datetime.datetime(2019, 11, 18, 10, 3, 2, 245000),\n",
    "                   datetime.datetime(2014, 5, 21, 15, 1, 4, 185000)])\n",
    "\n",
    "#This is a two dimensional data. It is a tuple... it is immutable\n",
    "data_artifact_2da "
   ]
  },
  {
   "cell_type": "code",
   "execution_count": 40,
   "id": "979e8a85",
   "metadata": {},
   "outputs": [
    {
     "data": {
      "text/plain": [
       "([{'2015-03-05_nameA': [[1, -6, -10],\n",
       "    [0.3, 0.7, 0.4],\n",
       "    [5, 2, 8],\n",
       "    [0.1, 0.2, 0.3]]},\n",
       "  {'2011-05-08_nameB': [[-3, 1, -9],\n",
       "    [0.1, 0.7, 0.3],\n",
       "    [-10, 5, -20],\n",
       "    [0.1, 0.1, 0.3]]},\n",
       "  {'2019-11-18_nameC': [[1, -1, 9],\n",
       "    [0.2, 0.5, 0.4],\n",
       "    [-12, 6, 18],\n",
       "    [0.2, 0.8, 0.2]]}],\n",
       " [datetime.datetime(2015, 3, 5, 18, 21, 40, 865000),\n",
       "  datetime.datetime(2011, 5, 8, 18, 5, 3, 165000),\n",
       "  datetime.datetime(2019, 4, 18, 10, 3, 2, 245000),\n",
       "  datetime.datetime(2014, 5, 21, 15, 1, 4, 185000)])"
      ]
     },
     "execution_count": 40,
     "metadata": {},
     "output_type": "execute_result"
    }
   ],
   "source": [
    "#Here is a cool trick with string comprehensions\n",
    "\n",
    "input_data = [\"2015-03-05T18:21:40.865000\",\n",
    "              \"2011-05-08T18:05:3.165000\",\n",
    "              \"2019-04-18T10:03:2.245000\",\n",
    "              \"2014-05-21T15:01:4.185000\"]\n",
    "\n",
    "data_artifact_2da = ([{'2015-03-05_nameA': [[1,-6,-10],\n",
    "                                        [.3,.7,.4],\n",
    "                                        [5,2,8],\n",
    "                                        [.1,.2,.3]]},\n",
    "                   {'2011-05-08_nameB':[[-3,1,-9],\n",
    "                                        [.1,.7,.3],\n",
    "                                        [-10,5,-20],\n",
    "                                        [.1,.1,.3]]},\n",
    "                   {'2019-11-18_nameC':[[1,-1,9],\n",
    "                                        [.2,.5,.4],\n",
    "                                        [-12,6,18],\n",
    "                                        [.2,.8,.2]]}],\n",
    "                  [datetime.datetime.strptime(x, \"%Y-%m-%dT%H:%M:%S.%f\") for x in input_data])\n",
    "\n",
    "#This is a two dimensional data. It is a tuple... it is immutable\n",
    "data_artifact_2da"
   ]
  },
  {
   "cell_type": "code",
   "execution_count": 35,
   "id": "9383b125",
   "metadata": {},
   "outputs": [],
   "source": []
  },
  {
   "cell_type": "code",
   "execution_count": 42,
   "id": "493b2907",
   "metadata": {},
   "outputs": [],
   "source": [
    "#We can load like before\n",
    "filenamea='2ddata_a.pickle'\n",
    "filenameab='2ddata_ab.pickle'\n",
    "\n",
    "data_artifact2d_a = demo_funcs.data_loader(filenamea)\n",
    "data_artifact2d_ab = demo_funcs.data_loader(filenameab)"
   ]
  },
  {
   "cell_type": "code",
   "execution_count": 47,
   "id": "e5edddee",
   "metadata": {},
   "outputs": [
    {
     "name": "stdout",
     "output_type": "stream",
     "text": [
      "Length: 2\n"
     ]
    }
   ],
   "source": [
    "#The length is 2 which is to be expected\n",
    "\n",
    "print(\"Length:\", len(data_artifact2d_a))"
   ]
  },
  {
   "cell_type": "code",
   "execution_count": 36,
   "id": "274eb425",
   "metadata": {},
   "outputs": [
    {
     "data": {
      "text/plain": [
       "([{'2021-12-02_nameA': [[-4, -6, 4],\n",
       "    [0.6, 0.7, 0.8],\n",
       "    [4, -3, -8],\n",
       "    [0.6, 0.7, 0.8]]},\n",
       "  {'2022-05-04_nameB': [[-1, 1, -10],\n",
       "    [0.6, 0.9, 0.6],\n",
       "    [-10, 5, -2],\n",
       "    [0.7, 0.5, 0.6]]},\n",
       "  {'2022-06-07_nameC': [[4, 0.1, 8],\n",
       "    [0.7, 0.7, 0.8],\n",
       "    [-2, 5, 2],\n",
       "    [0.8, 0.9, 0.4]]}],\n",
       " [datetime.datetime(2021, 12, 2, 18, 21, 40, 865000),\n",
       "  datetime.datetime(2022, 5, 4, 18, 5, 3, 165000),\n",
       "  datetime.datetime(2022, 6, 7, 10, 3, 2, 245000)])"
      ]
     },
     "execution_count": 36,
     "metadata": {},
     "output_type": "execute_result"
    }
   ],
   "source": [
    "data_artifact2d_ab"
   ]
  },
  {
   "cell_type": "code",
   "execution_count": 54,
   "id": "8e4bb616",
   "metadata": {
    "scrolled": true
   },
   "outputs": [
    {
     "ename": "AttributeError",
     "evalue": "'list' object has no attribute 'keys'",
     "output_type": "error",
     "traceback": [
      "\u001b[1;31m---------------------------------------------------------------------------\u001b[0m",
      "\u001b[1;31mAttributeError\u001b[0m                            Traceback (most recent call last)",
      "Input \u001b[1;32mIn [54]\u001b[0m, in \u001b[0;36m<cell line: 4>\u001b[1;34m()\u001b[0m\n\u001b[0;32m      1\u001b[0m \u001b[38;5;66;03m#If we put this in our preexisting function... things will break as expected.\u001b[39;00m\n\u001b[0;32m      2\u001b[0m \u001b[38;5;66;03m#A simple modification can get it to work\u001b[39;00m\n\u001b[1;32m----> 4\u001b[0m \u001b[43mdemo_funcs\u001b[49m\u001b[38;5;241;43m.\u001b[39;49m\u001b[43mdemo_plot\u001b[49m\u001b[43m(\u001b[49m\u001b[43mdata_artifact2d_a\u001b[49m\u001b[43m,\u001b[49m\u001b[43m \u001b[49m\n\u001b[0;32m      5\u001b[0m \u001b[43m                     \u001b[49m\u001b[43mtitle\u001b[49m\u001b[43m \u001b[49m\u001b[38;5;241;43m=\u001b[39;49m\u001b[43m \u001b[49m\u001b[38;5;124;43m'\u001b[39;49m\u001b[38;5;124;43mraw_data\u001b[39;49m\u001b[38;5;124;43m'\u001b[39;49m\u001b[43m,\u001b[49m\n\u001b[0;32m      6\u001b[0m \u001b[43m                     \u001b[49m\u001b[43mverbose_data\u001b[49m\u001b[38;5;241;43m=\u001b[39;49m\u001b[38;5;28;43;01mFalse\u001b[39;49;00m\u001b[43m,\u001b[49m\u001b[43m \u001b[49m\n\u001b[0;32m      7\u001b[0m \u001b[43m                     \u001b[49m\u001b[43mmag_line\u001b[49m\u001b[38;5;241;43m=\u001b[39;49m\u001b[38;5;28;43;01mTrue\u001b[39;49;00m\u001b[43m)\u001b[49m\n",
      "File \u001b[1;32mD:\\SIM_Teach\\Jan_14_class\\pd_funcs\\demo_funcs.py:35\u001b[0m, in \u001b[0;36mdemo_plot\u001b[1;34m(input_data, title, verbose_data, verbose_plot_mag_line, mag_line)\u001b[0m\n\u001b[0;32m     33\u001b[0m \u001b[38;5;66;03m#Intermediary processing operation. What has been packaged needs to be unpackaged\u001b[39;00m\n\u001b[0;32m     34\u001b[0m \u001b[38;5;28;01mfor\u001b[39;00m dats \u001b[38;5;129;01min\u001b[39;00m input_data:\t\t\n\u001b[1;32m---> 35\u001b[0m \tx_bar\u001b[38;5;241m.\u001b[39mappend( np\u001b[38;5;241m.\u001b[39mmean(np\u001b[38;5;241m.\u001b[39marray(dats[\u001b[38;5;28mlist\u001b[39m(\u001b[43mdats\u001b[49m\u001b[38;5;241;43m.\u001b[39;49m\u001b[43mkeys\u001b[49m())[\u001b[38;5;241m0\u001b[39m]][\u001b[38;5;241m0\u001b[39m]))   )\n\u001b[0;32m     36\u001b[0m \txerr_bar\u001b[38;5;241m.\u001b[39mappend( np\u001b[38;5;241m.\u001b[39mmean(np\u001b[38;5;241m.\u001b[39marray(dats[\u001b[38;5;28mlist\u001b[39m(dats\u001b[38;5;241m.\u001b[39mkeys())[\u001b[38;5;241m0\u001b[39m]][\u001b[38;5;241m3\u001b[39m])  )      )\n\u001b[0;32m     37\u001b[0m \ty_bar\u001b[38;5;241m.\u001b[39mappend( np\u001b[38;5;241m.\u001b[39mmean(np\u001b[38;5;241m.\u001b[39marray(dats[\u001b[38;5;28mlist\u001b[39m(dats\u001b[38;5;241m.\u001b[39mkeys())[\u001b[38;5;241m0\u001b[39m]][\u001b[38;5;241m2\u001b[39m]) )    )\n",
      "\u001b[1;31mAttributeError\u001b[0m: 'list' object has no attribute 'keys'"
     ]
    }
   ],
   "source": [
    "#If we put this in our preexisting function... things will break as expected.\n",
    "#A simple modification can get it to work\n",
    "\n",
    "demo_funcs.demo_plot(data_artifact2d_a, \n",
    "                     title = 'raw_data',\n",
    "                     verbose_data=False, \n",
    "                     mag_line=True)\n"
   ]
  },
  {
   "cell_type": "code",
   "execution_count": 52,
   "id": "24019385",
   "metadata": {},
   "outputs": [
    {
     "name": "stdout",
     "output_type": "stream",
     "text": [
      "2015-03-05_nameA\n",
      "Unexpected exception formatting exception. Falling back to standard exception\n"
     ]
    },
    {
     "name": "stderr",
     "output_type": "stream",
     "text": [
      "Traceback (most recent call last):\n",
      "  File \"D:\\Anaconda\\lib\\site-packages\\IPython\\core\\interactiveshell.py\", line 3369, in run_code\n",
      "    exec(code_obj, self.user_global_ns, self.user_ns)\n",
      "  File \"C:\\Users\\ahami\\AppData\\Local\\Temp\\ipykernel_11364\\1741417093.py\", line 2, in <cell line: 2>\n",
      "    demo_funcs.demo_plot2d(data_artifact_a,\n",
      "  File \"D:\\SIM_Teach\\Jan_14_class\\pd_funcs\\demo_funcs.py\", line 94, in demo_plot2d\n",
      "    x_bar.append( np.mean(np.array(dats[list(dats.keys())[0]][0]))   )\n",
      "AttributeError: 'str' object has no attribute 'keys'\n",
      "\n",
      "During handling of the above exception, another exception occurred:\n",
      "\n",
      "Traceback (most recent call last):\n",
      "  File \"D:\\Anaconda\\lib\\site-packages\\IPython\\core\\interactiveshell.py\", line 1982, in showtraceback\n",
      "    stb = self.InteractiveTB.structured_traceback(\n",
      "  File \"D:\\Anaconda\\lib\\site-packages\\IPython\\core\\ultratb.py\", line 1118, in structured_traceback\n",
      "    return FormattedTB.structured_traceback(\n",
      "  File \"D:\\Anaconda\\lib\\site-packages\\IPython\\core\\ultratb.py\", line 1012, in structured_traceback\n",
      "    return VerboseTB.structured_traceback(\n",
      "  File \"D:\\Anaconda\\lib\\site-packages\\IPython\\core\\ultratb.py\", line 865, in structured_traceback\n",
      "    formatted_exception = self.format_exception_as_a_whole(etype, evalue, etb, number_of_lines_of_context,\n",
      "  File \"D:\\Anaconda\\lib\\site-packages\\IPython\\core\\ultratb.py\", line 818, in format_exception_as_a_whole\n",
      "    frames.append(self.format_record(r))\n",
      "  File \"D:\\Anaconda\\lib\\site-packages\\IPython\\core\\ultratb.py\", line 736, in format_record\n",
      "    result += ''.join(_format_traceback_lines(frame_info.lines, Colors, self.has_colors, lvals))\n",
      "  File \"D:\\Anaconda\\lib\\site-packages\\stack_data\\utils.py\", line 145, in cached_property_wrapper\n",
      "    value = obj.__dict__[self.func.__name__] = self.func(obj)\n",
      "  File \"D:\\Anaconda\\lib\\site-packages\\stack_data\\core.py\", line 698, in lines\n",
      "    pieces = self.included_pieces\n",
      "  File \"D:\\Anaconda\\lib\\site-packages\\stack_data\\utils.py\", line 145, in cached_property_wrapper\n",
      "    value = obj.__dict__[self.func.__name__] = self.func(obj)\n",
      "  File \"D:\\Anaconda\\lib\\site-packages\\stack_data\\core.py\", line 649, in included_pieces\n",
      "    pos = scope_pieces.index(self.executing_piece)\n",
      "  File \"D:\\Anaconda\\lib\\site-packages\\stack_data\\utils.py\", line 145, in cached_property_wrapper\n",
      "    value = obj.__dict__[self.func.__name__] = self.func(obj)\n",
      "  File \"D:\\Anaconda\\lib\\site-packages\\stack_data\\core.py\", line 628, in executing_piece\n",
      "    return only(\n",
      "  File \"D:\\Anaconda\\lib\\site-packages\\executing\\executing.py\", line 164, in only\n",
      "    raise NotOneValueFound('Expected one value, found 0')\n",
      "executing.executing.NotOneValueFound: Expected one value, found 0\n"
     ]
    }
   ],
   "source": [
    "#So we make a simple modification to the for loop to\n",
    "demo_funcs.demo_plot2d(data_artifact_a, \n",
    "                     title = 'raw_data',\n",
    "                     verbose_data=False, \n",
    "                     mag_line=True)"
   ]
  },
  {
   "cell_type": "code",
   "execution_count": null,
   "id": "4b389c46",
   "metadata": {},
   "outputs": [],
   "source": []
  },
  {
   "cell_type": "code",
   "execution_count": null,
   "id": "4de062f7",
   "metadata": {},
   "outputs": [],
   "source": [
    "#The concept of the toy problem. Using toy problems to solve whatever problems you face\n",
    "\n",
    "#Also touching on design concepts "
   ]
  },
  {
   "cell_type": "code",
   "execution_count": null,
   "id": "b859eb97",
   "metadata": {},
   "outputs": [],
   "source": []
  },
  {
   "cell_type": "code",
   "execution_count": 41,
   "id": "31c166bb",
   "metadata": {},
   "outputs": [],
   "source": [
    "#Challenge. we could do together. Write a part of this pipe that takes in the data structure.\n",
    "#For each data calculate the magnitude where magnitude of mean [0] and mean [1]\n",
    "\n",
    "#Visualize the data as a function of the date time objects (x axis)"
   ]
  },
  {
   "cell_type": "code",
   "execution_count": null,
   "id": "15bb722b",
   "metadata": {},
   "outputs": [],
   "source": []
  },
  {
   "cell_type": "code",
   "execution_count": null,
   "id": "816131ab",
   "metadata": {},
   "outputs": [],
   "source": []
  },
  {
   "cell_type": "code",
   "execution_count": null,
   "id": "af79d7b6",
   "metadata": {},
   "outputs": [],
   "source": []
  },
  {
   "cell_type": "code",
   "execution_count": null,
   "id": "db756c58",
   "metadata": {},
   "outputs": [],
   "source": [
    "#Zscore method. Zscores are just distances from the mean.\n",
    "#This just replaces the table"
   ]
  },
  {
   "cell_type": "code",
   "execution_count": 204,
   "id": "4fb78cfb",
   "metadata": {},
   "outputs": [
    {
     "data": {
      "text/plain": [
       "1.959963984540054"
      ]
     },
     "execution_count": 204,
     "metadata": {},
     "output_type": "execute_result"
    }
   ],
   "source": [
    "#Find the critical value"
   ]
  },
  {
   "cell_type": "code",
   "execution_count": null,
   "id": "6570cae3",
   "metadata": {},
   "outputs": [],
   "source": [
    "#Left tailed\n",
    "scipy.stats.norm.ppf(.01)"
   ]
  },
  {
   "cell_type": "code",
   "execution_count": null,
   "id": "15ecfa02",
   "metadata": {},
   "outputs": [],
   "source": [
    "#Right tailed\n",
    "scipy.stats.norm.ppf(1-.01)"
   ]
  },
  {
   "cell_type": "code",
   "execution_count": 205,
   "id": "3ebb91b0",
   "metadata": {},
   "outputs": [
    {
     "data": {
      "text/plain": [
       "1.959963984540054"
      ]
     },
     "execution_count": 205,
     "metadata": {},
     "output_type": "execute_result"
    }
   ],
   "source": [
    "#Two tailed test\n",
    "scipy.stats.norm.ppf(1-.01/2)\n",
    "\n",
    "scipy.stats.norm.ppf(1-.05/2) #two tailed ttest"
   ]
  },
  {
   "cell_type": "code",
   "execution_count": null,
   "id": "d82fa8a1",
   "metadata": {},
   "outputs": [],
   "source": []
  },
  {
   "cell_type": "code",
   "execution_count": null,
   "id": "a83563d9",
   "metadata": {},
   "outputs": [],
   "source": []
  }
 ],
 "metadata": {
  "kernelspec": {
   "display_name": "Python 3 (ipykernel)",
   "language": "python",
   "name": "python3"
  },
  "language_info": {
   "codemirror_mode": {
    "name": "ipython",
    "version": 3
   },
   "file_extension": ".py",
   "mimetype": "text/x-python",
   "name": "python",
   "nbconvert_exporter": "python",
   "pygments_lexer": "ipython3",
   "version": "3.9.12"
  }
 },
 "nbformat": 4,
 "nbformat_minor": 5
}
