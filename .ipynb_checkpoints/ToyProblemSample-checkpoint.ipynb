{
 "cells": [
  {
   "cell_type": "code",
   "execution_count": 447,
   "id": "ca8e1d9f",
   "metadata": {
    "scrolled": true
   },
   "outputs": [
    {
     "data": {
      "text/plain": [
       "<module 'pd_funcs.demo_funcs' from 'C:\\\\Users\\\\afiq-Astro\\\\Desktop\\\\SIM_TEACH\\\\28_1_2022\\\\SIMTEACHREPO\\\\pd_funcs\\\\demo_funcs.py'>"
      ]
     },
     "execution_count": 447,
     "metadata": {},
     "output_type": "execute_result"
    }
   ],
   "source": [
    "#a lesson in toy problems and design thinking concepts...\n",
    "\n",
    "import datetime\n",
    "import importlib\n",
    "import pickle\n",
    "import scipy.stats\n",
    "\n",
    "import numpy as np  \n",
    "\n",
    "from pd_funcs import demo_funcs\n",
    "from astropy.time import Time\n",
    "\n",
    "importlib.reload(demo_funcs)"
   ]
  },
  {
   "cell_type": "code",
   "execution_count": null,
   "id": "61ec7c3b",
   "metadata": {},
   "outputs": [],
   "source": []
  },
  {
   "cell_type": "code",
   "execution_count": 2,
   "id": "c41c9108",
   "metadata": {},
   "outputs": [],
   "source": [
    "#suppose we had a data artefact\n",
    "data_artifact_a = [{'2015-03-05_nameA': [[1, -5, -3],\n",
    "   [0.8, 0.7, 0.4],\n",
    "   [5, 2, 8],\n",
    "   [0.1, 0.2, 0.3]]},\n",
    " {'2011-05-08_nameB': [[-3, 1, -4],\n",
    "   [0.1, 0.7, 0.3],\n",
    "   [1, 4, 2],\n",
    "   [0.1, 0.1, 0.3]]},\n",
    " {'2019-11-18_nameC': [[1, -1, 3],\n",
    "   [0.2, 0.5, 0.4],\n",
    "   [-1, 4, 6],\n",
    "   [0.2, 0.8, 0.2]]},\n",
    " {'2014-03-12_nameD': [[0, 2, 5],\n",
    "   [0.9, 0.6, 0.6],\n",
    "   [-2, 0, 1],\n",
    "   [0.6, 0.5, 0.6]]}]"
   ]
  },
  {
   "cell_type": "code",
   "execution_count": 3,
   "id": "78e93ef6",
   "metadata": {},
   "outputs": [],
   "source": [
    "filenamea='1ddata_a.pickle'\n",
    "filenameab='1ddata_ab.pickle'\n",
    "\n",
    "data_artifact_a = demo_funcs.data_loader(filenamea)\n",
    "data_artifact_ab = demo_funcs.data_loader(filenameab)"
   ]
  },
  {
   "cell_type": "code",
   "execution_count": 4,
   "id": "5b57bdf0",
   "metadata": {},
   "outputs": [
    {
     "data": {
      "text/plain": [
       "[{'2015-03-05_nameA': [[1, -5, -3],\n",
       "   [0.8, 0.7, 0.4],\n",
       "   [5, 2, 8],\n",
       "   [0.1, 0.2, 0.3]]},\n",
       " {'2011-05-08_nameB': [[-3, 1, -4],\n",
       "   [0.1, 0.7, 0.3],\n",
       "   [1, 4, 2],\n",
       "   [0.1, 0.1, 0.3]]},\n",
       " {'2019-11-18_nameC': [[1, -1, 3],\n",
       "   [0.2, 0.5, 0.4],\n",
       "   [-1, 4, 6],\n",
       "   [0.2, 0.8, 0.2]]},\n",
       " {'2014-03-12_nameD': [[0, 2, 5],\n",
       "   [0.9, 0.6, 0.6],\n",
       "   [-2, 0, 1],\n",
       "   [0.6, 0.5, 0.6]]}]"
      ]
     },
     "execution_count": 4,
     "metadata": {},
     "output_type": "execute_result"
    }
   ],
   "source": [
    "data_artifact_a"
   ]
  },
  {
   "cell_type": "code",
   "execution_count": 5,
   "id": "39da767e",
   "metadata": {},
   "outputs": [
    {
     "data": {
      "text/plain": [
       "[{'2009-08-15_nameD': [[-1, 1, -4],\n",
       "   [0.4, 0.1, 0.2],\n",
       "   [4, 2, 4],\n",
       "   [0.4, 0.7, 0.1]]},\n",
       " {'2005-12-07_nameE': [[5, 4, -1],\n",
       "   [0.8, 0.7, 0.9],\n",
       "   [1, 3, 0],\n",
       "   [0.9, 0.6, 0.3]]},\n",
       " {'2001-03-22_nameF': [[-3, 2, 4],\n",
       "   [0.2, 0.5, 0.4],\n",
       "   [-3, -4, 1],\n",
       "   [0.2, 0.8, 0.2]]}]"
      ]
     },
     "execution_count": 5,
     "metadata": {},
     "output_type": "execute_result"
    }
   ],
   "source": [
    "data_artifact_ab"
   ]
  },
  {
   "cell_type": "code",
   "execution_count": 6,
   "id": "63c2552d",
   "metadata": {},
   "outputs": [
    {
     "name": "stdout",
     "output_type": "stream",
     "text": [
      "Length: 4\n"
     ]
    }
   ],
   "source": [
    "print(\"Length:\", len(data_artifact_a))#This can be variable\n",
    "\n",
    "#When we talk about having standardised structure for lists it should have some\n",
    "#features we want such as:\n",
    "#We can add to this, subtract(delete) data from it, slice it. Check its order \n",
    "\n",
    "#All data processing functions in our pipeline should take "
   ]
  },
  {
   "cell_type": "code",
   "execution_count": 7,
   "id": "89ab3a88",
   "metadata": {},
   "outputs": [
    {
     "name": "stdout",
     "output_type": "stream",
     "text": [
      "7\n"
     ]
    }
   ],
   "source": [
    "#We can add to the data structure\n",
    "data_artifact_a=data_artifact_a+data_artifact_ab\n",
    "print(len(data_artifact_a))\n",
    "\n",
    "#This wont work\n",
    "#data_artifact_a.append(data_artifact_ab)"
   ]
  },
  {
   "cell_type": "code",
   "execution_count": 8,
   "id": "28d6a97d",
   "metadata": {
    "scrolled": true
   },
   "outputs": [
    {
     "name": "stdout",
     "output_type": "stream",
     "text": [
      "6\n"
     ]
    }
   ],
   "source": [
    "#We can subtract\n",
    "del(data_artifact_a[6])\n",
    "print(len(data_artifact_a))"
   ]
  },
  {
   "cell_type": "code",
   "execution_count": 9,
   "id": "79680207",
   "metadata": {
    "scrolled": false
   },
   "outputs": [
    {
     "data": {
      "image/png": "[encoded data removed]",
      "text/plain": [
       "<Figure size 432x288 with 1 Axes>"
      ]
     },
     "metadata": {
      "needs_background": "light"
     },
     "output_type": "display_data"
    },
    {
     "data": {
      "image/png": "[encoded data removed]",
      "text/plain": [
       "<Figure size 432x288 with 1 Axes>"
      ]
     },
     "metadata": {
      "needs_background": "light"
     },
     "output_type": "display_data"
    },
    {
     "data": {
      "image/png": "[encoded data removed]",
      "text/plain": [
       "<Figure size 432x288 with 1 Axes>"
      ]
     },
     "metadata": {
      "needs_background": "light"
     },
     "output_type": "display_data"
    }
   ],
   "source": [
    "#Suppose we design some finctions function surrounding this data artefact\n",
    "\n",
    "#One to plot\n",
    "demo_funcs.demo_plot(data_artifact_a, \n",
    "                     title = 'raw_data',\n",
    "                     verbose_data=False, \n",
    "                     mag_line=True)\n",
    "\n",
    "#One to make a computation on the artifact\n",
    "#We can show that the original data artefact can be changed if we do not do the copying\n",
    "mod_artifact = demo_funcs.demo_comp(data_artifact_a, [1, 2])\n",
    "\n",
    "#One to plot\n",
    "demo_funcs.demo_plot(mod_artifact, \n",
    "                     title = 'modified_data',\n",
    "                     verbose_data=False, \n",
    "                     mag_line=True)\n",
    "\n",
    "#We can even cascade it further \n",
    "mod_artifact_b = demo_funcs.demo_comp(mod_artifact, [1, 2])\n",
    "\n",
    "#One to plot\n",
    "demo_funcs.demo_plot(mod_artifact_b, \n",
    "                     title = 'additionally modified_data',\n",
    "                     verbose_data=False, \n",
    "                     mag_line=True)"
   ]
  },
  {
   "cell_type": "code",
   "execution_count": 10,
   "id": "2c3401e7",
   "metadata": {},
   "outputs": [
    {
     "data": {
      "image/png": "[encoded data removed]",
      "text/plain": [
       "<Figure size 432x288 with 1 Axes>"
      ]
     },
     "metadata": {
      "needs_background": "light"
     },
     "output_type": "display_data"
    }
   ],
   "source": [
    "#We can slice which is useful\n",
    "#One to plot\n",
    "demo_funcs.demo_plot(mod_artifact[1:-1], \n",
    "                     title = 'modified_data',\n",
    "                     verbose_data=False, \n",
    "                     mag_line=True)"
   ]
  },
  {
   "cell_type": "code",
   "execution_count": 11,
   "id": "191edf97",
   "metadata": {},
   "outputs": [],
   "source": [
    "mod_artifact_b = mod_artifact_b + data_artifact_a"
   ]
  },
  {
   "cell_type": "code",
   "execution_count": 15,
   "id": "9218268f",
   "metadata": {},
   "outputs": [
    {
     "data": {
      "image/png": "[encoded data removed]",
      "text/plain": [
       "<Figure size 432x288 with 1 Axes>"
      ]
     },
     "metadata": {
      "needs_background": "light"
     },
     "output_type": "display_data"
    }
   ],
   "source": [
    "demo_funcs.demo_plot(mod_artifact_b[2:], \n",
    "                     title = 'raw_data',\n",
    "                     verbose_data=False, \n",
    "                     mag_line=True)"
   ]
  },
  {
   "cell_type": "code",
   "execution_count": 584,
   "id": "1be490a3",
   "metadata": {},
   "outputs": [
    {
     "data": {
      "text/plain": [
       "[{'2015-03-05_nameA': [array([-1, -7, -5]),\n",
       "   [0.8, 0.7, 0.4],\n",
       "   array([ 1, -2,  4]),\n",
       "   [0.1, 0.2, 0.3]]},\n",
       " {'2011-05-08_nameB': [array([-5, -1, -6]),\n",
       "   [0.1, 0.7, 0.3],\n",
       "   array([-3,  0, -2]),\n",
       "   [0.1, 0.1, 0.3]]},\n",
       " {'2019-11-18_nameC': [array([-1, -3,  1]),\n",
       "   [0.2, 0.5, 0.4],\n",
       "   array([-5,  0,  2]),\n",
       "   [0.2, 0.8, 0.2]]},\n",
       " {'2014-03-12_nameD': [array([-2,  0,  3]),\n",
       "   [0.9, 0.6, 0.6],\n",
       "   array([-6, -4, -3]),\n",
       "   [0.6, 0.5, 0.6]]},\n",
       " {'2009-08-15_nameD': [array([-3, -1, -6]),\n",
       "   [0.4, 0.1, 0.2],\n",
       "   array([ 0, -2,  0]),\n",
       "   [0.4, 0.7, 0.1]]},\n",
       " {'2005-12-07_nameE': [array([ 3,  2, -3]),\n",
       "   [0.8, 0.7, 0.9],\n",
       "   array([-3, -1, -4]),\n",
       "   [0.9, 0.6, 0.3]]},\n",
       " {'2015-03-05_nameA': [[1, -5, -3],\n",
       "   [0.8, 0.7, 0.4],\n",
       "   [5, 2, 8],\n",
       "   [0.1, 0.2, 0.3]]},\n",
       " {'2011-05-08_nameB': [[-3, 1, -4],\n",
       "   [0.1, 0.7, 0.3],\n",
       "   [1, 4, 2],\n",
       "   [0.1, 0.1, 0.3]]},\n",
       " {'2019-11-18_nameC': [[1, -1, 3],\n",
       "   [0.2, 0.5, 0.4],\n",
       "   [-1, 4, 6],\n",
       "   [0.2, 0.8, 0.2]]},\n",
       " {'2014-03-12_nameD': [[0, 2, 5],\n",
       "   [0.9, 0.6, 0.6],\n",
       "   [-2, 0, 1],\n",
       "   [0.6, 0.5, 0.6]]},\n",
       " {'2009-08-15_nameD': [[-1, 1, -4],\n",
       "   [0.4, 0.1, 0.2],\n",
       "   [4, 2, 4],\n",
       "   [0.4, 0.7, 0.1]]},\n",
       " {'2005-12-07_nameE': [[5, 4, -1],\n",
       "   [0.8, 0.7, 0.9],\n",
       "   [1, 3, 0],\n",
       "   [0.9, 0.6, 0.3]]}]"
      ]
     },
     "execution_count": 584,
     "metadata": {},
     "output_type": "execute_result"
    }
   ],
   "source": [
    "(mod_artifact_b)"
   ]
  },
  {
   "cell_type": "code",
   "execution_count": 42,
   "id": "be50a1b3",
   "metadata": {},
   "outputs": [],
   "source": [
    "#Now suppose a requirement came up that requires the artifact to be modified increasing it to 2D. \n",
    "#It could be anything. More data... Meta data. \n",
    "#\n",
    "#\n",
    "#For some reason you have to accomodate this 2D data structure in your data processing functions\n",
    "#How ould we write those modifications? How do you modify the functions to \n",
    "#take this\n",
    "#"
   ]
  },
  {
   "cell_type": "code",
   "execution_count": 586,
   "id": "a2bed38a",
   "metadata": {
    "scrolled": false
   },
   "outputs": [
    {
     "data": {
      "text/plain": [
       "([{'2015-03-05_nameA': [[1, -5, -6],\n",
       "    [0.6, 0.7, 0.8],\n",
       "    [5, 2, -1],\n",
       "    [0.4, 0.6, 0.7]]},\n",
       "  {'2011-05-08_nameB': [[-3, 4, -2],\n",
       "    [0.8, 0.7, 0.5],\n",
       "    [-5, 2, -2],\n",
       "    [0.1, 0.1, 0.3]]},\n",
       "  {'2019-11-18_nameC': [[4, -2, 1],\n",
       "    [0.3, 0.5, 0.8],\n",
       "    [-1, 7, 1],\n",
       "    [0.8, 0.9, 0.2]]},\n",
       "  {'2014-05-21_nameD': [[1, -1, 7],\n",
       "    [0.6, 0.5, 0.8],\n",
       "    [-2, 4, -5],\n",
       "    [0.8, 0.9, 0.7]]}],\n",
       " [datetime.datetime(2015, 3, 5, 18, 21, 40, 865000),\n",
       "  datetime.datetime(2011, 5, 8, 18, 5, 3, 165000),\n",
       "  datetime.datetime(2019, 11, 18, 10, 3, 2, 245000),\n",
       "  datetime.datetime(2014, 5, 21, 15, 1, 4, 185000)])"
      ]
     },
     "execution_count": 586,
     "metadata": {},
     "output_type": "execute_result"
    }
   ],
   "source": [
    "#Then you have a new data artifact build on top of the first one\n",
    "data_artifact_2da = ([{'2015-03-05_nameA': [[1,-5,-6],\n",
    "                                        [.6,.7,.8],\n",
    "                                        [5,2,-1],\n",
    "                                        [.4,.6,.7]]},\n",
    "                   {'2011-05-08_nameB':[[-3,4,-2],\n",
    "                                        [.8,.7,.5],\n",
    "                                        [-5,2,-2],\n",
    "                                        [.1,.1,.3]]},\n",
    "                   {'2019-11-18_nameC':[[4,-2,1],\n",
    "                                        [.3,.5,.8],\n",
    "                                        [-1,7,1],\n",
    "                                        [.8,.9,.2]]},\n",
    "                   {'2014-05-21_nameD':[[1,-1,7],\n",
    "                                        [.6,.5,.8],\n",
    "                                        [-2,4,-5],\n",
    "                                        [.8,.9,.7]]}],\n",
    "                  [datetime.datetime(2015, 3, 5, 18, 21, 40, 865000),\n",
    "                   datetime.datetime(2011, 5, 8, 18, 5, 3, 165000),\n",
    "                   datetime.datetime(2019, 11, 18, 10, 3, 2, 245000),\n",
    "                   datetime.datetime(2014, 5, 21, 15, 1, 4, 185000)])\n",
    "\n",
    "#This is a two dimensional data. It is a tuple... it is immutable\n",
    "data_artifact_2da "
   ]
  },
  {
   "cell_type": "code",
   "execution_count": 587,
   "id": "1f66dc1f",
   "metadata": {},
   "outputs": [
    {
     "data": {
      "text/plain": [
       "2"
      ]
     },
     "execution_count": 587,
     "metadata": {},
     "output_type": "execute_result"
    }
   ],
   "source": [
    "len(data_artifact_2da )"
   ]
  },
  {
   "cell_type": "code",
   "execution_count": 40,
   "id": "8e77eee3",
   "metadata": {},
   "outputs": [
    {
     "data": {
      "text/plain": [
       "([{'2015-03-05_nameA': [[1, -6, -10],\n",
       "    [0.3, 0.7, 0.4],\n",
       "    [5, 2, 8],\n",
       "    [0.1, 0.2, 0.3]]},\n",
       "  {'2011-05-08_nameB': [[-3, 1, -9],\n",
       "    [0.1, 0.7, 0.3],\n",
       "    [-10, 5, -20],\n",
       "    [0.1, 0.1, 0.3]]},\n",
       "  {'2019-11-18_nameC': [[1, -1, 9],\n",
       "    [0.2, 0.5, 0.4],\n",
       "    [-12, 6, 18],\n",
       "    [0.2, 0.8, 0.2]]}],\n",
       " [datetime.datetime(2015, 3, 5, 18, 21, 40, 865000),\n",
       "  datetime.datetime(2011, 5, 8, 18, 5, 3, 165000),\n",
       "  datetime.datetime(2019, 4, 18, 10, 3, 2, 245000),\n",
       "  datetime.datetime(2014, 5, 21, 15, 1, 4, 185000)])"
      ]
     },
     "execution_count": 40,
     "metadata": {},
     "output_type": "execute_result"
    }
   ],
   "source": [
    "#Here is a cool trick with string comprehensions\n",
    "\n",
    "input_data = [\"2015-03-05T18:21:40.865000\",\n",
    "              \"2011-05-08T18:05:3.165000\",\n",
    "              \"2019-04-18T10:03:2.245000\",\n",
    "              \"2014-05-21T15:01:4.185000\"]\n",
    "\n",
    "data_artifact_2da = ([{'2015-03-05_nameA': [[1,-6,-10],\n",
    "                                        [.3,.7,.4],\n",
    "                                        [5,2,8],\n",
    "                                        [.1,.2,.3]]},\n",
    "                   {'2011-05-08_nameB':[[-3,1,-9],\n",
    "                                        [.1,.7,.3],\n",
    "                                        [-10,5,-20],\n",
    "                                        [.1,.1,.3]]},\n",
    "                   {'2019-11-18_nameC':[[1,-1,9],\n",
    "                                        [.2,.5,.4],\n",
    "                                        [-12,6,18],\n",
    "                                        [.2,.8,.2]]}],\n",
    "                  [datetime.datetime.strptime(x, \"%Y-%m-%dT%H:%M:%S.%f\") for x in input_data])\n",
    "\n",
    "#This is a two dimensional data. It is a tuple... it is immutable\n",
    "data_artifact_2da"
   ]
  },
  {
   "cell_type": "code",
   "execution_count": 306,
   "id": "37c64d5e",
   "metadata": {},
   "outputs": [],
   "source": [
    "#I have presaved them as pickle but likewise they can be excel file.\n",
    "#We can load like before\n",
    "filenamea='2ddata_a.pickle'\n",
    "filenameab='2ddata_ab.pickle'\n",
    "\n",
    "data_artifact2d_a = demo_funcs.data_loader(filenamea)\n",
    "data_artifact2d_ab = demo_funcs.data_loader(filenameab)"
   ]
  },
  {
   "cell_type": "code",
   "execution_count": 307,
   "id": "43d24eba",
   "metadata": {},
   "outputs": [
    {
     "data": {
      "text/plain": [
       "([{'2015-03-05_nameA': [[1, -5, -6],\n",
       "    [0.6, 0.7, 0.8],\n",
       "    [5, 2, -1],\n",
       "    [0.4, 0.6, 0.7]]},\n",
       "  {'2011-05-08_nameB': [[-3, 4, -2],\n",
       "    [0.8, 0.7, 0.5],\n",
       "    [-5, 2, -2],\n",
       "    [0.1, 0.1, 0.3]]},\n",
       "  {'2019-11-18_nameC': [[4, -2, 1],\n",
       "    [0.3, 0.5, 0.8],\n",
       "    [-1, 7, 1],\n",
       "    [0.8, 0.9, 0.2]]}],\n",
       " [datetime.datetime(2015, 3, 5, 18, 21, 40, 865000),\n",
       "  datetime.datetime(2011, 5, 8, 18, 5, 3, 165000),\n",
       "  datetime.datetime(2019, 11, 18, 10, 3, 2, 245000)])"
      ]
     },
     "execution_count": 307,
     "metadata": {},
     "output_type": "execute_result"
    }
   ],
   "source": [
    "data_artifact2d_a "
   ]
  },
  {
   "cell_type": "code",
   "execution_count": 308,
   "id": "09e93040",
   "metadata": {},
   "outputs": [
    {
     "name": "stdout",
     "output_type": "stream",
     "text": [
      "Length: 2 <class 'tuple'>\n"
     ]
    },
    {
     "data": {
      "text/plain": [
       "([{'2021-12-02_nameA': [[-4, -6, 4],\n",
       "    [0.6, 0.7, 0.8],\n",
       "    [4, -3, -8],\n",
       "    [0.6, 0.7, 0.8]]},\n",
       "  {'2022-05-04_nameB': [[-1, 1, -10],\n",
       "    [0.6, 0.9, 0.6],\n",
       "    [-10, 5, -2],\n",
       "    [0.7, 0.5, 0.6]]},\n",
       "  {'2022-06-07_nameC': [[4, 0.1, 8],\n",
       "    [0.7, 0.7, 0.8],\n",
       "    [-2, 5, 2],\n",
       "    [0.8, 0.9, 0.4]]}],\n",
       " [datetime.datetime(2021, 12, 2, 18, 21, 40, 865000),\n",
       "  datetime.datetime(2022, 5, 4, 18, 5, 3, 165000),\n",
       "  datetime.datetime(2022, 6, 7, 10, 3, 2, 245000)])"
      ]
     },
     "execution_count": 308,
     "metadata": {},
     "output_type": "execute_result"
    }
   ],
   "source": [
    "#The length is 2 which is to be expected.\n",
    "\n",
    "#Tuples are not mutable\n",
    "print(\"Length:\", len(data_artifact2d_a), type(data_artifact2d_a))\n",
    "data_artifact2d_ab"
   ]
  },
  {
   "cell_type": "code",
   "execution_count": 309,
   "id": "bb0c4de9",
   "metadata": {},
   "outputs": [
    {
     "name": "stdout",
     "output_type": "stream",
     "text": [
      "<class 'numpy.ndarray'> 2\n"
     ]
    },
    {
     "data": {
      "text/plain": [
       "array([[{'2015-03-05_nameA': [[1, -5, -6], [0.6, 0.7, 0.8], [5, 2, -1], [0.4, 0.6, 0.7]]},\n",
       "        {'2011-05-08_nameB': [[-3, 4, -2], [0.8, 0.7, 0.5], [-5, 2, -2], [0.1, 0.1, 0.3]]},\n",
       "        {'2019-11-18_nameC': [[4, -2, 1], [0.3, 0.5, 0.8], [-1, 7, 1], [0.8, 0.9, 0.2]]}],\n",
       "       [datetime.datetime(2015, 3, 5, 18, 21, 40, 865000),\n",
       "        datetime.datetime(2011, 5, 8, 18, 5, 3, 165000),\n",
       "        datetime.datetime(2019, 11, 18, 10, 3, 2, 245000)]], dtype=object)"
      ]
     },
     "execution_count": 309,
     "metadata": {},
     "output_type": "execute_result"
    }
   ],
   "source": [
    "data_artifact2d_a = np.array(data_artifact2d_a)\n",
    "\n",
    "print(type(data_artifact2d_a), len(data_artifact2d_a))\n",
    "data_artifact2d_a "
   ]
  },
  {
   "cell_type": "code",
   "execution_count": 176,
   "id": "c6f8cd9c",
   "metadata": {},
   "outputs": [
    {
     "ename": "AttributeError",
     "evalue": "'numpy.ndarray' object has no attribute 'keys'",
     "output_type": "error",
     "traceback": [
      "\u001b[1;31m---------------------------------------------------------------------------\u001b[0m",
      "\u001b[1;31mAttributeError\u001b[0m                            Traceback (most recent call last)",
      "\u001b[1;32m<ipython-input-176-ef99316db45a>\u001b[0m in \u001b[0;36m<module>\u001b[1;34m\u001b[0m\n\u001b[0;32m      2\u001b[0m \u001b[1;31m#A simple modification can get it to work\u001b[0m\u001b[1;33m\u001b[0m\u001b[1;33m\u001b[0m\u001b[1;33m\u001b[0m\u001b[0m\n\u001b[0;32m      3\u001b[0m \u001b[1;33m\u001b[0m\u001b[0m\n\u001b[1;32m----> 4\u001b[1;33m demo_funcs.demo_plot(data_artifact2d_a, \n\u001b[0m\u001b[0;32m      5\u001b[0m                      \u001b[0mtitle\u001b[0m \u001b[1;33m=\u001b[0m \u001b[1;34m'raw_data'\u001b[0m\u001b[1;33m,\u001b[0m\u001b[1;33m\u001b[0m\u001b[1;33m\u001b[0m\u001b[0m\n\u001b[0;32m      6\u001b[0m                      \u001b[0mverbose_data\u001b[0m\u001b[1;33m=\u001b[0m\u001b[1;32mFalse\u001b[0m\u001b[1;33m,\u001b[0m\u001b[1;33m\u001b[0m\u001b[1;33m\u001b[0m\u001b[0m\n",
      "\u001b[1;32m~\\Desktop\\SIM_TEACH\\28_1_2022\\SIMTEACHREPO\\pd_funcs\\demo_funcs.py\u001b[0m in \u001b[0;36mdemo_plot\u001b[1;34m(input_data, title, verbose_data, verbose_plot_mag_line, mag_line)\u001b[0m\n\u001b[0;32m     33\u001b[0m         \u001b[1;31m#Intermediary processing operation. What has been packaged needs to be unpackaged\u001b[0m\u001b[1;33m\u001b[0m\u001b[1;33m\u001b[0m\u001b[1;33m\u001b[0m\u001b[0m\n\u001b[0;32m     34\u001b[0m         \u001b[1;32mfor\u001b[0m \u001b[0mdats\u001b[0m \u001b[1;32min\u001b[0m \u001b[0minput_data\u001b[0m\u001b[1;33m:\u001b[0m\u001b[1;33m\u001b[0m\u001b[1;33m\u001b[0m\u001b[0m\n\u001b[1;32m---> 35\u001b[1;33m                 \u001b[0mx_bar\u001b[0m\u001b[1;33m.\u001b[0m\u001b[0mappend\u001b[0m\u001b[1;33m(\u001b[0m \u001b[0mnp\u001b[0m\u001b[1;33m.\u001b[0m\u001b[0mmean\u001b[0m\u001b[1;33m(\u001b[0m\u001b[0mnp\u001b[0m\u001b[1;33m.\u001b[0m\u001b[0marray\u001b[0m\u001b[1;33m(\u001b[0m\u001b[0mdats\u001b[0m\u001b[1;33m[\u001b[0m\u001b[0mlist\u001b[0m\u001b[1;33m(\u001b[0m\u001b[0mdats\u001b[0m\u001b[1;33m.\u001b[0m\u001b[0mkeys\u001b[0m\u001b[1;33m(\u001b[0m\u001b[1;33m)\u001b[0m\u001b[1;33m)\u001b[0m\u001b[1;33m[\u001b[0m\u001b[1;36m0\u001b[0m\u001b[1;33m]\u001b[0m\u001b[1;33m]\u001b[0m\u001b[1;33m[\u001b[0m\u001b[1;36m0\u001b[0m\u001b[1;33m]\u001b[0m\u001b[1;33m)\u001b[0m\u001b[1;33m)\u001b[0m   \u001b[1;33m)\u001b[0m\u001b[1;33m\u001b[0m\u001b[1;33m\u001b[0m\u001b[0m\n\u001b[0m\u001b[0;32m     36\u001b[0m                 \u001b[0mxerr_bar\u001b[0m\u001b[1;33m.\u001b[0m\u001b[0mappend\u001b[0m\u001b[1;33m(\u001b[0m \u001b[0mnp\u001b[0m\u001b[1;33m.\u001b[0m\u001b[0mmean\u001b[0m\u001b[1;33m(\u001b[0m\u001b[0mnp\u001b[0m\u001b[1;33m.\u001b[0m\u001b[0marray\u001b[0m\u001b[1;33m(\u001b[0m\u001b[0mdats\u001b[0m\u001b[1;33m[\u001b[0m\u001b[0mlist\u001b[0m\u001b[1;33m(\u001b[0m\u001b[0mdats\u001b[0m\u001b[1;33m.\u001b[0m\u001b[0mkeys\u001b[0m\u001b[1;33m(\u001b[0m\u001b[1;33m)\u001b[0m\u001b[1;33m)\u001b[0m\u001b[1;33m[\u001b[0m\u001b[1;36m0\u001b[0m\u001b[1;33m]\u001b[0m\u001b[1;33m]\u001b[0m\u001b[1;33m[\u001b[0m\u001b[1;36m3\u001b[0m\u001b[1;33m]\u001b[0m\u001b[1;33m)\u001b[0m  \u001b[1;33m)\u001b[0m      \u001b[1;33m)\u001b[0m\u001b[1;33m\u001b[0m\u001b[1;33m\u001b[0m\u001b[0m\n\u001b[0;32m     37\u001b[0m                 \u001b[0my_bar\u001b[0m\u001b[1;33m.\u001b[0m\u001b[0mappend\u001b[0m\u001b[1;33m(\u001b[0m \u001b[0mnp\u001b[0m\u001b[1;33m.\u001b[0m\u001b[0mmean\u001b[0m\u001b[1;33m(\u001b[0m\u001b[0mnp\u001b[0m\u001b[1;33m.\u001b[0m\u001b[0marray\u001b[0m\u001b[1;33m(\u001b[0m\u001b[0mdats\u001b[0m\u001b[1;33m[\u001b[0m\u001b[0mlist\u001b[0m\u001b[1;33m(\u001b[0m\u001b[0mdats\u001b[0m\u001b[1;33m.\u001b[0m\u001b[0mkeys\u001b[0m\u001b[1;33m(\u001b[0m\u001b[1;33m)\u001b[0m\u001b[1;33m)\u001b[0m\u001b[1;33m[\u001b[0m\u001b[1;36m0\u001b[0m\u001b[1;33m]\u001b[0m\u001b[1;33m]\u001b[0m\u001b[1;33m[\u001b[0m\u001b[1;36m2\u001b[0m\u001b[1;33m]\u001b[0m\u001b[1;33m)\u001b[0m \u001b[1;33m)\u001b[0m    \u001b[1;33m)\u001b[0m\u001b[1;33m\u001b[0m\u001b[1;33m\u001b[0m\u001b[0m\n",
      "\u001b[1;31mAttributeError\u001b[0m: 'numpy.ndarray' object has no attribute 'keys'"
     ]
    }
   ],
   "source": [
    "#If we put this in our preexisting function... things will break as expected.\n",
    "#A simple modification can get it to work\n",
    "\n",
    "demo_funcs.demo_plot(data_artifact2d_a, \n",
    "                     title = 'raw_data',\n",
    "                     verbose_data=False, \n",
    "                     mag_line=True)"
   ]
  },
  {
   "cell_type": "code",
   "execution_count": 310,
   "id": "ff7ac60e",
   "metadata": {
    "scrolled": false
   },
   "outputs": [
    {
     "data": {
      "image/png": "[encoded data removed]",
      "text/plain": [
       "<Figure size 432x288 with 1 Axes>"
      ]
     },
     "metadata": {
      "needs_background": "light"
     },
     "output_type": "display_data"
    },
    {
     "data": {
      "text/plain": [
       "array([[{'2015-03-05_nameA': [array([ 2, -4, -5]), array([0.6, 0.7, 0.8]), array([ 3,  0, -3]), array([0.4, 0.6, 0.7])]},\n",
       "        {'2011-05-08_nameB': [array([-2,  5, -1]), array([0.8, 0.7, 0.5]), array([-7,  0, -4]), array([0.1, 0.1, 0.3])]},\n",
       "        {'2019-11-18_nameC': [array([ 5, -1,  2]), array([0.3, 0.5, 0.8]), array([-3,  5, -1]), array([0.8, 0.9, 0.2])]}],\n",
       "       [datetime.datetime(2015, 3, 5, 18, 21, 40, 865000),\n",
       "        datetime.datetime(2011, 5, 8, 18, 5, 3, 165000),\n",
       "        datetime.datetime(2019, 11, 18, 10, 3, 2, 245000)]], dtype=object)"
      ]
     },
     "execution_count": 310,
     "metadata": {},
     "output_type": "execute_result"
    }
   ],
   "source": [
    "#So we make a simple modification to the for loop to\n",
    "#This is in a separate function...\n",
    "demo_funcs.demo_plot2d(data_artifact2d_a, \n",
    "                     title = 'raw_data',\n",
    "                     verbose_data=False, \n",
    "                     mag_line=True)\n",
    "\n",
    "#Can we do operations?\n",
    "mod_artifact2d = demo_funcs.demo_comp2d(data_artifact2d_a, [-1, 2])\n",
    "mod_artifact2d\n",
    "\n",
    "#So lets verify these features:\n",
    "#Add/ append data\n",
    "#Subtract/ Remove data\n",
    "#Slice data"
   ]
  },
  {
   "cell_type": "code",
   "execution_count": 312,
   "id": "c31ffaad",
   "metadata": {},
   "outputs": [
    {
     "data": {
      "image/png": "[encoded data removed]",
      "text/plain": [
       "<Figure size 432x288 with 1 Axes>"
      ]
     },
     "metadata": {
      "needs_background": "light"
     },
     "output_type": "display_data"
    },
    {
     "data": {
      "image/png": "[encoded data removed]",
      "text/plain": [
       "<Figure size 432x288 with 1 Axes>"
      ]
     },
     "metadata": {
      "needs_background": "light"
     },
     "output_type": "display_data"
    }
   ],
   "source": [
    "demo_funcs.demo_plot2d(mod_artifact2d, \n",
    "                     title = 'mod_artifact_2d',\n",
    "                     verbose_data=False, \n",
    "                     mag_line=True)\n",
    "\n",
    "mod_artifact2db = demo_funcs.demo_comp2d(data_artifact2d_a, [-10, -20])\n",
    "\n",
    "demo_funcs.demo_plot2d(mod_artifact2db, \n",
    "                     title = 'mod_artifact_2db',\n",
    "                     verbose_data=False, \n",
    "                     mag_line=True)"
   ]
  },
  {
   "cell_type": "code",
   "execution_count": 588,
   "id": "68ca55cf",
   "metadata": {},
   "outputs": [
    {
     "name": "stdout",
     "output_type": "stream",
     "text": [
      "<class 'list'> Length: 2\n"
     ]
    }
   ],
   "source": [
    "appended = demo_funcs.append_struct(mod_artifact2d, mod_artifact2db)\n",
    "print(type(appended), \"Length:\" ,len(appended))"
   ]
  },
  {
   "cell_type": "code",
   "execution_count": 317,
   "id": "4f7b55d4",
   "metadata": {},
   "outputs": [
    {
     "data": {
      "image/png": "[encoded data removed]",
      "text/plain": [
       "<Figure size 432x288 with 1 Axes>"
      ]
     },
     "metadata": {
      "needs_background": "light"
     },
     "output_type": "display_data"
    }
   ],
   "source": [
    "demo_funcs.demo_plot2d(appended, \n",
    "                     title = 'appended_artifact',\n",
    "                     verbose_data=False, \n",
    "                     mag_line=True)\n",
    "\n",
    "combined = demo_funcs.append_struct(appended, data_artifact2d_ab)"
   ]
  },
  {
   "cell_type": "code",
   "execution_count": 590,
   "id": "05b97419",
   "metadata": {},
   "outputs": [
    {
     "data": {
      "text/plain": [
       "9"
      ]
     },
     "execution_count": 590,
     "metadata": {},
     "output_type": "execute_result"
    }
   ],
   "source": [
    "len(combined[0])"
   ]
  },
  {
   "cell_type": "code",
   "execution_count": 322,
   "id": "fe5bbe59",
   "metadata": {},
   "outputs": [],
   "source": [
    "#Subtract/ Remove data\n",
    "deleted_a = demo_funcs.delete_struct(combined, 1)\n",
    "deleted_b = demo_funcs.delete_struct(deleted_a, 0)\n",
    "deleted_c = demo_funcs.delete_struct(deleted_b, 3)\n",
    "deleted_d = demo_funcs.delete_struct(deleted_c, 4)\n",
    "\n",
    "#What do you think the length of c will be?\n",
    "\n",
    "#print(deleted_d , len(deleted_d), len(deleted_d[0])    )"
   ]
  },
  {
   "cell_type": "code",
   "execution_count": 591,
   "id": "66a975ec",
   "metadata": {},
   "outputs": [],
   "source": [
    "#suppose I only wanted to delete all the odd numbered items in our data\n",
    "for k in range(0,len(deleted_d[0])):\n",
    "    if(k%2 != 0): #What goes in here?\n",
    "        demo_funcs.delete_struct(combined, k)"
   ]
  },
  {
   "cell_type": "code",
   "execution_count": 593,
   "id": "7f3d78cf",
   "metadata": {},
   "outputs": [],
   "source": [
    "#combined"
   ]
  },
  {
   "cell_type": "code",
   "execution_count": null,
   "id": "76dff53d",
   "metadata": {},
   "outputs": [],
   "source": []
  },
  {
   "cell_type": "code",
   "execution_count": 346,
   "id": "a6e2ca63",
   "metadata": {},
   "outputs": [
    {
     "data": {
      "text/plain": [
       "array([[{'2015-03-05_nameA': [array([ 2, -4, -5]), array([0.6, 0.7, 0.8]), array([ 3,  0, -3]), array([0.4, 0.6, 0.7])]},\n",
       "        {'2011-05-08_nameB': [array([-2,  5, -1]), array([0.8, 0.7, 0.5]), array([-7,  0, -4]), array([0.1, 0.1, 0.3])]},\n",
       "        {'2019-11-18_nameC': [array([ 5, -1,  2]), array([0.3, 0.5, 0.8]), array([-3,  5, -1]), array([0.8, 0.9, 0.2])]},\n",
       "        {'2015-03-05_nameA': [array([11,  5,  4]), array([0.6, 0.7, 0.8]), array([25, 22, 19]), array([0.4, 0.6, 0.7])]},\n",
       "        {'2011-05-08_nameB': [array([ 7, 14,  8]), array([0.8, 0.7, 0.5]), array([15, 22, 18]), array([0.1, 0.1, 0.3])]},\n",
       "        {'2019-11-18_nameC': [array([14,  8, 11]), array([0.3, 0.5, 0.8]), array([19, 27, 21]), array([0.8, 0.9, 0.2])]},\n",
       "        {'2021-12-02_nameA': [[-4, -6, 4], [0.6, 0.7, 0.8], [4, -3, -8], [0.6, 0.7, 0.8]]},\n",
       "        {'2022-05-04_nameB': [[-1, 1, -10], [0.6, 0.9, 0.6], [-10, 5, -2], [0.7, 0.5, 0.6]]},\n",
       "        {'2022-06-07_nameC': [[4, 0.1, 8], [0.7, 0.7, 0.8], [-2, 5, 2], [0.8, 0.9, 0.4]]}],\n",
       "       [datetime.datetime(2015, 3, 5, 18, 21, 40, 865000),\n",
       "        datetime.datetime(2011, 5, 8, 18, 5, 3, 165000),\n",
       "        datetime.datetime(2019, 11, 18, 10, 3, 2, 245000),\n",
       "        datetime.datetime(2015, 3, 5, 18, 21, 40, 865000),\n",
       "        datetime.datetime(2011, 5, 8, 18, 5, 3, 165000),\n",
       "        datetime.datetime(2019, 11, 18, 10, 3, 2, 245000),\n",
       "        datetime.datetime(2021, 12, 2, 18, 21, 40, 865000),\n",
       "        datetime.datetime(2022, 5, 4, 18, 5, 3, 165000),\n",
       "        datetime.datetime(2022, 6, 7, 10, 3, 2, 245000)]], dtype=object)"
      ]
     },
     "execution_count": 346,
     "metadata": {},
     "output_type": "execute_result"
    }
   ],
   "source": [
    "#Slice?\n",
    "\n",
    "np.array(combined)[:3,:5]"
   ]
  },
  {
   "cell_type": "code",
   "execution_count": 330,
   "id": "e9bbe505",
   "metadata": {},
   "outputs": [
    {
     "data": {
      "text/plain": [
       "numpy.ndarray"
      ]
     },
     "execution_count": 330,
     "metadata": {},
     "output_type": "execute_result"
    }
   ],
   "source": [
    "type(deleted_d[1])"
   ]
  },
  {
   "cell_type": "code",
   "execution_count": 595,
   "id": "80092ecd",
   "metadata": {},
   "outputs": [
    {
     "data": {
      "text/plain": [
       "array([[ 2,  4],\n",
       "       [ 1,  6],\n",
       "       [ 8,  2],\n",
       "       [ 1, -2],\n",
       "       [ 8,  2],\n",
       "       [ 1, -2]])"
      ]
     },
     "execution_count": 595,
     "metadata": {},
     "output_type": "execute_result"
    }
   ],
   "source": [
    "#The toy problem.\n",
    "\n",
    "#Is it this one?\n",
    "np.array([[2, 4],\n",
    "         [1, 6],\n",
    "         [8, 2],\n",
    "         [1, -2],\n",
    "         [8, 2],\n",
    "         [1, -2]])[:,:2]"
   ]
  },
  {
   "cell_type": "code",
   "execution_count": 596,
   "id": "6ec308ac",
   "metadata": {},
   "outputs": [
    {
     "data": {
      "text/plain": [
       "array([[7, 8],\n",
       "       [2, 1]])"
      ]
     },
     "execution_count": 596,
     "metadata": {},
     "output_type": "execute_result"
    }
   ],
   "source": [
    "#Or is it this one\n",
    "np.array([[2, 4, 5, 7, 8, 10, 11, 25],\n",
    "          [1, 6, 8, 2, 1, -2, 8, 2]])[:,3:5]"
   ]
  },
  {
   "cell_type": "code",
   "execution_count": null,
   "id": "46af104c",
   "metadata": {},
   "outputs": [],
   "source": [
    "#The concept of the toy problem. Using toy problems to solve whatever problems you face\n",
    "\n",
    "#Also touching on design concepts "
   ]
  },
  {
   "cell_type": "code",
   "execution_count": 599,
   "id": "b351c278",
   "metadata": {},
   "outputs": [
    {
     "data": {
      "text/plain": [
       "array([[{'2015-03-05_nameA': [array([ 2, -4, -5]), array([0.6, 0.7, 0.8]), array([ 3,  0, -3]), array([0.4, 0.6, 0.7])]},\n",
       "        {'2011-05-08_nameB': [array([-2,  5, -1]), array([0.8, 0.7, 0.5]), array([-7,  0, -4]), array([0.1, 0.1, 0.3])]},\n",
       "        {'2019-11-18_nameC': [array([ 5, -1,  2]), array([0.3, 0.5, 0.8]), array([-3,  5, -1]), array([0.8, 0.9, 0.2])]},\n",
       "        {'2015-03-05_nameA': [array([11,  5,  4]), array([0.6, 0.7, 0.8]), array([25, 22, 19]), array([0.4, 0.6, 0.7])]}],\n",
       "       [datetime.datetime(2015, 3, 5, 18, 21, 40, 865000),\n",
       "        datetime.datetime(2011, 5, 8, 18, 5, 3, 165000),\n",
       "        datetime.datetime(2019, 11, 18, 10, 3, 2, 245000),\n",
       "        datetime.datetime(2015, 3, 5, 18, 21, 40, 865000)]], dtype=object)"
      ]
     },
     "execution_count": 599,
     "metadata": {},
     "output_type": "execute_result"
    }
   ],
   "source": [
    "np.array(combined)[:3,:4]"
   ]
  },
  {
   "cell_type": "code",
   "execution_count": 603,
   "id": "6198e107",
   "metadata": {},
   "outputs": [
    {
     "data": {
      "image/png": "[encoded data removed]",
      "text/plain": [
       "<Figure size 432x288 with 1 Axes>"
      ]
     },
     "metadata": {
      "needs_background": "light"
     },
     "output_type": "display_data"
    }
   ],
   "source": [
    "demo_funcs.demo_plot2d(np.array(combined)[:,1:3], \n",
    "                     title = 'appended_artifact',\n",
    "                     verbose_data=False, \n",
    "                     mag_line=True)"
   ]
  },
  {
   "cell_type": "code",
   "execution_count": 377,
   "id": "77dd9c1a",
   "metadata": {},
   "outputs": [
    {
     "data": {
      "text/plain": [
       "array([datetime.datetime(2015, 3, 5, 18, 21, 40, 865000),\n",
       "       datetime.datetime(2011, 5, 8, 18, 5, 3, 165000),\n",
       "       datetime.datetime(2019, 11, 18, 10, 3, 2, 245000),\n",
       "       datetime.datetime(2015, 3, 5, 18, 21, 40, 865000),\n",
       "       datetime.datetime(2011, 5, 8, 18, 5, 3, 165000),\n",
       "       datetime.datetime(2019, 11, 18, 10, 3, 2, 245000)], dtype=object)"
      ]
     },
     "execution_count": 377,
     "metadata": {},
     "output_type": "execute_result"
    }
   ],
   "source": [
    "np.array(combined)[:,0:6][1]"
   ]
  },
  {
   "cell_type": "code",
   "execution_count": 382,
   "id": "27176fab",
   "metadata": {},
   "outputs": [
    {
     "data": {
      "text/plain": [
       "[20150305, 20110508, 20191118, 20150305, 20110508, 20191118]"
      ]
     },
     "execution_count": 382,
     "metadata": {},
     "output_type": "execute_result"
    }
   ],
   "source": [
    "[int(x.strftime('%Y%m%d')) for x in np.array(combined)[:,0:6][1]]  # int(np.array(combined)[:,0:6][1][0].strftime('%Y%m%d'))"
   ]
  },
  {
   "cell_type": "code",
   "execution_count": 606,
   "id": "27d5f87b",
   "metadata": {},
   "outputs": [
    {
     "name": "stdout",
     "output_type": "stream",
     "text": [
      "Plot magnitude as a function of time\n"
     ]
    },
    {
     "data": {
      "image/png": "[encoded data removed]",
      "text/plain": [
       "<Figure size 432x288 with 1 Axes>"
      ]
     },
     "metadata": {
      "needs_background": "light"
     },
     "output_type": "display_data"
    }
   ],
   "source": [
    "#Challenge. we could do together. Write a part of this pipe that takes in the data structure.\n",
    "#For each data calculate the magnitude using the numpy function where magnitude of mean [0] and mean [1]\n",
    "\n",
    "#Visualize the data as a function of the date time objects (x axis)\n",
    "demo_funcs.function_of_time(np.array(combined)[:,4:7])"
   ]
  },
  {
   "cell_type": "code",
   "execution_count": 360,
   "id": "70f9b4d0",
   "metadata": {},
   "outputs": [
    {
     "data": {
      "text/plain": [
       "5.830951894845301"
      ]
     },
     "execution_count": 360,
     "metadata": {},
     "output_type": "execute_result"
    }
   ],
   "source": [
    "np.linalg.norm([3, 5])"
   ]
  },
  {
   "cell_type": "code",
   "execution_count": 361,
   "id": "5165a8a5",
   "metadata": {},
   "outputs": [
    {
     "data": {
      "text/plain": [
       "5.830951894845301"
      ]
     },
     "execution_count": 361,
     "metadata": {},
     "output_type": "execute_result"
    }
   ],
   "source": [
    "np.sqrt((3**2)+(5**2)  )"
   ]
  },
  {
   "cell_type": "code",
   "execution_count": null,
   "id": "1d678cbe",
   "metadata": {},
   "outputs": [],
   "source": []
  },
  {
   "cell_type": "code",
   "execution_count": 432,
   "id": "455e55fc",
   "metadata": {
    "scrolled": true
   },
   "outputs": [
    {
     "name": "stdout",
     "output_type": "stream",
     "text": [
      "26\n"
     ]
    }
   ],
   "source": [
    "import scipy.stats as stats\n",
    "import math\n",
    "import pandas as pd\n",
    "import matplotlib.pyplot as plt\n",
    "\n",
    "data_bag  =['mango', 'orange','apple','orange',\n",
    " 'strawberry','strawberry','cucumber',\n",
    " 'lemon','orange','guava', 'mango',\n",
    " 'strawberry','blackberry','strawberry',\n",
    " 'lemon','orange','guava','strawberry','apple','guava',\n",
    " 'orange','cucumber','cucumber','lemon','cucumber','lemon']\n",
    "\n",
    "df = pd.DataFrame(data_bag)\n",
    "print(len(data_bag))"
   ]
  },
  {
   "cell_type": "code",
   "execution_count": 424,
   "id": "f5f963d9",
   "metadata": {},
   "outputs": [
    {
     "name": "stdout",
     "output_type": "stream",
     "text": [
      "The confidence interval of observing observing strawberry from the distribution is 0.040818127280702304 and 0.34379725733468236 given a condfidence level of: 0.95\n"
     ]
    }
   ],
   "source": [
    "# Specify sample occurrences (x), sample size (n) and confidence level\n",
    "x = data_bag.count('strawberry')\n",
    "n = len(data_bag )\n",
    "cl = 0.95 #This is set by best practice\n",
    "\n",
    "#Calculate \n",
    "pes = x/n #point estimate\n",
    "a = (1-cl) #alpha - level of significance\n",
    "critical_z = stats.norm.ppf(1-a/2) #critical z-value\n",
    "standard_error = math.sqrt((pes*(1-pes)/n)) #standard error, \n",
    "margin_of_error = critical_z * standard_error #margin of error\n",
    "\n",
    "# Calculate the lower and upper bound of the confidence interval\n",
    "lower_bound = pes - margin_of_error\n",
    "upper_bound = pes + margin_of_error\n",
    "\n",
    "# Print the results\n",
    "print(\"The confidence interval of observing observing strawberry from the population is\", lower_bound,\"and\",upper_bound,\n",
    "     \"given a condfidence level of:\", cl)"
   ]
  },
  {
   "cell_type": "code",
   "execution_count": 439,
   "id": "7d64e4ec",
   "metadata": {},
   "outputs": [
    {
     "name": "stdout",
     "output_type": "stream",
     "text": [
      "The confidence interval of observing observing strawberry from the distribution is 0.03356930139828976 and 0.35104608321709485 given a condfidence level of: 0.96\n"
     ]
    },
    {
     "data": {
      "text/plain": [
       "0.3174767818188051"
      ]
     },
     "execution_count": 439,
     "metadata": {},
     "output_type": "execute_result"
    }
   ],
   "source": [
    "demo_funcs.confidence_level_categorical(data_bag, 'strawberry', 0.96, verbose=True)"
   ]
  },
  {
   "cell_type": "code",
   "execution_count": 440,
   "id": "fd67011a",
   "metadata": {},
   "outputs": [
    {
     "data": {
      "image/png": "[encoded data removed]",
      "text/plain": [
       "<Figure size 432x288 with 1 Axes>"
      ]
     },
     "metadata": {
      "needs_background": "light"
     },
     "output_type": "display_data"
    }
   ],
   "source": [
    "plt.plot([0.7, 0.9, 0.95, 0.99], \n",
    "         [ demo_funcs.confidence_level_categorical(data_bag, 'strawberry', 0.7),\n",
    "           demo_funcs.confidence_level_categorical(data_bag, 'strawberry', 0.9),\n",
    "           demo_funcs.confidence_level_categorical(data_bag, 'strawberry', 0.95),\n",
    "           demo_funcs.confidence_level_categorical(data_bag, 'strawberry',  0.99)])\n",
    "plt.title(\"Confidence interval width versus confidence level \")\n",
    "plt.grid()\n",
    "\n",
    "#The greater your confidence level. The wider your confidence interval. The greater your confidence\n",
    "#level the larger the net you have to catch the mean correct mean value"
   ]
  },
  {
   "cell_type": "code",
   "execution_count": 499,
   "id": "b3021246",
   "metadata": {},
   "outputs": [],
   "source": [
    "demo_funcs.confidence_level_numerical(dataset_a, 0.95, verbose=True)"
   ]
  },
  {
   "cell_type": "code",
   "execution_count": 608,
   "id": "9e1cce6b",
   "metadata": {},
   "outputs": [],
   "source": [
    "group_a = [70, 80, 65, 32, 89, 72, 32, 54, 34, 56, 68, 62, 80, 75, 63, 45,\n",
    "             54, 58, 50, 61, 72, 73, 41, 82, 90, 42, 54, 62, 85, 81, 70, 70,\n",
    "             45, 18, 80, 21, 11, 83, 77, 62, 26, 54, 64, 81, 71, 32, 63, 61,\n",
    "             51, 86, 18, 18, 12, 92, 94, 17, 67, 18, 71, 32, 75, 52, 20, 83,\n",
    "             51, 41, 27, 88, 64, 36, 82, 29, 62, 48, 21, 96, 81, 49, 31, 99]\n",
    "\n",
    "group_b = [91, 68, 69, 40, 80, 29, 50, 74, 69, 52, 57, 45, 50, 88, 59, 82, \n",
    "             90, 85, 40, 60, 72, 37, 87, 58, 63, 56, 85, 84, 71, 64, 80, 61,\n",
    "             82, 58, 96, 61, 62, 73, 66, 82, 60, 40, 92, 82, 55, 91, 79, 79,\n",
    "             85, 38, 19, 40, 84, 83, 51, 62, 79, 42, 64, 80, 35, 67, 88, 99,\n",
    "             67, 86, 78, 68, 79, 92, 94, 87, 64, 51, 81, 78, 75, 52, 60, 83]"
   ]
  },
  {
   "cell_type": "code",
   "execution_count": 607,
   "id": "a0400f7f",
   "metadata": {},
   "outputs": [],
   "source": [
    "#zscore = 3\n",
    "#print(stats.norm.cdf(3))"
   ]
  },
  {
   "cell_type": "code",
   "execution_count": 514,
   "id": "c6e90978",
   "metadata": {},
   "outputs": [],
   "source": [
    "#p value-> The probability of observing the data or data more extreme given that the null is true\n",
    "#A small p-value (typically less than 0.05) indicates that the observed data is unlikely to\n",
    "#have occurred by chance, and suggests that the null hypothesis should be rejected in favor \n",
    "#of the alternative hypothesis.\n",
    "\n",
    "#Alpha -> The significance level, is the threshold of probability (p-value) \n",
    "#at which you reject the null hypothesis in a hypothesis test. It is typically set at 0.05,\n",
    "\n",
    "#cl = 0.95\n",
    "#a = 1-0.95 = 0.05\n",
    "\n",
    "#0.05/2, 0.05/2\n",
    "\n",
    "#IF THE PVALUE IS LESS THAN ALPHA WE REJECT THE NULL HYPOTHESIS"
   ]
  },
  {
   "cell_type": "code",
   "execution_count": 515,
   "id": "193ab831",
   "metadata": {},
   "outputs": [
    {
     "name": "stdout",
     "output_type": "stream",
     "text": [
      "The number of students in group A is: 80\n",
      "The number of students in group B is: 80\n"
     ]
    }
   ],
   "source": [
    "#For simplest hypothesis test we can do ztest\n",
    "from statsmodels.stats.weightstats import ztest\n",
    "from scipy.stats import chisquare\n",
    "\n",
    "print(\"The number of students in group A is:\", len(group_a))\n",
    "print(\"The number of students in group B is:\", len(group_b))\n",
    "n = len(dataset_a)"
   ]
  },
  {
   "cell_type": "code",
   "execution_count": 610,
   "id": "cf8a6e62",
   "metadata": {},
   "outputs": [
    {
     "name": "stdout",
     "output_type": "stream",
     "text": [
      "Zscore: -4.199403817734997 pValue 2.676186771579294e-05\n"
     ]
    }
   ],
   "source": [
    "#Lets say in the year 2019 someone did a study and found that the mean score is 60\n",
    "#Then comes a researcher and measures dataset_a test results\n",
    "\n",
    "#We can state our Null hypothesis in this case that the mean score is 60\n",
    "#Null hypothesis are hypothesis of no change. No difference. (status quo)\n",
    "#Alternate hypothesis the mean score is not 60, challenge the status quo\n",
    "\n",
    "#H_o = The mean score = 60\n",
    "#H_1 = The mean score != 60\n",
    "\n",
    "#We can test for significance of a single sample.\n",
    "ztest_reultst = ztest(group_a, value=68.3125)\n",
    "print(\"Zscore:\", ztest_reultst[0], \"pValue\", ztest_reultst[1])"
   ]
  },
  {
   "cell_type": "code",
   "execution_count": 1,
   "id": "ef31c65a",
   "metadata": {},
   "outputs": [
    {
     "ename": "NameError",
     "evalue": "name 'np' is not defined",
     "output_type": "error",
     "traceback": [
      "\u001b[1;31m---------------------------------------------------------------------------\u001b[0m",
      "\u001b[1;31mNameError\u001b[0m                                 Traceback (most recent call last)",
      "Input \u001b[1;32mIn [1]\u001b[0m, in \u001b[0;36m<cell line: 1>\u001b[1;34m()\u001b[0m\n\u001b[1;32m----> 1\u001b[0m \u001b[43mnp\u001b[49m\u001b[38;5;241m.\u001b[39mlinspace(\u001b[38;5;241m0\u001b[39m,\u001b[38;5;241m20\u001b[39m)\n",
      "\u001b[1;31mNameError\u001b[0m: name 'np' is not defined"
     ]
    }
   ],
   "source": [
    "np.linspace(0,20)"
   ]
  },
  {
   "cell_type": "code",
   "execution_count": 611,
   "id": "e4485122",
   "metadata": {},
   "outputs": [
    {
     "name": "stdout",
     "output_type": "stream",
     "text": [
      "Zscore: 4.17152619442383 pValue 3.0256626688326636e-05\n"
     ]
    }
   ],
   "source": [
    "#There is another class that takes the same test and gets different \n",
    "ztest_reultst = ztest(group_b, value=60)\n",
    "print(\"Zscore:\", ztest_reultst[0], \"pValue\", ztest_reultst[1])"
   ]
  },
  {
   "cell_type": "code",
   "execution_count": 613,
   "id": "5815289a",
   "metadata": {},
   "outputs": [
    {
     "name": "stdout",
     "output_type": "stream",
     "text": [
      "Zscore: 4.17152619442383 pValue 3.0256626688326636e-05\n"
     ]
    }
   ],
   "source": [
    "#This is interesting. Based on the results of the ztest \n",
    "ztest_reults = ztest(class_a, class_b,value=0)\n",
    "print(\"Zscore:\", ztest_reultst[0], \"pValue\", ztest_reultst[1])"
   ]
  },
  {
   "cell_type": "code",
   "execution_count": null,
   "id": "ed7aa3ed",
   "metadata": {},
   "outputs": [],
   "source": [
    "#We can use t test if the variance is unknown and the sample size is small"
   ]
  },
  {
   "cell_type": "code",
   "execution_count": 614,
   "id": "54ffb5b4",
   "metadata": {},
   "outputs": [
    {
     "data": {
      "text/plain": [
       "tuple"
      ]
     },
     "execution_count": 614,
     "metadata": {},
     "output_type": "execute_result"
    }
   ],
   "source": [
    "(corr)"
   ]
  },
  {
   "cell_type": "code",
   "execution_count": 616,
   "id": "0d833fab",
   "metadata": {},
   "outputs": [
    {
     "name": "stdout",
     "output_type": "stream",
     "text": [
      "Correlation Coefficient: 0.6544125917346852 Pvalue: 0.02890829080248868\n"
     ]
    }
   ],
   "source": [
    "#Correlation test. Pearsons correlation coeeficient\n",
    "#1 is positive strong correlation\n",
    "#-1 is negative anti correlation\n",
    "\n",
    "#H_0 there is no correlation between the two variables\n",
    "#H_1 there is a correlation between two variables\n",
    "\n",
    "practice = [15, 18, 12, 19, 18, 12, 12, 8, 8, 20, 35]\n",
    "actual = [72, 68, 60, 54, 85, 51, 40, 32, 30, 73, 72 ]\n",
    "\n",
    "corr = stats.pearsonr(practice, actual)\n",
    "print (\"Correlation Coefficient:\", corr[0], \"Pvalue:\", corr[1]) "
   ]
  },
  {
   "cell_type": "code",
   "execution_count": 530,
   "id": "fbdbfa9b",
   "metadata": {},
   "outputs": [
    {
     "name": "stdout",
     "output_type": "stream",
     "text": [
      "Correlation Coefficient: 0.0020030347299763718 Pvalue: 0.9956183791079166\n"
     ]
    }
   ],
   "source": [
    "#H_0 there is no correlation between the two variables\n",
    "#H_1 there is a correlation between two variables\n",
    "\n",
    "practice = [-14, 0, 12, 19, 1, 12, 12, -2, 2, 30]\n",
    "actual = [72, 72, 60, 54, 85, 51, 40, 32, 30, 73 ]\n",
    "\n",
    "corr = stats.pearsonr(practice, actual)\n",
    "print (\"Correlation Coefficient:\", corr[0], \"Pvalue:\", corr[1]) "
   ]
  },
  {
   "cell_type": "code",
   "execution_count": 543,
   "id": "945ba802",
   "metadata": {},
   "outputs": [
    {
     "name": "stdout",
     "output_type": "stream",
     "text": [
      "Statistic: 19.12089743546728 pvalue: 0.014226288235863074\n"
     ]
    }
   ],
   "source": [
    "#H_0: There is no relationship/ goodness of fit between the two variables\n",
    "#H_1: hypothesis: There is no relationship/ goodness of fit between the two variables\n",
    "\n",
    "#Chi squared goodness of fit\n",
    "expected = [51, 71, 65, 62, 55, 62, 81, 75, 63]\n",
    "observed = [50, 66, 40, 47, 53, 66, 72, 62, 52]\n",
    "\n",
    "chi_square_stats = stats.chisquare(f_obs=observed, f_exp=expected)\n",
    "print(\"Statistic:\", chi_square_stats[0], \"pvalue:\", chi_square_stats[1])"
   ]
  },
  {
   "cell_type": "code",
   "execution_count": 555,
   "id": "7e537e2a",
   "metadata": {},
   "outputs": [
    {
     "data": {
      "image/png": "[encoded data removed]",
      "text/plain": [
       "<Figure size 432x288 with 1 Axes>"
      ]
     },
     "metadata": {
      "needs_background": "light"
     },
     "output_type": "display_data"
    }
   ],
   "source": [
    "plt.scatter(expected,observed)\n",
    "plt.plot([0,100], [0,100]   )\n",
    "plt.title(\"Predicted vs observed\")\n",
    "plt.xlabel(\"Expected\")\n",
    "plt.ylabel(\"Predicated\")\n",
    "plt.grid()\n",
    "plt.show()"
   ]
  },
  {
   "cell_type": "code",
   "execution_count": null,
   "id": "ba85507c",
   "metadata": {},
   "outputs": [],
   "source": []
  },
  {
   "cell_type": "code",
   "execution_count": null,
   "id": "58372b2a",
   "metadata": {},
   "outputs": [],
   "source": [
    "#developers impact N copies sold.\n",
    "\n",
    "#H_o: There is no distinction between developer and N copies sold\n",
    "#H_1: There is a distinction between developer and N copies sold\n",
    "\n",
    "#Correlation?\n",
    "#Ztesting...\n",
    "\n",
    "#dataA = [48410000.0, 40170000.0, ] #All N copies sold of games of Nintendo EPD]\n",
    "#dataB = [40170000.0, All N copies sold of games of Nintendo Bandai Namco]\n",
    "\n",
    "#ztest_reults = ztest(class_a, class_b,value=0)\n",
    "#print(\"Zscore:\", ztest_reultst[0], \"pValue\", ztest_reultst[1])"
   ]
  },
  {
   "cell_type": "code",
   "execution_count": 575,
   "id": "5eff93cd",
   "metadata": {
    "scrolled": true
   },
   "outputs": [
    {
     "data": {
      "text/html": [
       "<div>\n",
       "<style scoped>\n",
       "    .dataframe tbody tr th:only-of-type {\n",
       "        vertical-align: middle;\n",
       "    }\n",
       "\n",
       "    .dataframe tbody tr th {\n",
       "        vertical-align: top;\n",
       "    }\n",
       "\n",
       "    .dataframe thead th {\n",
       "        text-align: right;\n",
       "    }\n",
       "</style>\n",
       "<table border=\"1\" class=\"dataframe\">\n",
       "  <thead>\n",
       "    <tr style=\"text-align: right;\">\n",
       "      <th></th>\n",
       "      <th>title</th>\n",
       "      <th>copies_sold</th>\n",
       "      <th>genre</th>\n",
       "      <th>developer</th>\n",
       "      <th>publisher</th>\n",
       "      <th>as_of</th>\n",
       "      <th>release_date</th>\n",
       "    </tr>\n",
       "  </thead>\n",
       "  <tbody>\n",
       "    <tr>\n",
       "      <th>0</th>\n",
       "      <td>Mario Kart 8 Deluxe</td>\n",
       "      <td>48410000.0</td>\n",
       "      <td>Kart racing</td>\n",
       "      <td>Nintendo EPD</td>\n",
       "      <td>Nintendo</td>\n",
       "      <td>2022-09-30</td>\n",
       "      <td>2017-04-28</td>\n",
       "    </tr>\n",
       "    <tr>\n",
       "      <th>1</th>\n",
       "      <td>Animal Crossing: New Horizons</td>\n",
       "      <td>40170000.0</td>\n",
       "      <td>Social simulation</td>\n",
       "      <td>Nintendo EPD</td>\n",
       "      <td>Nintendo</td>\n",
       "      <td>2022-09-30</td>\n",
       "      <td>2020-03-20</td>\n",
       "    </tr>\n",
       "    <tr>\n",
       "      <th>2</th>\n",
       "      <td>Super Smash Bros. Ultimate</td>\n",
       "      <td>29530000.0</td>\n",
       "      <td>Fighting</td>\n",
       "      <td>Bandai Namco StudiosSora Ltd.</td>\n",
       "      <td>Nintendo</td>\n",
       "      <td>2022-09-30</td>\n",
       "      <td>2018-12-07</td>\n",
       "    </tr>\n",
       "    <tr>\n",
       "      <th>3</th>\n",
       "      <td>The Legend of Zelda: Breath of the Wild</td>\n",
       "      <td>27790000.0</td>\n",
       "      <td>Action-adventure</td>\n",
       "      <td>Nintendo EPD</td>\n",
       "      <td>Nintendo</td>\n",
       "      <td>2022-09-30</td>\n",
       "      <td>2017-03-03</td>\n",
       "    </tr>\n",
       "    <tr>\n",
       "      <th>4</th>\n",
       "      <td>Pokémon Sword and Shield</td>\n",
       "      <td>25370000.0</td>\n",
       "      <td>Role-playing</td>\n",
       "      <td>Game Freak</td>\n",
       "      <td>The Pokémon CompanyNintendo</td>\n",
       "      <td>2022-09-30</td>\n",
       "      <td>2019-11-15</td>\n",
       "    </tr>\n",
       "    <tr>\n",
       "      <th>...</th>\n",
       "      <td>...</td>\n",
       "      <td>...</td>\n",
       "      <td>...</td>\n",
       "      <td>...</td>\n",
       "      <td>...</td>\n",
       "      <td>...</td>\n",
       "      <td>...</td>\n",
       "    </tr>\n",
       "    <tr>\n",
       "      <th>68</th>\n",
       "      <td>Fitness Boxing</td>\n",
       "      <td>1000000.0</td>\n",
       "      <td>Exergamerhythm</td>\n",
       "      <td>Imagineer</td>\n",
       "      <td>JP: ImagineerNA/PAL: Nintendo</td>\n",
       "      <td>2020-09-08</td>\n",
       "      <td>2018-12-20</td>\n",
       "    </tr>\n",
       "    <tr>\n",
       "      <th>69</th>\n",
       "      <td>Fitness Boxing 2: Rhythm and Exercise</td>\n",
       "      <td>1000000.0</td>\n",
       "      <td>Exergamerhythm</td>\n",
       "      <td>Imagineer</td>\n",
       "      <td>JP: ImagineerNA/PAL: Nintendo</td>\n",
       "      <td>2021-12-09</td>\n",
       "      <td>2020-12-04</td>\n",
       "    </tr>\n",
       "    <tr>\n",
       "      <th>70</th>\n",
       "      <td>Shin Megami Tensei V</td>\n",
       "      <td>1000000.0</td>\n",
       "      <td>Role-playing</td>\n",
       "      <td>Atlus</td>\n",
       "      <td>JP: AtlusNA: SegaPAL: Nintendo</td>\n",
       "      <td>2022-04-18</td>\n",
       "      <td>2021-11-11</td>\n",
       "    </tr>\n",
       "    <tr>\n",
       "      <th>71</th>\n",
       "      <td>Story of Seasons: Pioneers of Olive Town</td>\n",
       "      <td>1000000.0</td>\n",
       "      <td>Simulationrole-playing</td>\n",
       "      <td>Marvelous</td>\n",
       "      <td>Xseed Games</td>\n",
       "      <td>2021-11-18</td>\n",
       "      <td>2021-02-25</td>\n",
       "    </tr>\n",
       "    <tr>\n",
       "      <th>72</th>\n",
       "      <td>Thief Simulator</td>\n",
       "      <td>1000000.0</td>\n",
       "      <td>Stealth</td>\n",
       "      <td>Noble Muffins</td>\n",
       "      <td>Forever Entertainment</td>\n",
       "      <td>2021-07-16</td>\n",
       "      <td>2019-05-19</td>\n",
       "    </tr>\n",
       "  </tbody>\n",
       "</table>\n",
       "<p>73 rows × 7 columns</p>\n",
       "</div>"
      ],
      "text/plain": [
       "                                       title  copies_sold  \\\n",
       "0                        Mario Kart 8 Deluxe   48410000.0   \n",
       "1              Animal Crossing: New Horizons   40170000.0   \n",
       "2                 Super Smash Bros. Ultimate   29530000.0   \n",
       "3    The Legend of Zelda: Breath of the Wild   27790000.0   \n",
       "4                   Pokémon Sword and Shield   25370000.0   \n",
       "..                                       ...          ...   \n",
       "68                            Fitness Boxing    1000000.0   \n",
       "69     Fitness Boxing 2: Rhythm and Exercise    1000000.0   \n",
       "70                      Shin Megami Tensei V    1000000.0   \n",
       "71  Story of Seasons: Pioneers of Olive Town    1000000.0   \n",
       "72                           Thief Simulator    1000000.0   \n",
       "\n",
       "                     genre                      developer  \\\n",
       "0              Kart racing                   Nintendo EPD   \n",
       "1        Social simulation                   Nintendo EPD   \n",
       "2                 Fighting  Bandai Namco StudiosSora Ltd.   \n",
       "3         Action-adventure                   Nintendo EPD   \n",
       "4             Role-playing                     Game Freak   \n",
       "..                     ...                            ...   \n",
       "68          Exergamerhythm                      Imagineer   \n",
       "69          Exergamerhythm                      Imagineer   \n",
       "70            Role-playing                          Atlus   \n",
       "71  Simulationrole-playing                      Marvelous   \n",
       "72                 Stealth                  Noble Muffins   \n",
       "\n",
       "                         publisher       as_of release_date  \n",
       "0                         Nintendo  2022-09-30   2017-04-28  \n",
       "1                         Nintendo  2022-09-30   2020-03-20  \n",
       "2                         Nintendo  2022-09-30   2018-12-07  \n",
       "3                         Nintendo  2022-09-30   2017-03-03  \n",
       "4      The Pokémon CompanyNintendo  2022-09-30   2019-11-15  \n",
       "..                             ...         ...          ...  \n",
       "68   JP: ImagineerNA/PAL: Nintendo  2020-09-08   2018-12-20  \n",
       "69   JP: ImagineerNA/PAL: Nintendo  2021-12-09   2020-12-04  \n",
       "70  JP: AtlusNA: SegaPAL: Nintendo  2022-04-18   2021-11-11  \n",
       "71                     Xseed Games  2021-11-18   2021-02-25  \n",
       "72           Forever Entertainment  2021-07-16   2019-05-19  \n",
       "\n",
       "[73 rows x 7 columns]"
      ]
     },
     "execution_count": 575,
     "metadata": {},
     "output_type": "execute_result"
    }
   ],
   "source": [
    "df = pd.read_csv('./data/best_selling_switch_games.csv')\n",
    "\n",
    "dfori = df.copy()\n",
    "dfori"
   ]
  },
  {
   "cell_type": "code",
   "execution_count": null,
   "id": "db300a0d",
   "metadata": {},
   "outputs": [],
   "source": []
  },
  {
   "cell_type": "code",
   "execution_count": 576,
   "id": "2390a024",
   "metadata": {},
   "outputs": [],
   "source": [
    "#Correlation test\n",
    "#Release date and copies sold. There may be a positive correlation between time approaching christmas\n",
    "#and number of copies sold\n",
    "\n",
    "#H_0: There is no correlation between release date and number of copies sold\n",
    "#H_1: There is a correlation between release date and copies sold and \n",
    "\n",
    "#How would we test that?\n",
    "    #Convert release date into 12 bins. One for each month\n",
    "    \n",
    "    #Summ N copies sold into 12 bins as well. Summing up all the values that fall within that \n",
    "    #respective month\n",
    "    \n",
    "    #Use pearson correlation test: corr = stats.pearsonr(practice, actual)\n",
    "    \n",
    "    #Interpret result"
   ]
  },
  {
   "cell_type": "code",
   "execution_count": null,
   "id": "649c6ce6",
   "metadata": {},
   "outputs": [],
   "source": [
    "#There is role playing and action role playing. The two genres are effectively the same based on\n",
    "#Sales number\n",
    "    #H_0: There is no difference between the N copies sold of roleplaying and N copies sold\n",
    "    #of action roleplaying\n",
    "    #H_1: There is a difference between the N copies sold.\n",
    "\n",
    "    #Create two lists, one with sales figures of roleplaying and another with N copies of action\n",
    "    #roleplaying\n",
    "    \n",
    "    #ztest_reults = ztest(RPG, ARPG)\n",
    "    \n",
    "    #Interpret result\n",
    "    #Likewise you can compare other genres the same manner "
   ]
  },
  {
   "cell_type": "code",
   "execution_count": null,
   "id": "9ffc08b3",
   "metadata": {},
   "outputs": [],
   "source": []
  },
  {
   "cell_type": "code",
   "execution_count": 581,
   "id": "85c1a061",
   "metadata": {},
   "outputs": [
    {
     "name": "stdout",
     "output_type": "stream",
     "text": [
      "Kart racing\n",
      "Social simulation\n",
      "Fighting\n",
      "Action-adventure\n",
      "Role-playing\n",
      "Platformer\n",
      "Party\n",
      "Role-playing\n",
      "Exergamerole-playing\n",
      "Role-playing\n",
      "Action role-playing\n",
      "Platformer\n",
      "Third-person shooter\n",
      "Action-adventure\n",
      "Role-playing\n",
      "Platformer\n",
      "Platformercompilation\n",
      "Party\n",
      "Third-person shooter\n",
      "PlatformerLevel editor\n",
      "Action role-playing\n",
      "Sports\n",
      "Action-adventure\n",
      "Platformer\n",
      "Sports\n",
      "Tabletop game\n",
      "Platformer\n",
      "Hack and slash\n",
      "Platformer\n",
      "Action-adventure\n",
      "Tactical role-playing\n",
      "Party\n",
      "Board game\n",
      "Role-playingaction-adventure\n",
      "Sandboxsurvival\n",
      "Partysocial deduction\n",
      "Platformer\n",
      "Action-adventure\n",
      "Photography\n",
      "Fighting\n",
      "Action role-playing\n",
      "Sports\n",
      "Real-time strategypuzzle\n",
      "Sports\n",
      "Role-playing\n",
      "Action puzzle\n",
      "Fighting\n",
      "Tactical role-playing\n",
      "Roguelike\n",
      "Rhythm\n",
      "Action role-playing\n",
      "Role-playing\n",
      "Action role-playing\n",
      "Puzzle\n",
      "Kart racingaugmented reality\n",
      "Fighting\n",
      "Fighting\n",
      "Action role-playing\n",
      "Construction kit\n",
      "Action-adventure, Hack and Slash\n",
      "Party\n",
      "Fighting\n",
      "Puzzle\n",
      "Survival horror\n",
      "Programming\n",
      "Action-adventure, Hack and Slash\n",
      "Bullet hell\n",
      "Hack and slashRole-playing\n",
      "Exergamerhythm\n",
      "Exergamerhythm\n",
      "Role-playing\n",
      "Simulationrole-playing\n",
      "Stealth\n"
     ]
    }
   ],
   "source": [
    "for k in range(0, len(dfori['genre'])):\n",
    "    print(dfori['genre'][k])"
   ]
  },
  {
   "cell_type": "code",
   "execution_count": 580,
   "id": "62b6d073",
   "metadata": {
    "scrolled": true
   },
   "outputs": [
    {
     "name": "stdout",
     "output_type": "stream",
     "text": [
      "Mario Kart 8 Deluxe\n",
      "Animal Crossing: New Horizons\n",
      "Super Smash Bros. Ultimate\n",
      "The Legend of Zelda: Breath of the Wild\n",
      "Pokémon Sword and Shield\n",
      "Super Mario Odyssey\n",
      "Super Mario Party\n",
      "Pokémon Brilliant Diamond and Shining Pearl\n",
      "Ring Fit Adventure\n",
      "Pokémon: Let's Go, Pikachu! and Let's Go, Eevee!\n",
      "Pokémon Legends: Arceus\n",
      "New Super Mario Bros. U Deluxe\n",
      "Splatoon 2\n",
      "Luigi's Mansion 3\n",
      "Pokémon Scarlet and Violet\n",
      "Super Mario 3D World + Bowser's Fury\n",
      "Super Mario 3D All-Stars\n",
      "Mario Party Superstars\n",
      "Splatoon 3\n",
      "Super Mario Maker 2\n",
      "Monster Hunter Rise\n",
      "Nintendo Switch Sports\n",
      "The Legend of Zelda: Link's Awakening\n",
      "Kirby and the Forgotten Land\n",
      "Mario Tennis Aces\n",
      "Clubhouse Games: 51 Worldwide Classics\n",
      "Donkey Kong Country: Tropical Freeze\n",
      "Hyrule Warriors: Age of Calamity\n",
      "Kirby Star Allies\n",
      "The Legend of Zelda: Skyward Sword HD\n",
      "Fire Emblem: Three Houses\n",
      "1-2-Switch\n",
      "Momotaro Dentetsu: Showa, Heisei, Reiwa Mo Teiban!\n",
      "Paper Mario: The Origami King\n",
      "Minecraft\n",
      "Among Us\n",
      "Yoshi's Crafted World\n",
      "Metroid Dread\n",
      "New Pokémon Snap\n",
      "Arms\n",
      "Xenoblade Chronicles 2\n",
      "Mario Golf: Super Rush\n",
      "Pikmin 3 Deluxe\n",
      "Mario Strikers: Battle League\n",
      "Octopath Traveler\n",
      "Captain Toad: Treasure Tracker\n",
      "Dragon Ball FighterZ\n",
      "Mario + Rabbids Kingdom Battle\n",
      "Pokémon Mystery Dungeon: Rescue Team DX\n",
      "Taiko no Tatsujin: Drum 'n' Fun!\n",
      "Xenoblade Chronicles 3\n",
      "Miitopia\n",
      "Xenoblade Chronicles: Definitive Edition\n",
      "Big Brain Academy: Brain vs. Brain\n",
      "Mario Kart Live: Home Circuit\n",
      "Dragon Ball Xenoverse 2\n",
      "Pokkén Tournament DX\n",
      "Marvel Ultimate Alliance 3: The Black Order\n",
      "Nintendo Labo Toy-Con 01: Variety Kit\n",
      "Astral Chain\n",
      "WarioWare: Get It Together!\n",
      "Naruto Shippudden: Ultimate Ninja Storm Trilogy\n",
      "Dr Kawashima's Brain Training for Nintendo Switch\n",
      "Resident Evil: Revelations Collection\n",
      "Game Builder Garage\n",
      "Bayonetta 2\n",
      "Enter the Gungeon\n",
      "Fire Emblem Warriors: Three Hopes\n",
      "Fitness Boxing\n",
      "Fitness Boxing 2: Rhythm and Exercise\n",
      "Shin Megami Tensei V\n",
      "Story of Seasons: Pioneers of Olive Town\n",
      "Thief Simulator\n"
     ]
    }
   ],
   "source": [
    "for k in range(0, len(dfori['title'])):\n",
    "    print(dfori['title'][k])"
   ]
  },
  {
   "cell_type": "code",
   "execution_count": 572,
   "id": "0957211a",
   "metadata": {},
   "outputs": [],
   "source": []
  },
  {
   "cell_type": "code",
   "execution_count": null,
   "id": "38915397",
   "metadata": {},
   "outputs": [],
   "source": []
  },
  {
   "cell_type": "code",
   "execution_count": 571,
   "id": "0b61b43c",
   "metadata": {},
   "outputs": [
    {
     "data": {
      "text/plain": [
       "<bound method Series.unique of 0                Kart racing\n",
       "1          Social simulation\n",
       "2                   Fighting\n",
       "3           Action-adventure\n",
       "4               Role-playing\n",
       "               ...          \n",
       "68            Exergamerhythm\n",
       "69            Exergamerhythm\n",
       "70              Role-playing\n",
       "71    Simulationrole-playing\n",
       "72                   Stealth\n",
       "Name: genre, Length: 73, dtype: object>"
      ]
     },
     "execution_count": 571,
     "metadata": {},
     "output_type": "execute_result"
    }
   ],
   "source": [
    "\n"
   ]
  },
  {
   "cell_type": "code",
   "execution_count": 565,
   "id": "3f2867d6",
   "metadata": {},
   "outputs": [
    {
     "data": {
      "text/plain": [
       "array(['Kart racing', 'Social simulation', 'Fighting', 'Action-adventure',\n",
       "       'Role-playing', 'Platformer', 'Party', 'Exergamerole-playing',\n",
       "       'Action role-playing', 'Third-person shooter',\n",
       "       'Platformercompilation', 'PlatformerLevel editor', 'Sports',\n",
       "       'Tabletop game', 'Hack and slash', 'Tactical role-playing',\n",
       "       'Board game', 'Role-playingaction-adventure', 'Sandboxsurvival',\n",
       "       'Partysocial deduction', 'Photography', 'Real-time strategypuzzle',\n",
       "       'Action puzzle', 'Roguelike', 'Rhythm', 'Puzzle',\n",
       "       'Kart racingaugmented reality', 'Construction kit',\n",
       "       'Action-adventure, Hack and Slash', 'Survival horror',\n",
       "       'Programming', 'Bullet hell', 'Hack and slashRole-playing',\n",
       "       'Exergamerhythm', 'Simulationrole-playing', 'Stealth'],\n",
       "      dtype=object)"
      ]
     },
     "execution_count": 565,
     "metadata": {},
     "output_type": "execute_result"
    }
   ],
   "source": [
    "df['genre'].unique()\n",
    "#clean_funcs.clean_df(df)"
   ]
  },
  {
   "cell_type": "code",
   "execution_count": null,
   "id": "9d7422bc",
   "metadata": {},
   "outputs": [],
   "source": [
    "#Zscore method. Zscores are just distances from the mean.\n",
    "#This just replaces the table"
   ]
  },
  {
   "cell_type": "code",
   "execution_count": 204,
   "id": "99353234",
   "metadata": {},
   "outputs": [
    {
     "data": {
      "text/plain": [
       "1.959963984540054"
      ]
     },
     "execution_count": 204,
     "metadata": {},
     "output_type": "execute_result"
    }
   ],
   "source": [
    "#Find the critical value"
   ]
  },
  {
   "cell_type": "code",
   "execution_count": null,
   "id": "2f5843f7",
   "metadata": {},
   "outputs": [],
   "source": [
    "#Left tailed\n",
    "scipy.stats.norm.ppf(.01)"
   ]
  },
  {
   "cell_type": "code",
   "execution_count": null,
   "id": "87521a42",
   "metadata": {},
   "outputs": [],
   "source": [
    "#Right tailed\n",
    "scipy.stats.norm.ppf(1-.01)"
   ]
  },
  {
   "cell_type": "code",
   "execution_count": 205,
   "id": "e3809c73",
   "metadata": {},
   "outputs": [
    {
     "data": {
      "text/plain": [
       "1.959963984540054"
      ]
     },
     "execution_count": 205,
     "metadata": {},
     "output_type": "execute_result"
    }
   ],
   "source": [
    "#Two tailed test\n",
    "scipy.stats.norm.ppf(1-.01/2)\n",
    "\n",
    "scipy.stats.norm.ppf(1-.05/2) #two tailed ttest"
   ]
  },
  {
   "cell_type": "code",
   "execution_count": 502,
   "id": "50a78185",
   "metadata": {},
   "outputs": [
    {
     "data": {
      "text/plain": [
       "2.5758293035489004"
      ]
     },
     "execution_count": 502,
     "metadata": {},
     "output_type": "execute_result"
    }
   ],
   "source": [
    "scipy.stats.norm.ppf(1-.01/2)"
   ]
  },
  {
   "cell_type": "code",
   "execution_count": 556,
   "id": "71d3c41a",
   "metadata": {},
   "outputs": [
    {
     "data": {
      "text/plain": [
       "0.975"
      ]
     },
     "execution_count": 556,
     "metadata": {},
     "output_type": "execute_result"
    }
   ],
   "source": [
    "1-.05/2"
   ]
  }
 ],
 "metadata": {
  "kernelspec": {
   "display_name": "Python 3 (ipykernel)",
   "language": "python",
   "name": "python3"
  },
  "language_info": {
   "codemirror_mode": {
    "name": "ipython",
    "version": 3
   },
   "file_extension": ".py",
   "mimetype": "text/x-python",
   "name": "python",
   "nbconvert_exporter": "python",
   "pygments_lexer": "ipython3",
   "version": "3.9.12"
  }
 },
 "nbformat": 4,
 "nbformat_minor": 5
}
