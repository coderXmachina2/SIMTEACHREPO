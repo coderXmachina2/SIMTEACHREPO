{
 "cells": [
  {
   "cell_type": "code",
   "execution_count": 42,
   "id": "ca8e1d9f",
   "metadata": {
    "scrolled": true
   },
   "outputs": [
    {
     "data": {
      "text/plain": [
       "<module 'pd_funcs.clean_funcs' from 'D:\\\\SIM_Teach\\\\Github_SIMTEACH_REPO_2\\\\SIMTEACHREPO\\\\pd_funcs\\\\clean_funcs.py'>"
      ]
     },
     "execution_count": 42,
     "metadata": {},
     "output_type": "execute_result"
    }
   ],
   "source": [
    "#a lesson in toy problems and design thinking concepts...\n",
    "\n",
    "import datetime\n",
    "import importlib\n",
    "import pickle\n",
    "import scipy.stats\n",
    "import scipy.stats as stats\n",
    "import math\n",
    "import pandas as pd\n",
    "import matplotlib.pyplot as plt\n",
    "\n",
    "import numpy as np  \n",
    "\n",
    "from IPython.display import Image as imgx\n",
    "from pd_funcs import clean_funcs\n",
    "from pd_funcs import demo_funcs\n",
    "from astropy.time import Time\n",
    "\n",
    "importlib.reload(demo_funcs)\n",
    "importlib.reload(clean_funcs)"
   ]
  },
  {
   "cell_type": "code",
   "execution_count": 28,
   "id": "60a6857c",
   "metadata": {},
   "outputs": [],
   "source": [
    "df = pd.read_csv('./load_data/Loan_Data.csv')\n",
    "\n",
    "df = clean_funcs.clean_df(df)"
   ]
  },
  {
   "cell_type": "code",
   "execution_count": null,
   "id": "844dbfc4",
   "metadata": {},
   "outputs": [],
   "source": []
  },
  {
   "cell_type": "code",
   "execution_count": 31,
   "id": "455e55fc",
   "metadata": {
    "scrolled": true
   },
   "outputs": [
    {
     "name": "stdout",
     "output_type": "stream",
     "text": [
      "31 items in the bag\n"
     ]
    }
   ],
   "source": [
    "data_bag  =['mango', 'orange','apple','orange',\n",
    "            'strawberry','strawberry','cucumber', 'mango',\n",
    "            'lemon','orange','guava', 'mango', 'strawberry',\n",
    "            'strawberry','blackberry','strawberry','apple',\n",
    "            'lemon','orange','guava','strawberry',\n",
    "            'apple','guava', 'lemon','orange',\n",
    "            'orange','cucumber','cucumber','lemon',\n",
    "            'cucumber','lemon']\n",
    "\n",
    "print(len(data_bag),\"items in the bag\")"
   ]
  },
  {
   "cell_type": "code",
   "execution_count": 22,
   "id": "b7e87726",
   "metadata": {},
   "outputs": [],
   "source": [
    "#A confidence interval (CI) is a range of values for which there is an attached probability that the value of a \n",
    "#measured parameter lies within it.\n",
    "\n",
    "#Computed with the confidence level (CL). Confidence levels is a probability (0.8, 0.9, 0.95, 0.95) with which the \n",
    "#estimation of the location of a measured parameter (e.g. mean) in a sample is also true for the population. \n",
    "#The CL is adjustable based on our confidence but 0.95 is usually the best practice.\n",
    "\n",
    "#The higher the CL, the bigger the CI. The lower the CL, the smaller the CI. The difference between the CI bounds and the\n",
    "#mean is the margin of error."
   ]
  },
  {
   "cell_type": "code",
   "execution_count": 32,
   "id": "f5f963d9",
   "metadata": {},
   "outputs": [
    {
     "name": "stdout",
     "output_type": "stream",
     "text": [
      "The confidence interval of observing observing strawberry from the population is between 0.0768 and 0.3103 given a condfidence level of: 0.9\n"
     ]
    }
   ],
   "source": [
    "# Example of making a point estimae for the variable 'strawberry'\n",
    "# Specify sample occurrences (x), sample size (n) and confidence level\n",
    "x = data_bag.count('strawberry')\n",
    "n = len(data_bag )\n",
    "cl = 0.9 #This is set by best practice\n",
    "\n",
    "#Calculate \n",
    "pes = x/n #point estimate\n",
    "a = (1-cl) #alpha - level of significance\n",
    "critical_z = stats.norm.ppf(1-a/2) #critical z-value\n",
    "standard_error = math.sqrt((pes*(1-pes)/n)) #standard error, \n",
    "margin_of_error = critical_z * standard_error #margin of error\n",
    "\n",
    "# Calculate the lower and upper bound of the confidence interval\n",
    "lower_bound = pes - margin_of_error\n",
    "upper_bound = pes + margin_of_error\n",
    "\n",
    "# Print the results\n",
    "print(\"The confidence interval of observing observing strawberry from the population is between\", \n",
    "      np.round(lower_bound, 4),\"and\",np.round(upper_bound, 4),\n",
    "     \"given a condfidence level of:\", cl)"
   ]
  },
  {
   "cell_type": "code",
   "execution_count": 33,
   "id": "7d64e4ec",
   "metadata": {},
   "outputs": [
    {
     "name": "stdout",
     "output_type": "stream",
     "text": [
      "The confidence interval of observing observing strawberry from the distribution is 0.04781789384399812 and 0.3392788803495502 given a condfidence level of: 0.96\n"
     ]
    },
    {
     "data": {
      "text/plain": [
       "0.2914609865055521"
      ]
     },
     "execution_count": 33,
     "metadata": {},
     "output_type": "execute_result"
    }
   ],
   "source": [
    "#Confidence intervals can be used to estimate population means.\n",
    "\n",
    "demo_funcs.confidence_level_categorical(data_bag, 'strawberry', 0.96, verbose=True)"
   ]
  },
  {
   "cell_type": "code",
   "execution_count": 34,
   "id": "fd67011a",
   "metadata": {},
   "outputs": [
    {
     "data": {
      "image/png": "[encoded data removed]",
      "text/plain": [
       "<Figure size 432x288 with 1 Axes>"
      ]
     },
     "metadata": {
      "needs_background": "light"
     },
     "output_type": "display_data"
    }
   ],
   "source": [
    "#As CL increases, CI increases.\n",
    "plt.plot([0.7, 0.9, 0.95, 0.99], \n",
    "         [ demo_funcs.confidence_level_categorical(data_bag, 'strawberry', 0.7),\n",
    "           demo_funcs.confidence_level_categorical(data_bag, 'strawberry', 0.9),\n",
    "           demo_funcs.confidence_level_categorical(data_bag, 'strawberry', 0.95),\n",
    "           demo_funcs.confidence_level_categorical(data_bag, 'strawberry',  0.99)])\n",
    "plt.title(\"CI width versus CL\")\n",
    "plt.grid()\n",
    "\n",
    "#The greater your confidence level. The wider your confidence interval. The greater your confidence\n",
    "#level the larger the net you have to catch the mean correct mean value"
   ]
  },
  {
   "cell_type": "code",
   "execution_count": 38,
   "id": "b3021246",
   "metadata": {},
   "outputs": [
    {
     "name": "stdout",
     "output_type": "stream",
     "text": [
      "The confidence interval of the population mean 146.4122  is 139.7573 and 153.0671 given a condfidence level of: 0.95\n"
     ]
    }
   ],
   "source": [
    "#We can also compute for a numerical data for a moderately large sample size\n",
    "demo_funcs.confidence_level_numerical(df['LoanAmount'], 0.95, verbose=True)\n",
    "\n",
    "#We are 95% sure that the mean will fall within these brackets.\n",
    "#If you want to be 99% sure... widen your bracket"
   ]
  },
  {
   "cell_type": "code",
   "execution_count": 39,
   "id": "b6376a42",
   "metadata": {},
   "outputs": [
    {
     "name": "stdout",
     "output_type": "stream",
     "text": [
      "The confidence interval of the population mean 7024.7051  is 6513.2459 and 7536.1643 given a condfidence level of: 0.95\n"
     ]
    }
   ],
   "source": [
    "demo_funcs.confidence_level_numerical(df['HouseIncome'], 0.95, verbose=True)"
   ]
  },
  {
   "cell_type": "code",
   "execution_count": null,
   "id": "81dcd728",
   "metadata": {},
   "outputs": [],
   "source": [
    "demo_funcs.confidence_level_categorical(data_bag, 'strawberry', 0.96, verbose=True)"
   ]
  },
  {
   "cell_type": "code",
   "execution_count": null,
   "id": "54ee76c1",
   "metadata": {},
   "outputs": [],
   "source": []
  },
  {
   "cell_type": "code",
   "execution_count": 16,
   "id": "9e1cce6b",
   "metadata": {},
   "outputs": [],
   "source": [
    "#Hypothesis testing allows us to test an assumption regarding a population parameter\n",
    "#Check if a hypothesis is True or False.\n",
    "\n",
    "#Suppose we have 2 groups:\n",
    "#They could be:\n",
    "    #Test scores of two separate classes in a school\n",
    "    #Weights of two samples of birds living on an island (perhaps geographically separated)\n",
    "    #Income of two different samples of populations of people  \n",
    "    \n",
    "group_a = [70, 80, 65, 32, 89, 72, 32, 54, 34, 56, 68, 62, 80, 75, 63, 45,\n",
    "             54, 58, 50, 61, 72, 73, 41, 82, 90, 42, 54, 62, 85, 81, 70, 70,\n",
    "             45, 18, 80, 21, 11, 83, 77, 62, 26, 54, 64, 81, 71, 32, 63, 61,\n",
    "             51, 86, 18, 18, 12, 92, 94, 17, 67, 18, 71, 32, 75, 52, 20, 83,\n",
    "             51, 41, 27, 88, 64, 36, 82, 29, 62, 48, 21, 96, 81, 49, 31, 99]\n",
    "\n",
    "group_b = [91, 68, 69, 40, 80, 29, 50, 74, 69, 52, 57, 45, 50, 88, 59, 82, \n",
    "             90, 85, 40, 60, 72, 37, 87, 58, 63, 56, 85, 84, 71, 64, 80, 61,\n",
    "             82, 58, 96, 61, 62, 73, 66, 82, 60, 40, 92, 82, 55, 91, 79, 79,\n",
    "             85, 38, 19, 40, 84, 83, 51, 62, 79, 42, 64, 80, 35, 67, 88, 99,\n",
    "             67, 86, 78, 68, 79, 92, 94, 87, 64, 51, 81, 78, 75, 52, 60, 83]"
   ]
  },
  {
   "cell_type": "code",
   "execution_count": 514,
   "id": "c6e90978",
   "metadata": {},
   "outputs": [],
   "source": [
    "#p value-> The probability of observing the data or data more extreme given that the null is true\n",
    "#A small p-value (typically less than the significance 0.05) indicates that the observed data is unlikely to\n",
    "#have occurred by random chance, and suggests that the null hypothesis should be rejected in favor \n",
    "#of the alternative hypothesis.\n",
    "\n",
    "#Alpha -> The significance level, is the threshold of probability (p-value) \n",
    "#at which you reject the null hypothesis in a hypothesis test. It is typically set at 0.05.\n",
    "#You can also define the rejection region defined by z values.\n",
    "\n",
    "#One tail test\n",
    "#cl = 0.95\n",
    "#a = 1-0.95 = 0.05\n",
    "\n",
    "#Two tail test\n",
    "#a = a/2 = 0.05/2\n",
    "#On both sides of the distribution if we are looking at both ends of the distributions\n",
    "\n",
    "#IF THE PVALUE IS LESS THAN ALPHA/ WITHIN THE REJECTION REGION WE REJECT THE NULL HYPOTHESIS"
   ]
  },
  {
   "cell_type": "code",
   "execution_count": 44,
   "id": "33670f81",
   "metadata": {},
   "outputs": [
    {
     "data": {
      "image/png": "[encoded data removed]",
      "text/plain": [
       "<IPython.core.display.Image object>"
      ]
     },
     "execution_count": 44,
     "metadata": {},
     "output_type": "execute_result"
    }
   ],
   "source": [
    "#This can be visualized as if the p value falls in the rejection region\n",
    "imgx(filename='./imgs/img_critical_value_2tail2.png') "
   ]
  },
  {
   "cell_type": "code",
   "execution_count": 515,
   "id": "193ab831",
   "metadata": {},
   "outputs": [
    {
     "name": "stdout",
     "output_type": "stream",
     "text": [
      "The number of students in group A is: 80\n",
      "The number of students in group B is: 80\n"
     ]
    }
   ],
   "source": [
    "#For simplest hypothesis test we can do ztest\n",
    "from statsmodels.stats.weightstats import ztest\n",
    "from scipy.stats import chisquare\n",
    "\n",
    "print(\"The number of students in group A is:\", len(group_a))\n",
    "print(\"The number of students in group B is:\", len(group_b))\n",
    "n = len(dataset_a)"
   ]
  },
  {
   "cell_type": "code",
   "execution_count": 610,
   "id": "cf8a6e62",
   "metadata": {},
   "outputs": [
    {
     "name": "stdout",
     "output_type": "stream",
     "text": [
      "Zscore: -4.199403817734997 pValue 2.676186771579294e-05\n"
     ]
    }
   ],
   "source": [
    "#Lets say in the year 2019 someone did a study and found that the mean score is 60\n",
    "#Then comes a researcher and measures dataset_a test results\n",
    "\n",
    "#We can state our Null hypothesis in this case that the mean score is 60\n",
    "#Null hypothesis are hypothesis of no change. No difference. (status quo)\n",
    "#Alternate hypothesis the mean score is not 60, challenge the status quo\n",
    "\n",
    "#H_o = The mean score = 60\n",
    "#H_1 = The mean score != 60\n",
    "\n",
    "#We can test for significance of a single sample.\n",
    "ztest_reultst = ztest(group_a, value=68.3125)\n",
    "print(\"Zscore:\", ztest_reultst[0], \"pValue\", ztest_reultst[1])"
   ]
  },
  {
   "cell_type": "code",
   "execution_count": 1,
   "id": "ef31c65a",
   "metadata": {},
   "outputs": [
    {
     "ename": "NameError",
     "evalue": "name 'np' is not defined",
     "output_type": "error",
     "traceback": [
      "\u001b[1;31m---------------------------------------------------------------------------\u001b[0m",
      "\u001b[1;31mNameError\u001b[0m                                 Traceback (most recent call last)",
      "Input \u001b[1;32mIn [1]\u001b[0m, in \u001b[0;36m<cell line: 1>\u001b[1;34m()\u001b[0m\n\u001b[1;32m----> 1\u001b[0m \u001b[43mnp\u001b[49m\u001b[38;5;241m.\u001b[39mlinspace(\u001b[38;5;241m0\u001b[39m,\u001b[38;5;241m20\u001b[39m)\n",
      "\u001b[1;31mNameError\u001b[0m: name 'np' is not defined"
     ]
    }
   ],
   "source": [
    "np.linspace(0,20)"
   ]
  },
  {
   "cell_type": "code",
   "execution_count": 611,
   "id": "e4485122",
   "metadata": {},
   "outputs": [
    {
     "name": "stdout",
     "output_type": "stream",
     "text": [
      "Zscore: 4.17152619442383 pValue 3.0256626688326636e-05\n"
     ]
    }
   ],
   "source": [
    "#There is another class that takes the same test and gets different \n",
    "ztest_reultst = ztest(group_b, value=60)\n",
    "print(\"Zscore:\", ztest_reultst[0], \"pValue\", ztest_reultst[1])"
   ]
  },
  {
   "cell_type": "code",
   "execution_count": 613,
   "id": "5815289a",
   "metadata": {},
   "outputs": [
    {
     "name": "stdout",
     "output_type": "stream",
     "text": [
      "Zscore: 4.17152619442383 pValue 3.0256626688326636e-05\n"
     ]
    }
   ],
   "source": [
    "#This is interesting. Based on the results of the ztest \n",
    "ztest_reults = ztest(class_a, class_b,value=0)\n",
    "print(\"Zscore:\", ztest_reultst[0], \"pValue\", ztest_reultst[1])"
   ]
  },
  {
   "cell_type": "code",
   "execution_count": null,
   "id": "ed7aa3ed",
   "metadata": {},
   "outputs": [],
   "source": [
    "#We can use t test if the variance is unknown and the sample size is small"
   ]
  },
  {
   "cell_type": "code",
   "execution_count": 614,
   "id": "54ffb5b4",
   "metadata": {},
   "outputs": [
    {
     "data": {
      "text/plain": [
       "tuple"
      ]
     },
     "execution_count": 614,
     "metadata": {},
     "output_type": "execute_result"
    }
   ],
   "source": [
    "(corr)"
   ]
  },
  {
   "cell_type": "code",
   "execution_count": 616,
   "id": "0d833fab",
   "metadata": {},
   "outputs": [
    {
     "name": "stdout",
     "output_type": "stream",
     "text": [
      "Correlation Coefficient: 0.6544125917346852 Pvalue: 0.02890829080248868\n"
     ]
    }
   ],
   "source": [
    "#Correlation test. Pearsons correlation coeeficient\n",
    "#1 is positive strong correlation\n",
    "#-1 is negative anti correlation\n",
    "\n",
    "#H_0 there is no correlation between the two variables\n",
    "#H_1 there is a correlation between two variables\n",
    "\n",
    "practice = [15, 18, 12, 19, 18, 12, 12, 8, 8, 20, 35]\n",
    "actual = [72, 68, 60, 54, 85, 51, 40, 32, 30, 73, 72 ]\n",
    "\n",
    "corr = stats.pearsonr(practice, actual)\n",
    "print (\"Correlation Coefficient:\", corr[0], \"Pvalue:\", corr[1]) "
   ]
  },
  {
   "cell_type": "code",
   "execution_count": 530,
   "id": "fbdbfa9b",
   "metadata": {},
   "outputs": [
    {
     "name": "stdout",
     "output_type": "stream",
     "text": [
      "Correlation Coefficient: 0.0020030347299763718 Pvalue: 0.9956183791079166\n"
     ]
    }
   ],
   "source": [
    "#H_0 there is no correlation between the two variables\n",
    "#H_1 there is a correlation between two variables\n",
    "\n",
    "practice = [-14, 0, 12, 19, 1, 12, 12, -2, 2, 30]\n",
    "actual = [72, 72, 60, 54, 85, 51, 40, 32, 30, 73 ]\n",
    "\n",
    "corr = stats.pearsonr(practice, actual)\n",
    "print (\"Correlation Coefficient:\", corr[0], \"Pvalue:\", corr[1]) "
   ]
  },
  {
   "cell_type": "code",
   "execution_count": 543,
   "id": "945ba802",
   "metadata": {},
   "outputs": [
    {
     "name": "stdout",
     "output_type": "stream",
     "text": [
      "Statistic: 19.12089743546728 pvalue: 0.014226288235863074\n"
     ]
    }
   ],
   "source": [
    "#H_0: There is no relationship/ goodness of fit between the two variables\n",
    "#H_1: hypothesis: There is no relationship/ goodness of fit between the two variables\n",
    "\n",
    "#Chi squared goodness of fit\n",
    "expected = [51, 71, 65, 62, 55, 62, 81, 75, 63]\n",
    "observed = [50, 66, 40, 47, 53, 66, 72, 62, 52]\n",
    "\n",
    "chi_square_stats = stats.chisquare(f_obs=observed, f_exp=expected)\n",
    "print(\"Statistic:\", chi_square_stats[0], \"pvalue:\", chi_square_stats[1])"
   ]
  },
  {
   "cell_type": "code",
   "execution_count": 555,
   "id": "7e537e2a",
   "metadata": {},
   "outputs": [
    {
     "data": {
      "image/png": "[encoded data removed]",
      "text/plain": [
       "<Figure size 432x288 with 1 Axes>"
      ]
     },
     "metadata": {
      "needs_background": "light"
     },
     "output_type": "display_data"
    }
   ],
   "source": [
    "plt.scatter(expected,observed)\n",
    "plt.plot([0,100], [0,100]   )\n",
    "plt.title(\"Predicted vs observed\")\n",
    "plt.xlabel(\"Expected\")\n",
    "plt.ylabel(\"Predicated\")\n",
    "plt.grid()\n",
    "plt.show()"
   ]
  },
  {
   "cell_type": "code",
   "execution_count": null,
   "id": "ba85507c",
   "metadata": {},
   "outputs": [],
   "source": []
  },
  {
   "cell_type": "code",
   "execution_count": null,
   "id": "58372b2a",
   "metadata": {},
   "outputs": [],
   "source": [
    "#developers impact N copies sold.\n",
    "\n",
    "#H_o: There is no distinction between developer and N copies sold\n",
    "#H_1: There is a distinction between developer and N copies sold\n",
    "\n",
    "#Correlation?\n",
    "#Ztesting...\n",
    "\n",
    "#dataA = [48410000.0, 40170000.0, ] #All N copies sold of games of Nintendo EPD]\n",
    "#dataB = [40170000.0, All N copies sold of games of Nintendo Bandai Namco]\n",
    "\n",
    "#ztest_reults = ztest(class_a, class_b,value=0)\n",
    "#print(\"Zscore:\", ztest_reultst[0], \"pValue\", ztest_reultst[1])"
   ]
  },
  {
   "cell_type": "code",
   "execution_count": 575,
   "id": "5eff93cd",
   "metadata": {
    "scrolled": true
   },
   "outputs": [
    {
     "data": {
      "text/html": [
       "<div>\n",
       "<style scoped>\n",
       "    .dataframe tbody tr th:only-of-type {\n",
       "        vertical-align: middle;\n",
       "    }\n",
       "\n",
       "    .dataframe tbody tr th {\n",
       "        vertical-align: top;\n",
       "    }\n",
       "\n",
       "    .dataframe thead th {\n",
       "        text-align: right;\n",
       "    }\n",
       "</style>\n",
       "<table border=\"1\" class=\"dataframe\">\n",
       "  <thead>\n",
       "    <tr style=\"text-align: right;\">\n",
       "      <th></th>\n",
       "      <th>title</th>\n",
       "      <th>copies_sold</th>\n",
       "      <th>genre</th>\n",
       "      <th>developer</th>\n",
       "      <th>publisher</th>\n",
       "      <th>as_of</th>\n",
       "      <th>release_date</th>\n",
       "    </tr>\n",
       "  </thead>\n",
       "  <tbody>\n",
       "    <tr>\n",
       "      <th>0</th>\n",
       "      <td>Mario Kart 8 Deluxe</td>\n",
       "      <td>48410000.0</td>\n",
       "      <td>Kart racing</td>\n",
       "      <td>Nintendo EPD</td>\n",
       "      <td>Nintendo</td>\n",
       "      <td>2022-09-30</td>\n",
       "      <td>2017-04-28</td>\n",
       "    </tr>\n",
       "    <tr>\n",
       "      <th>1</th>\n",
       "      <td>Animal Crossing: New Horizons</td>\n",
       "      <td>40170000.0</td>\n",
       "      <td>Social simulation</td>\n",
       "      <td>Nintendo EPD</td>\n",
       "      <td>Nintendo</td>\n",
       "      <td>2022-09-30</td>\n",
       "      <td>2020-03-20</td>\n",
       "    </tr>\n",
       "    <tr>\n",
       "      <th>2</th>\n",
       "      <td>Super Smash Bros. Ultimate</td>\n",
       "      <td>29530000.0</td>\n",
       "      <td>Fighting</td>\n",
       "      <td>Bandai Namco StudiosSora Ltd.</td>\n",
       "      <td>Nintendo</td>\n",
       "      <td>2022-09-30</td>\n",
       "      <td>2018-12-07</td>\n",
       "    </tr>\n",
       "    <tr>\n",
       "      <th>3</th>\n",
       "      <td>The Legend of Zelda: Breath of the Wild</td>\n",
       "      <td>27790000.0</td>\n",
       "      <td>Action-adventure</td>\n",
       "      <td>Nintendo EPD</td>\n",
       "      <td>Nintendo</td>\n",
       "      <td>2022-09-30</td>\n",
       "      <td>2017-03-03</td>\n",
       "    </tr>\n",
       "    <tr>\n",
       "      <th>4</th>\n",
       "      <td>Pokémon Sword and Shield</td>\n",
       "      <td>25370000.0</td>\n",
       "      <td>Role-playing</td>\n",
       "      <td>Game Freak</td>\n",
       "      <td>The Pokémon CompanyNintendo</td>\n",
       "      <td>2022-09-30</td>\n",
       "      <td>2019-11-15</td>\n",
       "    </tr>\n",
       "    <tr>\n",
       "      <th>...</th>\n",
       "      <td>...</td>\n",
       "      <td>...</td>\n",
       "      <td>...</td>\n",
       "      <td>...</td>\n",
       "      <td>...</td>\n",
       "      <td>...</td>\n",
       "      <td>...</td>\n",
       "    </tr>\n",
       "    <tr>\n",
       "      <th>68</th>\n",
       "      <td>Fitness Boxing</td>\n",
       "      <td>1000000.0</td>\n",
       "      <td>Exergamerhythm</td>\n",
       "      <td>Imagineer</td>\n",
       "      <td>JP: ImagineerNA/PAL: Nintendo</td>\n",
       "      <td>2020-09-08</td>\n",
       "      <td>2018-12-20</td>\n",
       "    </tr>\n",
       "    <tr>\n",
       "      <th>69</th>\n",
       "      <td>Fitness Boxing 2: Rhythm and Exercise</td>\n",
       "      <td>1000000.0</td>\n",
       "      <td>Exergamerhythm</td>\n",
       "      <td>Imagineer</td>\n",
       "      <td>JP: ImagineerNA/PAL: Nintendo</td>\n",
       "      <td>2021-12-09</td>\n",
       "      <td>2020-12-04</td>\n",
       "    </tr>\n",
       "    <tr>\n",
       "      <th>70</th>\n",
       "      <td>Shin Megami Tensei V</td>\n",
       "      <td>1000000.0</td>\n",
       "      <td>Role-playing</td>\n",
       "      <td>Atlus</td>\n",
       "      <td>JP: AtlusNA: SegaPAL: Nintendo</td>\n",
       "      <td>2022-04-18</td>\n",
       "      <td>2021-11-11</td>\n",
       "    </tr>\n",
       "    <tr>\n",
       "      <th>71</th>\n",
       "      <td>Story of Seasons: Pioneers of Olive Town</td>\n",
       "      <td>1000000.0</td>\n",
       "      <td>Simulationrole-playing</td>\n",
       "      <td>Marvelous</td>\n",
       "      <td>Xseed Games</td>\n",
       "      <td>2021-11-18</td>\n",
       "      <td>2021-02-25</td>\n",
       "    </tr>\n",
       "    <tr>\n",
       "      <th>72</th>\n",
       "      <td>Thief Simulator</td>\n",
       "      <td>1000000.0</td>\n",
       "      <td>Stealth</td>\n",
       "      <td>Noble Muffins</td>\n",
       "      <td>Forever Entertainment</td>\n",
       "      <td>2021-07-16</td>\n",
       "      <td>2019-05-19</td>\n",
       "    </tr>\n",
       "  </tbody>\n",
       "</table>\n",
       "<p>73 rows × 7 columns</p>\n",
       "</div>"
      ],
      "text/plain": [
       "                                       title  copies_sold  \\\n",
       "0                        Mario Kart 8 Deluxe   48410000.0   \n",
       "1              Animal Crossing: New Horizons   40170000.0   \n",
       "2                 Super Smash Bros. Ultimate   29530000.0   \n",
       "3    The Legend of Zelda: Breath of the Wild   27790000.0   \n",
       "4                   Pokémon Sword and Shield   25370000.0   \n",
       "..                                       ...          ...   \n",
       "68                            Fitness Boxing    1000000.0   \n",
       "69     Fitness Boxing 2: Rhythm and Exercise    1000000.0   \n",
       "70                      Shin Megami Tensei V    1000000.0   \n",
       "71  Story of Seasons: Pioneers of Olive Town    1000000.0   \n",
       "72                           Thief Simulator    1000000.0   \n",
       "\n",
       "                     genre                      developer  \\\n",
       "0              Kart racing                   Nintendo EPD   \n",
       "1        Social simulation                   Nintendo EPD   \n",
       "2                 Fighting  Bandai Namco StudiosSora Ltd.   \n",
       "3         Action-adventure                   Nintendo EPD   \n",
       "4             Role-playing                     Game Freak   \n",
       "..                     ...                            ...   \n",
       "68          Exergamerhythm                      Imagineer   \n",
       "69          Exergamerhythm                      Imagineer   \n",
       "70            Role-playing                          Atlus   \n",
       "71  Simulationrole-playing                      Marvelous   \n",
       "72                 Stealth                  Noble Muffins   \n",
       "\n",
       "                         publisher       as_of release_date  \n",
       "0                         Nintendo  2022-09-30   2017-04-28  \n",
       "1                         Nintendo  2022-09-30   2020-03-20  \n",
       "2                         Nintendo  2022-09-30   2018-12-07  \n",
       "3                         Nintendo  2022-09-30   2017-03-03  \n",
       "4      The Pokémon CompanyNintendo  2022-09-30   2019-11-15  \n",
       "..                             ...         ...          ...  \n",
       "68   JP: ImagineerNA/PAL: Nintendo  2020-09-08   2018-12-20  \n",
       "69   JP: ImagineerNA/PAL: Nintendo  2021-12-09   2020-12-04  \n",
       "70  JP: AtlusNA: SegaPAL: Nintendo  2022-04-18   2021-11-11  \n",
       "71                     Xseed Games  2021-11-18   2021-02-25  \n",
       "72           Forever Entertainment  2021-07-16   2019-05-19  \n",
       "\n",
       "[73 rows x 7 columns]"
      ]
     },
     "execution_count": 575,
     "metadata": {},
     "output_type": "execute_result"
    }
   ],
   "source": [
    "df = pd.read_csv('./data/best_selling_switch_games.csv')\n",
    "\n",
    "dfori = df.copy()\n",
    "dfori"
   ]
  },
  {
   "cell_type": "code",
   "execution_count": null,
   "id": "db300a0d",
   "metadata": {},
   "outputs": [],
   "source": []
  },
  {
   "cell_type": "code",
   "execution_count": 576,
   "id": "2390a024",
   "metadata": {},
   "outputs": [],
   "source": [
    "#Correlation test\n",
    "#Release date and copies sold. There may be a positive correlation between time approaching christmas\n",
    "#and number of copies sold\n",
    "\n",
    "#H_0: There is no correlation between release date and number of copies sold\n",
    "#H_1: There is a correlation between release date and copies sold and \n",
    "\n",
    "#How would we test that?\n",
    "    #Convert release date into 12 bins. One for each month\n",
    "    \n",
    "    #Summ N copies sold into 12 bins as well. Summing up all the values that fall within that \n",
    "    #respective month\n",
    "    \n",
    "    #Use pearson correlation test: corr = stats.pearsonr(practice, actual)\n",
    "    \n",
    "    #Interpret result"
   ]
  },
  {
   "cell_type": "code",
   "execution_count": null,
   "id": "649c6ce6",
   "metadata": {},
   "outputs": [],
   "source": [
    "#There is role playing and action role playing. The two genres are effectively the same based on\n",
    "#Sales number\n",
    "    #H_0: There is no difference between the N copies sold of roleplaying and N copies sold\n",
    "    #of action roleplaying\n",
    "    #H_1: There is a difference between the N copies sold.\n",
    "\n",
    "    #Create two lists, one with sales figures of roleplaying and another with N copies of action\n",
    "    #roleplaying\n",
    "    \n",
    "    #ztest_reults = ztest(RPG, ARPG)\n",
    "    \n",
    "    #Interpret result\n",
    "    #Likewise you can compare other genres the same manner "
   ]
  },
  {
   "cell_type": "code",
   "execution_count": null,
   "id": "9ffc08b3",
   "metadata": {},
   "outputs": [],
   "source": []
  },
  {
   "cell_type": "code",
   "execution_count": 581,
   "id": "85c1a061",
   "metadata": {},
   "outputs": [
    {
     "name": "stdout",
     "output_type": "stream",
     "text": [
      "Kart racing\n",
      "Social simulation\n",
      "Fighting\n",
      "Action-adventure\n",
      "Role-playing\n",
      "Platformer\n",
      "Party\n",
      "Role-playing\n",
      "Exergamerole-playing\n",
      "Role-playing\n",
      "Action role-playing\n",
      "Platformer\n",
      "Third-person shooter\n",
      "Action-adventure\n",
      "Role-playing\n",
      "Platformer\n",
      "Platformercompilation\n",
      "Party\n",
      "Third-person shooter\n",
      "PlatformerLevel editor\n",
      "Action role-playing\n",
      "Sports\n",
      "Action-adventure\n",
      "Platformer\n",
      "Sports\n",
      "Tabletop game\n",
      "Platformer\n",
      "Hack and slash\n",
      "Platformer\n",
      "Action-adventure\n",
      "Tactical role-playing\n",
      "Party\n",
      "Board game\n",
      "Role-playingaction-adventure\n",
      "Sandboxsurvival\n",
      "Partysocial deduction\n",
      "Platformer\n",
      "Action-adventure\n",
      "Photography\n",
      "Fighting\n",
      "Action role-playing\n",
      "Sports\n",
      "Real-time strategypuzzle\n",
      "Sports\n",
      "Role-playing\n",
      "Action puzzle\n",
      "Fighting\n",
      "Tactical role-playing\n",
      "Roguelike\n",
      "Rhythm\n",
      "Action role-playing\n",
      "Role-playing\n",
      "Action role-playing\n",
      "Puzzle\n",
      "Kart racingaugmented reality\n",
      "Fighting\n",
      "Fighting\n",
      "Action role-playing\n",
      "Construction kit\n",
      "Action-adventure, Hack and Slash\n",
      "Party\n",
      "Fighting\n",
      "Puzzle\n",
      "Survival horror\n",
      "Programming\n",
      "Action-adventure, Hack and Slash\n",
      "Bullet hell\n",
      "Hack and slashRole-playing\n",
      "Exergamerhythm\n",
      "Exergamerhythm\n",
      "Role-playing\n",
      "Simulationrole-playing\n",
      "Stealth\n"
     ]
    }
   ],
   "source": [
    "for k in range(0, len(dfori['genre'])):\n",
    "    print(dfori['genre'][k])"
   ]
  },
  {
   "cell_type": "code",
   "execution_count": 580,
   "id": "62b6d073",
   "metadata": {
    "scrolled": true
   },
   "outputs": [
    {
     "name": "stdout",
     "output_type": "stream",
     "text": [
      "Mario Kart 8 Deluxe\n",
      "Animal Crossing: New Horizons\n",
      "Super Smash Bros. Ultimate\n",
      "The Legend of Zelda: Breath of the Wild\n",
      "Pokémon Sword and Shield\n",
      "Super Mario Odyssey\n",
      "Super Mario Party\n",
      "Pokémon Brilliant Diamond and Shining Pearl\n",
      "Ring Fit Adventure\n",
      "Pokémon: Let's Go, Pikachu! and Let's Go, Eevee!\n",
      "Pokémon Legends: Arceus\n",
      "New Super Mario Bros. U Deluxe\n",
      "Splatoon 2\n",
      "Luigi's Mansion 3\n",
      "Pokémon Scarlet and Violet\n",
      "Super Mario 3D World + Bowser's Fury\n",
      "Super Mario 3D All-Stars\n",
      "Mario Party Superstars\n",
      "Splatoon 3\n",
      "Super Mario Maker 2\n",
      "Monster Hunter Rise\n",
      "Nintendo Switch Sports\n",
      "The Legend of Zelda: Link's Awakening\n",
      "Kirby and the Forgotten Land\n",
      "Mario Tennis Aces\n",
      "Clubhouse Games: 51 Worldwide Classics\n",
      "Donkey Kong Country: Tropical Freeze\n",
      "Hyrule Warriors: Age of Calamity\n",
      "Kirby Star Allies\n",
      "The Legend of Zelda: Skyward Sword HD\n",
      "Fire Emblem: Three Houses\n",
      "1-2-Switch\n",
      "Momotaro Dentetsu: Showa, Heisei, Reiwa Mo Teiban!\n",
      "Paper Mario: The Origami King\n",
      "Minecraft\n",
      "Among Us\n",
      "Yoshi's Crafted World\n",
      "Metroid Dread\n",
      "New Pokémon Snap\n",
      "Arms\n",
      "Xenoblade Chronicles 2\n",
      "Mario Golf: Super Rush\n",
      "Pikmin 3 Deluxe\n",
      "Mario Strikers: Battle League\n",
      "Octopath Traveler\n",
      "Captain Toad: Treasure Tracker\n",
      "Dragon Ball FighterZ\n",
      "Mario + Rabbids Kingdom Battle\n",
      "Pokémon Mystery Dungeon: Rescue Team DX\n",
      "Taiko no Tatsujin: Drum 'n' Fun!\n",
      "Xenoblade Chronicles 3\n",
      "Miitopia\n",
      "Xenoblade Chronicles: Definitive Edition\n",
      "Big Brain Academy: Brain vs. Brain\n",
      "Mario Kart Live: Home Circuit\n",
      "Dragon Ball Xenoverse 2\n",
      "Pokkén Tournament DX\n",
      "Marvel Ultimate Alliance 3: The Black Order\n",
      "Nintendo Labo Toy-Con 01: Variety Kit\n",
      "Astral Chain\n",
      "WarioWare: Get It Together!\n",
      "Naruto Shippudden: Ultimate Ninja Storm Trilogy\n",
      "Dr Kawashima's Brain Training for Nintendo Switch\n",
      "Resident Evil: Revelations Collection\n",
      "Game Builder Garage\n",
      "Bayonetta 2\n",
      "Enter the Gungeon\n",
      "Fire Emblem Warriors: Three Hopes\n",
      "Fitness Boxing\n",
      "Fitness Boxing 2: Rhythm and Exercise\n",
      "Shin Megami Tensei V\n",
      "Story of Seasons: Pioneers of Olive Town\n",
      "Thief Simulator\n"
     ]
    }
   ],
   "source": [
    "for k in range(0, len(dfori['title'])):\n",
    "    print(dfori['title'][k])"
   ]
  },
  {
   "cell_type": "code",
   "execution_count": 572,
   "id": "0957211a",
   "metadata": {},
   "outputs": [],
   "source": []
  },
  {
   "cell_type": "code",
   "execution_count": null,
   "id": "38915397",
   "metadata": {},
   "outputs": [],
   "source": []
  },
  {
   "cell_type": "code",
   "execution_count": 571,
   "id": "0b61b43c",
   "metadata": {},
   "outputs": [
    {
     "data": {
      "text/plain": [
       "<bound method Series.unique of 0                Kart racing\n",
       "1          Social simulation\n",
       "2                   Fighting\n",
       "3           Action-adventure\n",
       "4               Role-playing\n",
       "               ...          \n",
       "68            Exergamerhythm\n",
       "69            Exergamerhythm\n",
       "70              Role-playing\n",
       "71    Simulationrole-playing\n",
       "72                   Stealth\n",
       "Name: genre, Length: 73, dtype: object>"
      ]
     },
     "execution_count": 571,
     "metadata": {},
     "output_type": "execute_result"
    }
   ],
   "source": [
    "\n"
   ]
  },
  {
   "cell_type": "code",
   "execution_count": 565,
   "id": "3f2867d6",
   "metadata": {},
   "outputs": [
    {
     "data": {
      "text/plain": [
       "array(['Kart racing', 'Social simulation', 'Fighting', 'Action-adventure',\n",
       "       'Role-playing', 'Platformer', 'Party', 'Exergamerole-playing',\n",
       "       'Action role-playing', 'Third-person shooter',\n",
       "       'Platformercompilation', 'PlatformerLevel editor', 'Sports',\n",
       "       'Tabletop game', 'Hack and slash', 'Tactical role-playing',\n",
       "       'Board game', 'Role-playingaction-adventure', 'Sandboxsurvival',\n",
       "       'Partysocial deduction', 'Photography', 'Real-time strategypuzzle',\n",
       "       'Action puzzle', 'Roguelike', 'Rhythm', 'Puzzle',\n",
       "       'Kart racingaugmented reality', 'Construction kit',\n",
       "       'Action-adventure, Hack and Slash', 'Survival horror',\n",
       "       'Programming', 'Bullet hell', 'Hack and slashRole-playing',\n",
       "       'Exergamerhythm', 'Simulationrole-playing', 'Stealth'],\n",
       "      dtype=object)"
      ]
     },
     "execution_count": 565,
     "metadata": {},
     "output_type": "execute_result"
    }
   ],
   "source": [
    "df['genre'].unique()\n",
    "#clean_funcs.clean_df(df)"
   ]
  },
  {
   "cell_type": "code",
   "execution_count": null,
   "id": "9d7422bc",
   "metadata": {},
   "outputs": [],
   "source": [
    "#Zscore method. Zscores are just distances from the mean.\n",
    "#This just replaces the table"
   ]
  },
  {
   "cell_type": "code",
   "execution_count": 204,
   "id": "99353234",
   "metadata": {},
   "outputs": [
    {
     "data": {
      "text/plain": [
       "1.959963984540054"
      ]
     },
     "execution_count": 204,
     "metadata": {},
     "output_type": "execute_result"
    }
   ],
   "source": [
    "#Find the critical value"
   ]
  },
  {
   "cell_type": "code",
   "execution_count": null,
   "id": "2f5843f7",
   "metadata": {},
   "outputs": [],
   "source": [
    "#Left tailed\n",
    "scipy.stats.norm.ppf(.01)"
   ]
  },
  {
   "cell_type": "code",
   "execution_count": null,
   "id": "87521a42",
   "metadata": {},
   "outputs": [],
   "source": [
    "#Right tailed\n",
    "scipy.stats.norm.ppf(1-.01)"
   ]
  },
  {
   "cell_type": "code",
   "execution_count": 205,
   "id": "e3809c73",
   "metadata": {},
   "outputs": [
    {
     "data": {
      "text/plain": [
       "1.959963984540054"
      ]
     },
     "execution_count": 205,
     "metadata": {},
     "output_type": "execute_result"
    }
   ],
   "source": [
    "#Two tailed test\n",
    "scipy.stats.norm.ppf(1-.01/2)\n",
    "\n",
    "scipy.stats.norm.ppf(1-.05/2) #two tailed ttest"
   ]
  },
  {
   "cell_type": "code",
   "execution_count": 502,
   "id": "50a78185",
   "metadata": {},
   "outputs": [
    {
     "data": {
      "text/plain": [
       "2.5758293035489004"
      ]
     },
     "execution_count": 502,
     "metadata": {},
     "output_type": "execute_result"
    }
   ],
   "source": [
    "scipy.stats.norm.ppf(1-.01/2)"
   ]
  },
  {
   "cell_type": "code",
   "execution_count": 556,
   "id": "71d3c41a",
   "metadata": {},
   "outputs": [
    {
     "data": {
      "text/plain": [
       "0.975"
      ]
     },
     "execution_count": 556,
     "metadata": {},
     "output_type": "execute_result"
    }
   ],
   "source": [
    "1-.05/2"
   ]
  }
 ],
 "metadata": {
  "kernelspec": {
   "display_name": "Python 3 (ipykernel)",
   "language": "python",
   "name": "python3"
  },
  "language_info": {
   "codemirror_mode": {
    "name": "ipython",
    "version": 3
   },
   "file_extension": ".py",
   "mimetype": "text/x-python",
   "name": "python",
   "nbconvert_exporter": "python",
   "pygments_lexer": "ipython3",
   "version": "3.9.12"
  }
 },
 "nbformat": 4,
 "nbformat_minor": 5
}
