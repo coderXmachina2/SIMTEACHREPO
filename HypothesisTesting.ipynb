{
 "cells": [
  {
   "cell_type": "code",
   "execution_count": 34,
   "id": "ca8e1d9f",
   "metadata": {
    "scrolled": true
   },
   "outputs": [
    {
     "data": {
      "text/plain": [
       "<module 'pd_funcs.clean_funcs' from 'D:\\\\SIM_Teach\\\\Github_SIMTEACH_REPO_2\\\\SIMTEACHREPO\\\\pd_funcs\\\\clean_funcs.py'>"
      ]
     },
     "execution_count": 34,
     "metadata": {},
     "output_type": "execute_result"
    }
   ],
   "source": [
    "#a lesson in toy problems and design thinking concepts...\n",
    "\n",
    "import datetime\n",
    "import importlib\n",
    "import pickle\n",
    "import scipy.stats\n",
    "import scipy.stats as stats\n",
    "import math\n",
    "import pandas as pd\n",
    "import matplotlib.pyplot as plt\n",
    "\n",
    "import numpy as np  \n",
    "\n",
    "#For simplest hypothesis test we can do ztest\n",
    "from statsmodels.stats.weightstats import ztest\n",
    "from scipy.stats import chisquare\n",
    "from IPython.display import Image as imgx\n",
    "from pd_funcs import clean_funcs\n",
    "from pd_funcs import demo_funcs\n",
    "from astropy.time import Time\n",
    "from scipy.stats import chi2_contingency\n",
    "\n",
    "importlib.reload(demo_funcs)\n",
    "importlib.reload(clean_funcs)"
   ]
  },
  {
   "cell_type": "code",
   "execution_count": 35,
   "id": "60a6857c",
   "metadata": {},
   "outputs": [],
   "source": [
    "df = pd.read_csv('./load_data/Loan_Data.csv')\n",
    "\n",
    "df = clean_funcs.clean_df(df)"
   ]
  },
  {
   "cell_type": "code",
   "execution_count": null,
   "id": "844dbfc4",
   "metadata": {},
   "outputs": [],
   "source": []
  },
  {
   "cell_type": "code",
   "execution_count": 36,
   "id": "455e55fc",
   "metadata": {
    "scrolled": true
   },
   "outputs": [
    {
     "name": "stdout",
     "output_type": "stream",
     "text": [
      "31 items in the bag\n"
     ]
    }
   ],
   "source": [
    "data_bag  =['mango', 'orange','apple','orange',\n",
    "            'strawberry','strawberry','cucumber', 'mango',\n",
    "            'lemon','orange','guava', 'mango', 'strawberry',\n",
    "            'strawberry','blackberry','strawberry','apple',\n",
    "            'lemon','orange','guava','strawberry',\n",
    "            'apple','guava', 'lemon','orange',\n",
    "            'orange','cucumber','cucumber','lemon',\n",
    "            'cucumber','lemon']\n",
    "\n",
    "print(len(data_bag),\"items in the bag\")"
   ]
  },
  {
   "cell_type": "code",
   "execution_count": 22,
   "id": "b7e87726",
   "metadata": {},
   "outputs": [],
   "source": [
    "#A confidence interval (CI) is a range of values for which there is an attached probability that the value of a \n",
    "#measured parameter lies within it.\n",
    "\n",
    "#Computed with the confidence level (CL). Confidence levels is a probability (0.8, 0.9, 0.95, 0.95) with which the \n",
    "#estimation of the location of a measured parameter (e.g. mean) in a sample is also true for the population. \n",
    "#The CL is adjustable based on our confidence but 0.95 is usually the best practice.\n",
    "\n",
    "#The higher the CL, the bigger the CI. The lower the CL, the smaller the CI. The difference between the CI bounds and the\n",
    "#mean is the margin of error."
   ]
  },
  {
   "cell_type": "code",
   "execution_count": 4,
   "id": "f5f963d9",
   "metadata": {},
   "outputs": [
    {
     "name": "stdout",
     "output_type": "stream",
     "text": [
      "The confidence interval of observing observing strawberry from the population is between 0.0768 and 0.3103 given a condfidence level of: 0.9\n"
     ]
    }
   ],
   "source": [
    "# Example of making a point estimae for the variable 'strawberry'\n",
    "# Specify sample occurrences (x), sample size (n) and confidence level\n",
    "x = data_bag.count('strawberry')\n",
    "n = len(data_bag )\n",
    "cl = 0.9 #This is set by best practice\n",
    "\n",
    "#Calculate \n",
    "pes = x/n #point estimate\n",
    "a = (1-cl) #alpha - level of significance\n",
    "critical_z = stats.norm.ppf(1-a/2) #critical z-value\n",
    "standard_error = math.sqrt((pes*(1-pes)/n)) #standard error, \n",
    "margin_of_error = critical_z * standard_error #margin of error\n",
    "\n",
    "# Calculate the lower and upper bound of the confidence interval\n",
    "lower_bound = pes - margin_of_error\n",
    "upper_bound = pes + margin_of_error\n",
    "\n",
    "# Print the results\n",
    "print(\"The confidence interval of observing observing strawberry from the population is between\", \n",
    "      np.round(lower_bound, 4),\"and\",np.round(upper_bound, 4),\n",
    "     \"given a condfidence level of:\", cl)"
   ]
  },
  {
   "cell_type": "code",
   "execution_count": 5,
   "id": "7d64e4ec",
   "metadata": {},
   "outputs": [
    {
     "name": "stdout",
     "output_type": "stream",
     "text": [
      "The confidence interval of observing observing strawberry from the distribution is 0.04781789384399812 and 0.3392788803495502 given a condfidence level of: 0.96\n"
     ]
    },
    {
     "data": {
      "text/plain": [
       "0.2914609865055521"
      ]
     },
     "execution_count": 5,
     "metadata": {},
     "output_type": "execute_result"
    }
   ],
   "source": [
    "#Confidence intervals can be used to estimate population means.\n",
    "\n",
    "demo_funcs.confidence_level_categorical(data_bag, 'strawberry', 0.96, verbose=True)"
   ]
  },
  {
   "cell_type": "code",
   "execution_count": 6,
   "id": "fd67011a",
   "metadata": {},
   "outputs": [
    {
     "data": {
      "image/png": "[encoded data removed]",
      "text/plain": [
       "<Figure size 432x288 with 1 Axes>"
      ]
     },
     "metadata": {
      "needs_background": "light"
     },
     "output_type": "display_data"
    }
   ],
   "source": [
    "#As CL increases, CI increases.\n",
    "plt.plot([0.7, 0.9, 0.95, 0.99], \n",
    "         [ demo_funcs.confidence_level_categorical(data_bag, 'strawberry', 0.7),\n",
    "           demo_funcs.confidence_level_categorical(data_bag, 'strawberry', 0.9),\n",
    "           demo_funcs.confidence_level_categorical(data_bag, 'strawberry', 0.95),\n",
    "           demo_funcs.confidence_level_categorical(data_bag, 'strawberry',  0.99)])\n",
    "plt.title(\"CI width versus CL\")\n",
    "plt.grid()\n",
    "\n",
    "#The greater your confidence level. The wider your confidence interval. The greater your confidence\n",
    "#level the larger the net you have to catch the mean correct mean value"
   ]
  },
  {
   "cell_type": "code",
   "execution_count": 7,
   "id": "b3021246",
   "metadata": {},
   "outputs": [
    {
     "name": "stdout",
     "output_type": "stream",
     "text": [
      "The confidence interval of the population mean 146.4122  is 139.7573 and 153.0671 given a condfidence level of: 0.95\n"
     ]
    }
   ],
   "source": [
    "#We can also compute for a numerical data for a moderately large sample size\n",
    "demo_funcs.confidence_level_numerical(df['LoanAmount'], 0.95, verbose=True)\n",
    "\n",
    "#We are 95% sure that the mean will fall within these brackets.\n",
    "#If you want to be 99% sure... widen your bracket"
   ]
  },
  {
   "cell_type": "code",
   "execution_count": 8,
   "id": "b6376a42",
   "metadata": {},
   "outputs": [
    {
     "name": "stdout",
     "output_type": "stream",
     "text": [
      "The confidence interval of the population mean 7024.7051  is 6513.2459 and 7536.1643 given a condfidence level of: 0.95\n"
     ]
    }
   ],
   "source": [
    "demo_funcs.confidence_level_numerical(df['HouseIncome'], 0.95, verbose=True)"
   ]
  },
  {
   "cell_type": "code",
   "execution_count": 9,
   "id": "81dcd728",
   "metadata": {},
   "outputs": [
    {
     "name": "stdout",
     "output_type": "stream",
     "text": [
      "The confidence interval of observing observing strawberry from the distribution is 0.04781789384399812 and 0.3392788803495502 given a condfidence level of: 0.96\n"
     ]
    },
    {
     "data": {
      "text/plain": [
       "0.2914609865055521"
      ]
     },
     "execution_count": 9,
     "metadata": {},
     "output_type": "execute_result"
    }
   ],
   "source": [
    "demo_funcs.confidence_level_categorical(data_bag, 'strawberry', 0.96, verbose=True)"
   ]
  },
  {
   "cell_type": "code",
   "execution_count": null,
   "id": "54ee76c1",
   "metadata": {},
   "outputs": [],
   "source": []
  },
  {
   "cell_type": "code",
   "execution_count": 164,
   "id": "9e1cce6b",
   "metadata": {},
   "outputs": [],
   "source": [
    "#Hypothesis testing allows us to test an assumption regarding a population parameter\n",
    "#Check if a hypothesis is True or False.\n",
    "\n",
    "#Suppose we have 2 groups:\n",
    "#They could be:\n",
    "    #Test scores of two separate classes in a school\n",
    "    #Weights of two samples of birds living on an island (perhaps geographically separated)\n",
    "    #Income of two different samples of populations of people  \n",
    "    \n",
    "group_a = [70, 80, 65, 32, 89, 72, 32, 54, 34, 56, 68, 62, 80, 75, 63, 45,\n",
    "             54, 58, 50, 61, 72, 73, 41, 82, 90, 42, 54, 62, 85, 81, 70, 70,\n",
    "             45, 18, 80, 21, 11, 83, 77, 62, 26, 54, 64, 81, 71, 32, 63, 61,\n",
    "             51, 86, 18, 18, 12, 92, 94, 17, 67, 18, 71, 32, 75, 52, 20, 83,\n",
    "             51, 41, 27, 88, 64, 36, 82, 29, 62, 48, 21, 96, 81, 49, 31, 99]\n",
    "\n",
    "group_b = [91, 68, 69, 40, 80, 29, 50, 74, 69, 52, 57, 45, 50, 88, 59, 82, \n",
    "             90, 85, 40, 60, 72, 37, 87, 58, 63, 56, 85, 84, 71, 64, 80, 61,\n",
    "             82, 58, 96, 61, 62, 73, 66, 82, 60, 40, 92, 82, 55, 91, 79, 79,\n",
    "             85, 38, 19, 40, 84, 83, 51, 62, 79, 42, 64, 80, 35, 67, 88, 99,\n",
    "             67, 86, 78, 68, 79, 92, 94, 87, 64, 51, 81, 78, 75, 52, 60, 83]"
   ]
  },
  {
   "cell_type": "code",
   "execution_count": 24,
   "id": "c6e90978",
   "metadata": {},
   "outputs": [],
   "source": [
    "#p value-> The probability of observing the data or data more extreme given that the null is true\n",
    "#A small p-value (typically less than the significance 0.05) indicates that the observed data is unlikely to\n",
    "#have occurred by random chance, and suggests that the null hypothesis should be rejected in favor \n",
    "#of the alternative hypothesis.\n",
    "\n",
    "#Alpha -> The significance level, is the threshold of probability (p-value) \n",
    "#at which you reject the null hypothesis in a hypothesis test. It is typically set at 0.05.\n",
    "#You can also define the rejection region defined by z values.\n",
    "\n",
    "#One tail test\n",
    "#cl = 0.95\n",
    "#a = 1-0.95 = 0.05\n",
    "\n",
    "#Two tail test\n",
    "#a = a/2 = 0.05/2\n",
    "#On both sides of the distribution if we are looking at both ends of the distributions\n",
    "\n",
    "#IF THE PVALUE IS LESS THAN ALPHA/ WITHIN THE REJECTION REGION WE REJECT THE NULL HYPOTHESIS"
   ]
  },
  {
   "cell_type": "code",
   "execution_count": 38,
   "id": "33670f81",
   "metadata": {},
   "outputs": [
    {
     "data": {
      "image/jpeg": "[encoded data removed]",
      "text/plain": [
       "<IPython.core.display.Image object>"
      ]
     },
     "execution_count": 38,
     "metadata": {},
     "output_type": "execute_result"
    }
   ],
   "source": [
    "#This can be visualized as if the p value falls in the rejection region\n",
    "\n",
    "#For Example\n",
    "imgx(filename='./imgs/hypTest2.jpg') "
   ]
  },
  {
   "cell_type": "code",
   "execution_count": 39,
   "id": "193ab831",
   "metadata": {},
   "outputs": [
    {
     "name": "stdout",
     "output_type": "stream",
     "text": [
      "The number of students in group A is: 80\n",
      "The number of students in group B is: 80\n"
     ]
    }
   ],
   "source": [
    "print(\"The number of students in group A is:\", len(group_a))\n",
    "print(\"The number of students in group B is:\", len(group_b))\n"
   ]
  },
  {
   "cell_type": "code",
   "execution_count": 40,
   "id": "cf8a6e62",
   "metadata": {},
   "outputs": [
    {
     "name": "stdout",
     "output_type": "stream",
     "text": [
      "Zscore: -1.0367724034725139 pValue 0.29984193960498506\n"
     ]
    }
   ],
   "source": [
    "#Lets say in the year 2019 someone did a study and found that the mean score is 60\n",
    "#Then comes a researcher and measures and acquires the sample group_a\n",
    "\n",
    "#We can state our Null hypothesis in this case that the mean score is 60\n",
    "#Null hypothesis are hypothesis of NO CHANGE. NO DIFFERENCE. (status quo)\n",
    "#Alternate hypothesis the mean score is not 60, challenge the status quo\n",
    "\n",
    "#H_o = The mean score = 60\n",
    "#H_1 = The mean score != 60\n",
    "\n",
    "#We can test for significance of a single sample using ztest\n",
    "#https://www.statsmodels.org/dev/generated/statsmodels.stats.weightstats.ztest.html\n",
    "#returns a test statistic and a p value\n",
    "\n",
    "ztest_reultst = ztest(group_a, value=60)\n",
    "print(\"Zscore:\", ztest_reultst[0], \"pValue\", ztest_reultst[1])\n",
    "\n",
    "#We fail to reject the null."
   ]
  },
  {
   "cell_type": "code",
   "execution_count": 41,
   "id": "e4485122",
   "metadata": {},
   "outputs": [
    {
     "name": "stdout",
     "output_type": "stream",
     "text": [
      "Zscore: 4.17152619442383 pValue 3.0256626688326636e-05\n"
     ]
    }
   ],
   "source": [
    "#Another sample is acquired and is tested agains the same null hypothesis\n",
    "ztest_reultst = ztest(group_b, value=60)\n",
    "print(\"Zscore:\", ztest_reultst[0], \"pValue\", ztest_reultst[1])\n",
    "\n",
    "#We Reject the null. The mean is np.mean(group_b)"
   ]
  },
  {
   "cell_type": "code",
   "execution_count": 165,
   "id": "5815289a",
   "metadata": {},
   "outputs": [
    {
     "name": "stdout",
     "output_type": "stream",
     "text": [
      "Zscore: 4.17152619442383 pValue 3.0256626688326636e-05\n"
     ]
    }
   ],
   "source": [
    "#This is interesting. Based on the results of the ztest \n",
    "#We can also compare two samples \n",
    "\n",
    "#H_o = The mean score class_a = class_b \n",
    "    #They are cut from the same cloth. The two populations are identical\n",
    "#H_1 = The mean score class_a != class_b\n",
    "    #They are two distinct different populations\n",
    "\n",
    "ztest_reults = ztest(group_a, group_b,value=0)\n",
    "print(\"Zscore:\", ztest_reultst[0], \"pValue\", ztest_reultst[1])\n",
    "\n",
    "#A Z-stat is just a distance from the mean. \n",
    "#The closer your Z-score is to zero, the closer your value is to the mean.\n",
    "\n",
    "#We can use t test if the variance is unknown and the sample size is small"
   ]
  },
  {
   "cell_type": "code",
   "execution_count": null,
   "id": "ed7aa3ed",
   "metadata": {},
   "outputs": [],
   "source": []
  },
  {
   "cell_type": "code",
   "execution_count": 180,
   "id": "0d833fab",
   "metadata": {},
   "outputs": [
    {
     "name": "stdout",
     "output_type": "stream",
     "text": [
      "Correlation Coefficient: 0.6544125917346852 Pvalue: 0.02890829080248868\n"
     ]
    },
    {
     "data": {
      "image/png": "[encoded data removed]",
      "text/plain": [
       "<Figure size 432x288 with 1 Axes>"
      ]
     },
     "metadata": {
      "needs_background": "light"
     },
     "output_type": "display_data"
    }
   ],
   "source": [
    "#Correlation test. Pearsons correlation coeeficient\n",
    "#1 is positive strong correlation\n",
    "#0 is no correlation\n",
    "#-1 is negative anti correlation\n",
    "\n",
    "#H_0 = there is no correlation between the two variables\n",
    "#H_1 = there is a correlation between two variables\n",
    "\n",
    "#Is practice a good predictor of actual? \n",
    "\n",
    "practice = [15, 18, 12, 19, 18, 12, 12, 8, 8, 20, 35]\n",
    "actual = [72, 68, 60, 54, 85, 51, 40, 32, 30, 73, 72 ]\n",
    "\n",
    "corr = stats.pearsonr(practice, actual)\n",
    "print (\"Correlation Coefficient:\", corr[0], \"Pvalue:\", corr[1]) \n",
    "\n",
    "#Reject the \n",
    "plt.scatter(practice, actual )\n",
    "plt.grid()\n",
    "plt.title(\"Correlation scatter\")\n",
    "plt.show()"
   ]
  },
  {
   "cell_type": "code",
   "execution_count": 47,
   "id": "fbdbfa9b",
   "metadata": {},
   "outputs": [
    {
     "name": "stdout",
     "output_type": "stream",
     "text": [
      "Correlation Coefficient: 0.0020030347299763995 Pvalue: 0.9956183791079166\n"
     ]
    },
    {
     "data": {
      "image/png": "[encoded data removed]",
      "text/plain": [
       "<Figure size 432x288 with 1 Axes>"
      ]
     },
     "metadata": {
      "needs_background": "light"
     },
     "output_type": "display_data"
    }
   ],
   "source": [
    "practice = [-14, 0, 12, 19, 1, 12, 12, -2, 2, 30]\n",
    "actual = [72, 72, 60, 54, 85, 51, 40, 32, 30, 73 ]\n",
    "\n",
    "corr = stats.pearsonr(practice, actual)\n",
    "print (\"Correlation Coefficient:\", corr[0], \"Pvalue:\", corr[1]) \n",
    "\n",
    "#Reject the \n",
    "plt.scatter(practice, actual )\n",
    "plt.grid()\n",
    "plt.show()"
   ]
  },
  {
   "cell_type": "code",
   "execution_count": 58,
   "id": "e2935e6d",
   "metadata": {},
   "outputs": [
    {
     "name": "stdout",
     "output_type": "stream",
     "text": [
      "stat=3.106, p=0.540, dof=4.000\n",
      "Probably independent\n"
     ]
    }
   ],
   "source": [
    "#Chi squared test\n",
    "#Pearson's chi-squared test applied to categorical data to evaluate how likely \n",
    "#any observed difference between the data arose by chance.\n",
    "    #Independence\n",
    "        #H_0 = There is no association/ there is no good of fit between the two variables\n",
    "        #H_1 = There is a association/ good fit between the two variables\n",
    "    #Goodness of fit test for two categorical variables\n",
    "        #Does it fit a certain distribution? i.e. normal or not.\n",
    "        #H_0 = Fits the distribution\n",
    "        #H_1 = Does not fit\n",
    "\n",
    "#Contingency table- Frequency distribution of the categorical classes\n",
    "        #Apple, Orange\n",
    "#Char1     3      5\n",
    "#Char2     1      2\n",
    "#Char3     6      7\n",
    "\n",
    "table = [[10, 20, 30, 40, 50],\n",
    "         [6,  9,  17, 18, 39]]\n",
    "stat, p, dof, expected = chi2_contingency(table)\n",
    "\n",
    "print('stat=%.3f, p=%.3f, dof=%.3f' % (stat, p, dof))\n",
    "if p > 0.05:\n",
    "    print('Probably independent')\n",
    "else:\n",
    "    print('Probably dependent')"
   ]
  },
  {
   "cell_type": "code",
   "execution_count": 100,
   "id": "a05bfea4",
   "metadata": {},
   "outputs": [
    {
     "data": {
      "text/html": [
       "<div>\n",
       "<style scoped>\n",
       "    .dataframe tbody tr th:only-of-type {\n",
       "        vertical-align: middle;\n",
       "    }\n",
       "\n",
       "    .dataframe tbody tr th {\n",
       "        vertical-align: top;\n",
       "    }\n",
       "\n",
       "    .dataframe thead th {\n",
       "        text-align: right;\n",
       "    }\n",
       "</style>\n",
       "<table border=\"1\" class=\"dataframe\">\n",
       "  <thead>\n",
       "    <tr style=\"text-align: right;\">\n",
       "      <th>Education</th>\n",
       "      <th>0</th>\n",
       "      <th>1</th>\n",
       "    </tr>\n",
       "    <tr>\n",
       "      <th>Dependents</th>\n",
       "      <th></th>\n",
       "      <th></th>\n",
       "    </tr>\n",
       "  </thead>\n",
       "  <tbody>\n",
       "    <tr>\n",
       "      <th>0.0</th>\n",
       "      <td>286</td>\n",
       "      <td>74</td>\n",
       "    </tr>\n",
       "    <tr>\n",
       "      <th>1.0</th>\n",
       "      <td>81</td>\n",
       "      <td>21</td>\n",
       "    </tr>\n",
       "    <tr>\n",
       "      <th>2.0</th>\n",
       "      <td>77</td>\n",
       "      <td>24</td>\n",
       "    </tr>\n",
       "    <tr>\n",
       "      <th>3.0</th>\n",
       "      <td>36</td>\n",
       "      <td>15</td>\n",
       "    </tr>\n",
       "  </tbody>\n",
       "</table>\n",
       "</div>"
      ],
      "text/plain": [
       "Education     0   1\n",
       "Dependents         \n",
       "0.0         286  74\n",
       "1.0          81  21\n",
       "2.0          77  24\n",
       "3.0          36  15"
      ]
     },
     "execution_count": 100,
     "metadata": {},
     "output_type": "execute_result"
    }
   ],
   "source": [
    "#How to make a cross tab\n",
    "\n",
    "#Remember you Binarized this/ Replace Categorical with Numerical\n",
    "#data_F['Married'].replace(['Yes', 'No'],\n",
    "#                        [0, 1], inplace=True)\n",
    "#data_F['Gender'].replace(['Male', 'Female'],\n",
    "#       \t                [0, 1], inplace=True)\n",
    "#data_F['Education'].replace(['Graduate', 'Not Graduate'],\n",
    "#       \t                [0, 1], inplace=True)\n",
    "#data_F['Self_Employed'].replace(['Yes', 'No'],\n",
    "#       \t                [1, 0], inplace=True)\n",
    "\n",
    "xtabdepeded = pd.crosstab(df[\"Dependents\"], [df[\"Education\"]] ,rownames=[\"Dependents\"], colnames=[\"Education\"]  )\n",
    "xtabdepeded"
   ]
  },
  {
   "cell_type": "code",
   "execution_count": 101,
   "id": "4161550e",
   "metadata": {},
   "outputs": [
    {
     "data": {
      "text/html": [
       "<div>\n",
       "<style scoped>\n",
       "    .dataframe tbody tr th:only-of-type {\n",
       "        vertical-align: middle;\n",
       "    }\n",
       "\n",
       "    .dataframe tbody tr th {\n",
       "        vertical-align: top;\n",
       "    }\n",
       "\n",
       "    .dataframe thead th {\n",
       "        text-align: right;\n",
       "    }\n",
       "</style>\n",
       "<table border=\"1\" class=\"dataframe\">\n",
       "  <thead>\n",
       "    <tr style=\"text-align: right;\">\n",
       "      <th>Married</th>\n",
       "      <th>0</th>\n",
       "      <th>1</th>\n",
       "    </tr>\n",
       "    <tr>\n",
       "      <th>Dependents</th>\n",
       "      <th></th>\n",
       "      <th></th>\n",
       "    </tr>\n",
       "  </thead>\n",
       "  <tbody>\n",
       "    <tr>\n",
       "      <th>0.0</th>\n",
       "      <td>185</td>\n",
       "      <td>175</td>\n",
       "    </tr>\n",
       "    <tr>\n",
       "      <th>1.0</th>\n",
       "      <td>79</td>\n",
       "      <td>23</td>\n",
       "    </tr>\n",
       "    <tr>\n",
       "      <th>2.0</th>\n",
       "      <td>93</td>\n",
       "      <td>8</td>\n",
       "    </tr>\n",
       "    <tr>\n",
       "      <th>3.0</th>\n",
       "      <td>44</td>\n",
       "      <td>7</td>\n",
       "    </tr>\n",
       "  </tbody>\n",
       "</table>\n",
       "</div>"
      ],
      "text/plain": [
       "Married       0    1\n",
       "Dependents          \n",
       "0.0         185  175\n",
       "1.0          79   23\n",
       "2.0          93    8\n",
       "3.0          44    7"
      ]
     },
     "execution_count": 101,
     "metadata": {},
     "output_type": "execute_result"
    }
   ],
   "source": [
    "xtabdepmarr = pd.crosstab(df[\"Dependents\"], [df[\"Married\"]] ,rownames=[\"Dependents\"], colnames=[\"Married\"]  )\n",
    "xtabdepmarr"
   ]
  },
  {
   "cell_type": "code",
   "execution_count": 102,
   "id": "0d0395f9",
   "metadata": {},
   "outputs": [
    {
     "data": {
      "text/html": [
       "<div>\n",
       "<style scoped>\n",
       "    .dataframe tbody tr th:only-of-type {\n",
       "        vertical-align: middle;\n",
       "    }\n",
       "\n",
       "    .dataframe tbody tr th {\n",
       "        vertical-align: top;\n",
       "    }\n",
       "\n",
       "    .dataframe thead tr th {\n",
       "        text-align: left;\n",
       "    }\n",
       "\n",
       "    .dataframe thead tr:last-of-type th {\n",
       "        text-align: right;\n",
       "    }\n",
       "</style>\n",
       "<table border=\"1\" class=\"dataframe\">\n",
       "  <thead>\n",
       "    <tr>\n",
       "      <th>Dependents</th>\n",
       "      <th colspan=\"2\" halign=\"left\">0.0</th>\n",
       "      <th colspan=\"2\" halign=\"left\">1.0</th>\n",
       "      <th colspan=\"2\" halign=\"left\">2.0</th>\n",
       "      <th colspan=\"2\" halign=\"left\">3.0</th>\n",
       "    </tr>\n",
       "    <tr>\n",
       "      <th>Education</th>\n",
       "      <th>0</th>\n",
       "      <th>1</th>\n",
       "      <th>0</th>\n",
       "      <th>1</th>\n",
       "      <th>0</th>\n",
       "      <th>1</th>\n",
       "      <th>0</th>\n",
       "      <th>1</th>\n",
       "    </tr>\n",
       "    <tr>\n",
       "      <th>Married</th>\n",
       "      <th></th>\n",
       "      <th></th>\n",
       "      <th></th>\n",
       "      <th></th>\n",
       "      <th></th>\n",
       "      <th></th>\n",
       "      <th></th>\n",
       "      <th></th>\n",
       "    </tr>\n",
       "  </thead>\n",
       "  <tbody>\n",
       "    <tr>\n",
       "      <th>0</th>\n",
       "      <td>147</td>\n",
       "      <td>38</td>\n",
       "      <td>65</td>\n",
       "      <td>14</td>\n",
       "      <td>69</td>\n",
       "      <td>24</td>\n",
       "      <td>31</td>\n",
       "      <td>13</td>\n",
       "    </tr>\n",
       "    <tr>\n",
       "      <th>1</th>\n",
       "      <td>139</td>\n",
       "      <td>36</td>\n",
       "      <td>16</td>\n",
       "      <td>7</td>\n",
       "      <td>8</td>\n",
       "      <td>0</td>\n",
       "      <td>5</td>\n",
       "      <td>2</td>\n",
       "    </tr>\n",
       "  </tbody>\n",
       "</table>\n",
       "</div>"
      ],
      "text/plain": [
       "Dependents  0.0     1.0     2.0     3.0    \n",
       "Education     0   1   0   1   0   1   0   1\n",
       "Married                                    \n",
       "0           147  38  65  14  69  24  31  13\n",
       "1           139  36  16   7   8   0   5   2"
      ]
     },
     "execution_count": 102,
     "metadata": {},
     "output_type": "execute_result"
    }
   ],
   "source": [
    "xtabMarrEd = pd.crosstab(df[\"Married\"], [df[\"Dependents\"], df[\"Education\"]] ,rownames=[\"Married\"], colnames=[\"Dependents\", \"Education\"])\n",
    "xtabMarrEd "
   ]
  },
  {
   "cell_type": "code",
   "execution_count": 103,
   "id": "b4a75800",
   "metadata": {},
   "outputs": [
    {
     "name": "stdout",
     "output_type": "stream",
     "text": [
      "stat=2.374, p=0.498, dof=3.000\n",
      "Probably independent\n"
     ]
    }
   ],
   "source": [
    "#H_0 = There is no association/ there is no good of fit between Dependents and Marital Status (unrelated)\n",
    "#H_1 = There is a association/ good fit between Dependents and Marital Status\n",
    "\n",
    "stat, p, dof, expected = chi2_contingency([xtabdepeded[0], xtabdepeded[1]])\n",
    "\n",
    "print('stat=%.3f, p=%.3f, dof=%.3f' % (stat, p, dof))\n",
    "if p > 0.05:\n",
    "    print('Probably independent')\n",
    "else:\n",
    "    print('Probably dependent')"
   ]
  },
  {
   "cell_type": "code",
   "execution_count": 104,
   "id": "93d75e5d",
   "metadata": {},
   "outputs": [
    {
     "name": "stdout",
     "output_type": "stream",
     "text": [
      "stat=79.269, p=0.000, dof=3.000\n",
      "Probably dependent\n"
     ]
    }
   ],
   "source": [
    "#H_0 = There is no association/ there is no good of fit between Education and Dependents (unrelated)\n",
    "#H_1 = There is a association/ good fit between Education and Dependents\n",
    "\n",
    "stat, p, dof, expected = chi2_contingency([xtabdepmarr [0], xtabdepmarr [1]])\n",
    "\n",
    "print('stat=%.3f, p=%.3f, dof=%.3f' % (stat, p, dof))\n",
    "if p > 0.05:\n",
    "    print('Probably independent')\n",
    "else:\n",
    "    print('Probably dependent')"
   ]
  },
  {
   "cell_type": "code",
   "execution_count": 115,
   "id": "c07dab53",
   "metadata": {},
   "outputs": [],
   "source": []
  },
  {
   "cell_type": "code",
   "execution_count": 145,
   "id": "e1d61a9d",
   "metadata": {},
   "outputs": [
    {
     "name": "stdout",
     "output_type": "stream",
     "text": [
      "Statistic: 5.0127344877344875 pvalue: 0.542180861413329\n"
     ]
    },
    {
     "data": {
      "image/png": "[encoded data removed]",
      "text/plain": [
       "<Figure size 432x288 with 1 Axes>"
      ]
     },
     "metadata": {
      "needs_background": "light"
     },
     "output_type": "display_data"
    }
   ],
   "source": [
    "#Chi squared goodness of fit.\n",
    "#H_0 = There is no difference between the observed and the expected\n",
    "#H_1 = There is a difference between the observed and the expected\n",
    "expected = [9, 8, 11, 8, 10, 7, 6]\n",
    "observed = [8, 6, 10, 7, 8, 11, 9]\n",
    "\n",
    "#chisquare(observed, f_exp=expected )\n",
    "#What do the DOF influence\n",
    "\n",
    "chi_square_stats = chisquare(f_obs=observed, f_exp=expected)\n",
    "\n",
    "print(\"Statistic:\", chi_square_stats[0], \"pvalue:\", chi_square_stats[1])\n",
    "\n",
    "#A good way of visualizing goodness of fit is plotting predicted vs observed. Is it tight?\n",
    "plt.scatter(expected,observed)\n",
    "plt.plot([0,20], [0,20])\n",
    "plt.title(\"Predicted vs observed\")\n",
    "plt.xlabel(\"Expected\")\n",
    "plt.ylabel(\"Observed\")\n",
    "plt.grid()\n",
    "plt.show()"
   ]
  },
  {
   "cell_type": "code",
   "execution_count": null,
   "id": "ba85507c",
   "metadata": {},
   "outputs": [],
   "source": []
  },
  {
   "cell_type": "code",
   "execution_count": null,
   "id": "58372b2a",
   "metadata": {},
   "outputs": [],
   "source": []
  },
  {
   "cell_type": "code",
   "execution_count": 147,
   "id": "5eff93cd",
   "metadata": {
    "scrolled": true
   },
   "outputs": [
    {
     "data": {
      "text/html": [
       "<div>\n",
       "<style scoped>\n",
       "    .dataframe tbody tr th:only-of-type {\n",
       "        vertical-align: middle;\n",
       "    }\n",
       "\n",
       "    .dataframe tbody tr th {\n",
       "        vertical-align: top;\n",
       "    }\n",
       "\n",
       "    .dataframe thead th {\n",
       "        text-align: right;\n",
       "    }\n",
       "</style>\n",
       "<table border=\"1\" class=\"dataframe\">\n",
       "  <thead>\n",
       "    <tr style=\"text-align: right;\">\n",
       "      <th></th>\n",
       "      <th>title</th>\n",
       "      <th>copies_sold</th>\n",
       "      <th>genre</th>\n",
       "      <th>developer</th>\n",
       "      <th>publisher</th>\n",
       "      <th>as_of</th>\n",
       "      <th>release_date</th>\n",
       "    </tr>\n",
       "  </thead>\n",
       "  <tbody>\n",
       "    <tr>\n",
       "      <th>0</th>\n",
       "      <td>Mario Kart 8 Deluxe</td>\n",
       "      <td>48410000.0</td>\n",
       "      <td>Kart racing</td>\n",
       "      <td>Nintendo EPD</td>\n",
       "      <td>Nintendo</td>\n",
       "      <td>2022-09-30</td>\n",
       "      <td>2017-04-28</td>\n",
       "    </tr>\n",
       "    <tr>\n",
       "      <th>1</th>\n",
       "      <td>Animal Crossing: New Horizons</td>\n",
       "      <td>40170000.0</td>\n",
       "      <td>Social simulation</td>\n",
       "      <td>Nintendo EPD</td>\n",
       "      <td>Nintendo</td>\n",
       "      <td>2022-09-30</td>\n",
       "      <td>2020-03-20</td>\n",
       "    </tr>\n",
       "    <tr>\n",
       "      <th>2</th>\n",
       "      <td>Super Smash Bros. Ultimate</td>\n",
       "      <td>29530000.0</td>\n",
       "      <td>Fighting</td>\n",
       "      <td>Bandai Namco StudiosSora Ltd.</td>\n",
       "      <td>Nintendo</td>\n",
       "      <td>2022-09-30</td>\n",
       "      <td>2018-12-07</td>\n",
       "    </tr>\n",
       "    <tr>\n",
       "      <th>3</th>\n",
       "      <td>The Legend of Zelda: Breath of the Wild</td>\n",
       "      <td>27790000.0</td>\n",
       "      <td>Action-adventure</td>\n",
       "      <td>Nintendo EPD</td>\n",
       "      <td>Nintendo</td>\n",
       "      <td>2022-09-30</td>\n",
       "      <td>2017-03-03</td>\n",
       "    </tr>\n",
       "    <tr>\n",
       "      <th>4</th>\n",
       "      <td>Pokémon Sword and Shield</td>\n",
       "      <td>25370000.0</td>\n",
       "      <td>Role-playing</td>\n",
       "      <td>Game Freak</td>\n",
       "      <td>The Pokémon CompanyNintendo</td>\n",
       "      <td>2022-09-30</td>\n",
       "      <td>2019-11-15</td>\n",
       "    </tr>\n",
       "    <tr>\n",
       "      <th>...</th>\n",
       "      <td>...</td>\n",
       "      <td>...</td>\n",
       "      <td>...</td>\n",
       "      <td>...</td>\n",
       "      <td>...</td>\n",
       "      <td>...</td>\n",
       "      <td>...</td>\n",
       "    </tr>\n",
       "    <tr>\n",
       "      <th>68</th>\n",
       "      <td>Fitness Boxing</td>\n",
       "      <td>1000000.0</td>\n",
       "      <td>Exergamerhythm</td>\n",
       "      <td>Imagineer</td>\n",
       "      <td>JP: ImagineerNA/PAL: Nintendo</td>\n",
       "      <td>2020-09-08</td>\n",
       "      <td>2018-12-20</td>\n",
       "    </tr>\n",
       "    <tr>\n",
       "      <th>69</th>\n",
       "      <td>Fitness Boxing 2: Rhythm and Exercise</td>\n",
       "      <td>1000000.0</td>\n",
       "      <td>Exergamerhythm</td>\n",
       "      <td>Imagineer</td>\n",
       "      <td>JP: ImagineerNA/PAL: Nintendo</td>\n",
       "      <td>2021-12-09</td>\n",
       "      <td>2020-12-04</td>\n",
       "    </tr>\n",
       "    <tr>\n",
       "      <th>70</th>\n",
       "      <td>Shin Megami Tensei V</td>\n",
       "      <td>1000000.0</td>\n",
       "      <td>Role-playing</td>\n",
       "      <td>Atlus</td>\n",
       "      <td>JP: AtlusNA: SegaPAL: Nintendo</td>\n",
       "      <td>2022-04-18</td>\n",
       "      <td>2021-11-11</td>\n",
       "    </tr>\n",
       "    <tr>\n",
       "      <th>71</th>\n",
       "      <td>Story of Seasons: Pioneers of Olive Town</td>\n",
       "      <td>1000000.0</td>\n",
       "      <td>Simulationrole-playing</td>\n",
       "      <td>Marvelous</td>\n",
       "      <td>Xseed Games</td>\n",
       "      <td>2021-11-18</td>\n",
       "      <td>2021-02-25</td>\n",
       "    </tr>\n",
       "    <tr>\n",
       "      <th>72</th>\n",
       "      <td>Thief Simulator</td>\n",
       "      <td>1000000.0</td>\n",
       "      <td>Stealth</td>\n",
       "      <td>Noble Muffins</td>\n",
       "      <td>Forever Entertainment</td>\n",
       "      <td>2021-07-16</td>\n",
       "      <td>2019-05-19</td>\n",
       "    </tr>\n",
       "  </tbody>\n",
       "</table>\n",
       "<p>73 rows × 7 columns</p>\n",
       "</div>"
      ],
      "text/plain": [
       "                                       title  copies_sold  \\\n",
       "0                        Mario Kart 8 Deluxe   48410000.0   \n",
       "1              Animal Crossing: New Horizons   40170000.0   \n",
       "2                 Super Smash Bros. Ultimate   29530000.0   \n",
       "3    The Legend of Zelda: Breath of the Wild   27790000.0   \n",
       "4                   Pokémon Sword and Shield   25370000.0   \n",
       "..                                       ...          ...   \n",
       "68                            Fitness Boxing    1000000.0   \n",
       "69     Fitness Boxing 2: Rhythm and Exercise    1000000.0   \n",
       "70                      Shin Megami Tensei V    1000000.0   \n",
       "71  Story of Seasons: Pioneers of Olive Town    1000000.0   \n",
       "72                           Thief Simulator    1000000.0   \n",
       "\n",
       "                     genre                      developer  \\\n",
       "0              Kart racing                   Nintendo EPD   \n",
       "1        Social simulation                   Nintendo EPD   \n",
       "2                 Fighting  Bandai Namco StudiosSora Ltd.   \n",
       "3         Action-adventure                   Nintendo EPD   \n",
       "4             Role-playing                     Game Freak   \n",
       "..                     ...                            ...   \n",
       "68          Exergamerhythm                      Imagineer   \n",
       "69          Exergamerhythm                      Imagineer   \n",
       "70            Role-playing                          Atlus   \n",
       "71  Simulationrole-playing                      Marvelous   \n",
       "72                 Stealth                  Noble Muffins   \n",
       "\n",
       "                         publisher       as_of release_date  \n",
       "0                         Nintendo  2022-09-30   2017-04-28  \n",
       "1                         Nintendo  2022-09-30   2020-03-20  \n",
       "2                         Nintendo  2022-09-30   2018-12-07  \n",
       "3                         Nintendo  2022-09-30   2017-03-03  \n",
       "4      The Pokémon CompanyNintendo  2022-09-30   2019-11-15  \n",
       "..                             ...         ...          ...  \n",
       "68   JP: ImagineerNA/PAL: Nintendo  2020-09-08   2018-12-20  \n",
       "69   JP: ImagineerNA/PAL: Nintendo  2021-12-09   2020-12-04  \n",
       "70  JP: AtlusNA: SegaPAL: Nintendo  2022-04-18   2021-11-11  \n",
       "71                     Xseed Games  2021-11-18   2021-02-25  \n",
       "72           Forever Entertainment  2021-07-16   2019-05-19  \n",
       "\n",
       "[73 rows x 7 columns]"
      ]
     },
     "execution_count": 147,
     "metadata": {},
     "output_type": "execute_result"
    }
   ],
   "source": [
    "df = pd.read_csv('./data/best_selling_switch_games.csv')\n",
    "\n",
    "dfori = df.copy()\n",
    "dfori"
   ]
  },
  {
   "cell_type": "code",
   "execution_count": null,
   "id": "700d4c55",
   "metadata": {},
   "outputs": [],
   "source": [
    "#Lets think of some tests to do with this data and how to structure the data to carry those tests out."
   ]
  },
  {
   "cell_type": "code",
   "execution_count": 156,
   "id": "db300a0d",
   "metadata": {},
   "outputs": [
    {
     "name": "stdout",
     "output_type": "stream",
     "text": [
      "Do some developers sell more copies than others?\n",
      "H_o: There is no difference between game developer A and game developer B in terms of N copies sold\n",
      "H_1: There is a difference between game developer A and game developer B in terms of N copies sold\n",
      "You can also make a correlation matrix for this.\n"
     ]
    }
   ],
   "source": [
    "#Game Developers impact N copies sold.\n",
    "\n",
    "print(\"Do some developers sell more copies than others?\")\n",
    "print(\"H_o: There is no difference between game developer A and game developer B in terms of N copies sold\")\n",
    "print(\"H_1: There is a difference between game developer A and game developer B in terms of N copies sold\")\n",
    "print(\"You can also make a correlation matrix to visualize this.\")\n",
    "\n",
    "#For each developer\n",
    "    #Make an array containing data of N copies sold\n",
    "\n",
    "#You could also test Nintendo developed titles vs non Nintendo developed titles\n",
    "\n",
    "#Make two arrays. One with Nintendo developed titles () N copies sold and one with non Nintendo developed titles N copies sold \n",
    "    \n",
    "#ztest_reults = ztest(developer_a, developer_b,value=0)\n",
    "#print(\"Zscore:\", ztest_reultst[0], \"pValue\", ztest_reultst[1])"
   ]
  },
  {
   "cell_type": "code",
   "execution_count": 194,
   "id": "2390a024",
   "metadata": {},
   "outputs": [
    {
     "name": "stdout",
     "output_type": "stream",
     "text": [
      "It is often thought that more games are purchased at the holiday season versus off season\n",
      "H_o: There is no correlation between release date(month) and number of copies sold\n",
      "H_1: There is a correlation between release date and number of copies sold\n",
      "\n",
      "It would be interesting to test release date of previous year data versus current years data.\n",
      "Is last years data a good predictor of this years data?\n"
     ]
    }
   ],
   "source": [
    "#Release date\n",
    "\n",
    "print(\"It is often thought that more games are purchased at the holiday season versus off season\")\n",
    "\n",
    "print(\"H_o: There is no correlation between release date(month) and number of copies sold\")\n",
    "print(\"H_1: There is a correlation between release date and number of copies sold\\n\")\n",
    "\n",
    "print(\"It would be interesting to test release date of previous year data versus current years data.\")\n",
    "print(\"Is last years data a good predictor of this years data?\")\n",
    "\n",
    "print(\"H_o: There is no correlation between sales of last year and sales of this year\")\n",
    "print(\"H_1: There is a correlation between sales of last year and sales of this year\\n\")\n",
    "\n",
    "#How would we test that?\n",
    "    #Convert release date into 12 bins. One for each month\n",
    "    \n",
    "    #Sum N copies sold in each bin.\n",
    "    \n",
    "    #Make a linspace of indexes for each month starting from jan to december (1 to 12)\n",
    "    \n",
    "    #It would be interesting to to test release date of previous year data versus current years data.\n",
    "    #Is the current years data a good predictor of this years data?\n",
    "    #Same thing but your inputs would be lists of sum(N copies sold) of len = 12\n",
    "    \n",
    "    #Use pearson correlation test: corr = stats.pearsonr(month, N copies sold)\n",
    "    #Use pearson correlation test: corr = stats.pearsonr(last_year_N_copies, This_year_N_copies)"
   ]
  },
  {
   "cell_type": "code",
   "execution_count": 203,
   "id": "649c6ce6",
   "metadata": {},
   "outputs": [
    {
     "name": "stdout",
     "output_type": "stream",
     "text": [
      "Roleplaying and action roleplaying sell the at the rate same. Do they?\n",
      "H_o: There is no difference between the N copies sold of roleplaying and N copies sold of action roleplaying\n",
      "H_1: There is a difference between the N copies sold of roleplaying and N copies sold of action roleplaying\n",
      "\n",
      "H_o: There is no difference between the distribution of genres released by developer A vs developer B\n",
      "H_1: There is a difference between the distribution of genres released by developer A vs developer B\n",
      "\n"
     ]
    }
   ],
   "source": [
    "print(\"Roleplaying and action roleplaying sell the at the rate same. Do they?\")\n",
    "print(\"H_o: There is no difference between the N copies sold of roleplaying and N copies sold of action roleplaying\")\n",
    "print(\"H_1: There is a difference between the N copies sold of roleplaying and N copies sold of action roleplaying\\n\")\n",
    "    \n",
    "#ztest_reults = ztest(N_copies_RPG, N_copies_ARPG)\n",
    "#Interpret result\n",
    "\n",
    "#It would be interesting to bring in the developer as well. Test associations of some developers versus the genre of games\n",
    "#they release.\n",
    "\n",
    "print(\"H_o: There is no difference between the distribution of genres released by developer A vs developer B\")\n",
    "print(\"H_1: There is a difference between the distribution of genres released by developer A vs developer B\\n\")\n",
    "\n",
    "#How would we test this?"
   ]
  },
  {
   "cell_type": "code",
   "execution_count": null,
   "id": "9ffc08b3",
   "metadata": {},
   "outputs": [],
   "source": []
  },
  {
   "cell_type": "code",
   "execution_count": 572,
   "id": "0957211a",
   "metadata": {},
   "outputs": [],
   "source": []
  }
 ],
 "metadata": {
  "kernelspec": {
   "display_name": "Python 3 (ipykernel)",
   "language": "python",
   "name": "python3"
  },
  "language_info": {
   "codemirror_mode": {
    "name": "ipython",
    "version": 3
   },
   "file_extension": ".py",
   "mimetype": "text/x-python",
   "name": "python",
   "nbconvert_exporter": "python",
   "pygments_lexer": "ipython3",
   "version": "3.9.12"
  }
 },
 "nbformat": 4,
 "nbformat_minor": 5
}
